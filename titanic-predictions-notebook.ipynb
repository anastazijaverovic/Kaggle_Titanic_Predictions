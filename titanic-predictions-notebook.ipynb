{
 "cells": [
  {
   "cell_type": "markdown",
   "id": "enabling-military",
   "metadata": {
    "papermill": {
     "duration": 0.066792,
     "end_time": "2021-05-18T18:15:52.762967",
     "exception": false,
     "start_time": "2021-05-18T18:15:52.696175",
     "status": "completed"
    },
    "tags": []
   },
   "source": [
    "# **Titanic Kaggle Competition Predictions**\n",
    "********"
   ]
  },
  {
   "cell_type": "markdown",
   "id": "composite-terrace",
   "metadata": {
    "papermill": {
     "duration": 0.049975,
     "end_time": "2021-05-18T18:15:52.864877",
     "exception": false,
     "start_time": "2021-05-18T18:15:52.814902",
     "status": "completed"
    },
    "tags": []
   },
   "source": [
    "# Problem description\n",
    "****"
   ]
  },
  {
   "cell_type": "markdown",
   "id": "voluntary-policy",
   "metadata": {
    "papermill": {
     "duration": 0.049796,
     "end_time": "2021-05-18T18:15:52.965092",
     "exception": false,
     "start_time": "2021-05-18T18:15:52.915296",
     "status": "completed"
    },
    "tags": []
   },
   "source": [
    "The sinking of the Titanic is one of the most infamous shipwrecks in history.\n",
    "\n",
    "On April 15, 1912, during her maiden voyage, the widely considered “unsinkable” RMS Titanic sank after colliding with an iceberg. Unfortunately, there weren’t enough lifeboats for everyone onboard, resulting in the death of 1502 out of 2224 passengers and crew.\n",
    "\n",
    "While there was some element of luck involved in surviving, it seems some groups of people were more likely to survive than others.\n",
    "\n",
    "In this challenge, the goal is to build a predictive model that answers the question: “what sorts of people were more likely to survive?” using passenger data (ie name, age, gender, socio-economic class, etc)."
   ]
  },
  {
   "cell_type": "markdown",
   "id": "verified-worthy",
   "metadata": {
    "papermill": {
     "duration": 0.051289,
     "end_time": "2021-05-18T18:15:53.067298",
     "exception": false,
     "start_time": "2021-05-18T18:15:53.016009",
     "status": "completed"
    },
    "tags": []
   },
   "source": [
    "**Dataset features:**\n",
    "****\n",
    "\n",
    "Survived: Outcome of survival (0 = No; 1 = Yes)\n",
    "\n",
    "Pclass: Socio-economic class (1 = Upper class; 2 = Middle class; 3 = Lower class)\n",
    "\n",
    "Name: Name of passenger\n",
    "\n",
    "Sex: Sex of the passenger\n",
    "\n",
    "Age: Age of the passenger (Some entries contain NaN)\n",
    "\n",
    "SibSp: Number of siblings and spouses of the passenger aboard\n",
    "\n",
    "Parch: Number of parents and children of the passenger aboard\n",
    "\n",
    "Ticket: Ticket number of the passenger\n",
    "\n",
    "Fare: Fare paid by the passenger\n",
    "\n",
    "Cabin Cabin number of the passenger (Some entries contain NaN)\n",
    "\n",
    "Embarked: Port of embarkation of the passenger (C = Cherbourg; Q = Queenstown; S = Southampton)\n"
   ]
  },
  {
   "cell_type": "markdown",
   "id": "boring-school",
   "metadata": {
    "papermill": {
     "duration": 0.052705,
     "end_time": "2021-05-18T18:15:53.172286",
     "exception": false,
     "start_time": "2021-05-18T18:15:53.119581",
     "status": "completed"
    },
    "tags": []
   },
   "source": [
    "# Importing the libraries\n",
    "****"
   ]
  },
  {
   "cell_type": "code",
   "execution_count": 1,
   "id": "valued-tablet",
   "metadata": {
    "_cell_guid": "b1076dfc-b9ad-4769-8c92-a6c4dae69d19",
    "_uuid": "8f2839f25d086af736a60e9eeb907d3b93b6e0e5",
    "execution": {
     "iopub.execute_input": "2021-05-18T18:15:53.284231Z",
     "iopub.status.busy": "2021-05-18T18:15:53.283536Z",
     "iopub.status.idle": "2021-05-18T18:15:54.472195Z",
     "shell.execute_reply": "2021-05-18T18:15:54.472750Z"
    },
    "papermill": {
     "duration": 1.251449,
     "end_time": "2021-05-18T18:15:54.473070",
     "exception": false,
     "start_time": "2021-05-18T18:15:53.221621",
     "status": "completed"
    },
    "tags": []
   },
   "outputs": [
    {
     "name": "stdout",
     "output_type": "stream",
     "text": [
      "/kaggle/input/titanic/train.csv\n",
      "/kaggle/input/titanic/test.csv\n",
      "/kaggle/input/titanic/gender_submission.csv\n"
     ]
    }
   ],
   "source": [
    "import numpy as np # linear algebra\n",
    "import pandas as pd # data processing, CSV file I/O (e.g. pd.read_csv)\n",
    "import math\n",
    "import xgboost\n",
    "import matplotlib.pyplot as plt\n",
    "import warnings\n",
    "import seaborn as sn\n",
    "warnings.filterwarnings('ignore')\n",
    "from sklearn import preprocessing\n",
    "\n",
    "# Input data files are available in the read-only \"../input/\" directory\n",
    "# For example, running this (by clicking run or pressing Shift+Enter) will list all files under the input directory\n",
    "\n",
    "import os\n",
    "for dirname, _, filenames in os.walk('/kaggle/input'):\n",
    "    for filename in filenames:\n",
    "        print(os.path.join(dirname, filename))\n",
    "\n",
    "# You can write up to 20GB to the current directory (/kaggle/working/) that gets preserved as output when you create a version using \"Save & Run All\" \n",
    "# You can also write temporary files to /kaggle/temp/, but they won't be saved outside of the current session"
   ]
  },
  {
   "cell_type": "markdown",
   "id": "irish-planning",
   "metadata": {
    "papermill": {
     "duration": 0.05049,
     "end_time": "2021-05-18T18:15:54.574801",
     "exception": false,
     "start_time": "2021-05-18T18:15:54.524311",
     "status": "completed"
    },
    "tags": []
   },
   "source": [
    "# Importing the data\n",
    "****"
   ]
  },
  {
   "cell_type": "code",
   "execution_count": 2,
   "id": "amended-chorus",
   "metadata": {
    "execution": {
     "iopub.execute_input": "2021-05-18T18:15:54.679991Z",
     "iopub.status.busy": "2021-05-18T18:15:54.679270Z",
     "iopub.status.idle": "2021-05-18T18:15:54.707572Z",
     "shell.execute_reply": "2021-05-18T18:15:54.706979Z"
    },
    "papermill": {
     "duration": 0.081948,
     "end_time": "2021-05-18T18:15:54.707735",
     "exception": false,
     "start_time": "2021-05-18T18:15:54.625787",
     "status": "completed"
    },
    "tags": []
   },
   "outputs": [],
   "source": [
    "training_set = pd.read_csv('/kaggle/input/titanic/train.csv')\n",
    "test_set = pd.read_csv('/kaggle/input/titanic/test.csv')"
   ]
  },
  {
   "cell_type": "markdown",
   "id": "fuzzy-circulation",
   "metadata": {
    "papermill": {
     "duration": 0.0498,
     "end_time": "2021-05-18T18:15:54.808217",
     "exception": false,
     "start_time": "2021-05-18T18:15:54.758417",
     "status": "completed"
    },
    "tags": []
   },
   "source": [
    "# Data exploration\n",
    "****"
   ]
  },
  {
   "cell_type": "code",
   "execution_count": 3,
   "id": "surgical-corpus",
   "metadata": {
    "execution": {
     "iopub.execute_input": "2021-05-18T18:15:54.926699Z",
     "iopub.status.busy": "2021-05-18T18:15:54.925987Z",
     "iopub.status.idle": "2021-05-18T18:15:54.952396Z",
     "shell.execute_reply": "2021-05-18T18:15:54.951736Z"
    },
    "papermill": {
     "duration": 0.089321,
     "end_time": "2021-05-18T18:15:54.952552",
     "exception": false,
     "start_time": "2021-05-18T18:15:54.863231",
     "status": "completed"
    },
    "tags": []
   },
   "outputs": [
    {
     "data": {
      "text/html": [
       "<div>\n",
       "<style scoped>\n",
       "    .dataframe tbody tr th:only-of-type {\n",
       "        vertical-align: middle;\n",
       "    }\n",
       "\n",
       "    .dataframe tbody tr th {\n",
       "        vertical-align: top;\n",
       "    }\n",
       "\n",
       "    .dataframe thead th {\n",
       "        text-align: right;\n",
       "    }\n",
       "</style>\n",
       "<table border=\"1\" class=\"dataframe\">\n",
       "  <thead>\n",
       "    <tr style=\"text-align: right;\">\n",
       "      <th></th>\n",
       "      <th>PassengerId</th>\n",
       "      <th>Survived</th>\n",
       "      <th>Pclass</th>\n",
       "      <th>Name</th>\n",
       "      <th>Sex</th>\n",
       "      <th>Age</th>\n",
       "      <th>SibSp</th>\n",
       "      <th>Parch</th>\n",
       "      <th>Ticket</th>\n",
       "      <th>Fare</th>\n",
       "      <th>Cabin</th>\n",
       "      <th>Embarked</th>\n",
       "    </tr>\n",
       "  </thead>\n",
       "  <tbody>\n",
       "    <tr>\n",
       "      <th>0</th>\n",
       "      <td>1</td>\n",
       "      <td>0</td>\n",
       "      <td>3</td>\n",
       "      <td>Braund, Mr. Owen Harris</td>\n",
       "      <td>male</td>\n",
       "      <td>22.0</td>\n",
       "      <td>1</td>\n",
       "      <td>0</td>\n",
       "      <td>A/5 21171</td>\n",
       "      <td>7.2500</td>\n",
       "      <td>NaN</td>\n",
       "      <td>S</td>\n",
       "    </tr>\n",
       "    <tr>\n",
       "      <th>1</th>\n",
       "      <td>2</td>\n",
       "      <td>1</td>\n",
       "      <td>1</td>\n",
       "      <td>Cumings, Mrs. John Bradley (Florence Briggs Th...</td>\n",
       "      <td>female</td>\n",
       "      <td>38.0</td>\n",
       "      <td>1</td>\n",
       "      <td>0</td>\n",
       "      <td>PC 17599</td>\n",
       "      <td>71.2833</td>\n",
       "      <td>C85</td>\n",
       "      <td>C</td>\n",
       "    </tr>\n",
       "    <tr>\n",
       "      <th>2</th>\n",
       "      <td>3</td>\n",
       "      <td>1</td>\n",
       "      <td>3</td>\n",
       "      <td>Heikkinen, Miss. Laina</td>\n",
       "      <td>female</td>\n",
       "      <td>26.0</td>\n",
       "      <td>0</td>\n",
       "      <td>0</td>\n",
       "      <td>STON/O2. 3101282</td>\n",
       "      <td>7.9250</td>\n",
       "      <td>NaN</td>\n",
       "      <td>S</td>\n",
       "    </tr>\n",
       "    <tr>\n",
       "      <th>3</th>\n",
       "      <td>4</td>\n",
       "      <td>1</td>\n",
       "      <td>1</td>\n",
       "      <td>Futrelle, Mrs. Jacques Heath (Lily May Peel)</td>\n",
       "      <td>female</td>\n",
       "      <td>35.0</td>\n",
       "      <td>1</td>\n",
       "      <td>0</td>\n",
       "      <td>113803</td>\n",
       "      <td>53.1000</td>\n",
       "      <td>C123</td>\n",
       "      <td>S</td>\n",
       "    </tr>\n",
       "    <tr>\n",
       "      <th>4</th>\n",
       "      <td>5</td>\n",
       "      <td>0</td>\n",
       "      <td>3</td>\n",
       "      <td>Allen, Mr. William Henry</td>\n",
       "      <td>male</td>\n",
       "      <td>35.0</td>\n",
       "      <td>0</td>\n",
       "      <td>0</td>\n",
       "      <td>373450</td>\n",
       "      <td>8.0500</td>\n",
       "      <td>NaN</td>\n",
       "      <td>S</td>\n",
       "    </tr>\n",
       "  </tbody>\n",
       "</table>\n",
       "</div>"
      ],
      "text/plain": [
       "   PassengerId  Survived  Pclass  \\\n",
       "0            1         0       3   \n",
       "1            2         1       1   \n",
       "2            3         1       3   \n",
       "3            4         1       1   \n",
       "4            5         0       3   \n",
       "\n",
       "                                                Name     Sex   Age  SibSp  \\\n",
       "0                            Braund, Mr. Owen Harris    male  22.0      1   \n",
       "1  Cumings, Mrs. John Bradley (Florence Briggs Th...  female  38.0      1   \n",
       "2                             Heikkinen, Miss. Laina  female  26.0      0   \n",
       "3       Futrelle, Mrs. Jacques Heath (Lily May Peel)  female  35.0      1   \n",
       "4                           Allen, Mr. William Henry    male  35.0      0   \n",
       "\n",
       "   Parch            Ticket     Fare Cabin Embarked  \n",
       "0      0         A/5 21171   7.2500   NaN        S  \n",
       "1      0          PC 17599  71.2833   C85        C  \n",
       "2      0  STON/O2. 3101282   7.9250   NaN        S  \n",
       "3      0            113803  53.1000  C123        S  \n",
       "4      0            373450   8.0500   NaN        S  "
      ]
     },
     "execution_count": 3,
     "metadata": {},
     "output_type": "execute_result"
    }
   ],
   "source": [
    "training_set.head()"
   ]
  },
  {
   "cell_type": "code",
   "execution_count": 4,
   "id": "pacific-springfield",
   "metadata": {
    "execution": {
     "iopub.execute_input": "2021-05-18T18:15:55.065296Z",
     "iopub.status.busy": "2021-05-18T18:15:55.064310Z",
     "iopub.status.idle": "2021-05-18T18:15:55.068303Z",
     "shell.execute_reply": "2021-05-18T18:15:55.067748Z"
    },
    "papermill": {
     "duration": 0.064585,
     "end_time": "2021-05-18T18:15:55.068477",
     "exception": false,
     "start_time": "2021-05-18T18:15:55.003892",
     "status": "completed"
    },
    "tags": []
   },
   "outputs": [
    {
     "data": {
      "text/plain": [
       "PassengerId      int64\n",
       "Survived         int64\n",
       "Pclass           int64\n",
       "Name            object\n",
       "Sex             object\n",
       "Age            float64\n",
       "SibSp            int64\n",
       "Parch            int64\n",
       "Ticket          object\n",
       "Fare           float64\n",
       "Cabin           object\n",
       "Embarked        object\n",
       "dtype: object"
      ]
     },
     "execution_count": 4,
     "metadata": {},
     "output_type": "execute_result"
    }
   ],
   "source": [
    "training_set.dtypes"
   ]
  },
  {
   "cell_type": "code",
   "execution_count": 5,
   "id": "attached-intellectual",
   "metadata": {
    "execution": {
     "iopub.execute_input": "2021-05-18T18:15:55.187414Z",
     "iopub.status.busy": "2021-05-18T18:15:55.181202Z",
     "iopub.status.idle": "2021-05-18T18:15:55.220926Z",
     "shell.execute_reply": "2021-05-18T18:15:55.220230Z"
    },
    "papermill": {
     "duration": 0.099523,
     "end_time": "2021-05-18T18:15:55.221082",
     "exception": false,
     "start_time": "2021-05-18T18:15:55.121559",
     "status": "completed"
    },
    "tags": []
   },
   "outputs": [
    {
     "data": {
      "text/html": [
       "<div>\n",
       "<style scoped>\n",
       "    .dataframe tbody tr th:only-of-type {\n",
       "        vertical-align: middle;\n",
       "    }\n",
       "\n",
       "    .dataframe tbody tr th {\n",
       "        vertical-align: top;\n",
       "    }\n",
       "\n",
       "    .dataframe thead th {\n",
       "        text-align: right;\n",
       "    }\n",
       "</style>\n",
       "<table border=\"1\" class=\"dataframe\">\n",
       "  <thead>\n",
       "    <tr style=\"text-align: right;\">\n",
       "      <th></th>\n",
       "      <th>PassengerId</th>\n",
       "      <th>Survived</th>\n",
       "      <th>Pclass</th>\n",
       "      <th>Age</th>\n",
       "      <th>SibSp</th>\n",
       "      <th>Parch</th>\n",
       "      <th>Fare</th>\n",
       "    </tr>\n",
       "  </thead>\n",
       "  <tbody>\n",
       "    <tr>\n",
       "      <th>count</th>\n",
       "      <td>891.000000</td>\n",
       "      <td>891.000000</td>\n",
       "      <td>891.000000</td>\n",
       "      <td>714.000000</td>\n",
       "      <td>891.000000</td>\n",
       "      <td>891.000000</td>\n",
       "      <td>891.000000</td>\n",
       "    </tr>\n",
       "    <tr>\n",
       "      <th>mean</th>\n",
       "      <td>446.000000</td>\n",
       "      <td>0.383838</td>\n",
       "      <td>2.308642</td>\n",
       "      <td>29.699118</td>\n",
       "      <td>0.523008</td>\n",
       "      <td>0.381594</td>\n",
       "      <td>32.204208</td>\n",
       "    </tr>\n",
       "    <tr>\n",
       "      <th>std</th>\n",
       "      <td>257.353842</td>\n",
       "      <td>0.486592</td>\n",
       "      <td>0.836071</td>\n",
       "      <td>14.526497</td>\n",
       "      <td>1.102743</td>\n",
       "      <td>0.806057</td>\n",
       "      <td>49.693429</td>\n",
       "    </tr>\n",
       "    <tr>\n",
       "      <th>min</th>\n",
       "      <td>1.000000</td>\n",
       "      <td>0.000000</td>\n",
       "      <td>1.000000</td>\n",
       "      <td>0.420000</td>\n",
       "      <td>0.000000</td>\n",
       "      <td>0.000000</td>\n",
       "      <td>0.000000</td>\n",
       "    </tr>\n",
       "    <tr>\n",
       "      <th>25%</th>\n",
       "      <td>223.500000</td>\n",
       "      <td>0.000000</td>\n",
       "      <td>2.000000</td>\n",
       "      <td>20.125000</td>\n",
       "      <td>0.000000</td>\n",
       "      <td>0.000000</td>\n",
       "      <td>7.910400</td>\n",
       "    </tr>\n",
       "    <tr>\n",
       "      <th>50%</th>\n",
       "      <td>446.000000</td>\n",
       "      <td>0.000000</td>\n",
       "      <td>3.000000</td>\n",
       "      <td>28.000000</td>\n",
       "      <td>0.000000</td>\n",
       "      <td>0.000000</td>\n",
       "      <td>14.454200</td>\n",
       "    </tr>\n",
       "    <tr>\n",
       "      <th>75%</th>\n",
       "      <td>668.500000</td>\n",
       "      <td>1.000000</td>\n",
       "      <td>3.000000</td>\n",
       "      <td>38.000000</td>\n",
       "      <td>1.000000</td>\n",
       "      <td>0.000000</td>\n",
       "      <td>31.000000</td>\n",
       "    </tr>\n",
       "    <tr>\n",
       "      <th>max</th>\n",
       "      <td>891.000000</td>\n",
       "      <td>1.000000</td>\n",
       "      <td>3.000000</td>\n",
       "      <td>80.000000</td>\n",
       "      <td>8.000000</td>\n",
       "      <td>6.000000</td>\n",
       "      <td>512.329200</td>\n",
       "    </tr>\n",
       "  </tbody>\n",
       "</table>\n",
       "</div>"
      ],
      "text/plain": [
       "       PassengerId    Survived      Pclass         Age       SibSp  \\\n",
       "count   891.000000  891.000000  891.000000  714.000000  891.000000   \n",
       "mean    446.000000    0.383838    2.308642   29.699118    0.523008   \n",
       "std     257.353842    0.486592    0.836071   14.526497    1.102743   \n",
       "min       1.000000    0.000000    1.000000    0.420000    0.000000   \n",
       "25%     223.500000    0.000000    2.000000   20.125000    0.000000   \n",
       "50%     446.000000    0.000000    3.000000   28.000000    0.000000   \n",
       "75%     668.500000    1.000000    3.000000   38.000000    1.000000   \n",
       "max     891.000000    1.000000    3.000000   80.000000    8.000000   \n",
       "\n",
       "            Parch        Fare  \n",
       "count  891.000000  891.000000  \n",
       "mean     0.381594   32.204208  \n",
       "std      0.806057   49.693429  \n",
       "min      0.000000    0.000000  \n",
       "25%      0.000000    7.910400  \n",
       "50%      0.000000   14.454200  \n",
       "75%      0.000000   31.000000  \n",
       "max      6.000000  512.329200  "
      ]
     },
     "execution_count": 5,
     "metadata": {},
     "output_type": "execute_result"
    }
   ],
   "source": [
    "training_set.describe()"
   ]
  },
  {
   "cell_type": "code",
   "execution_count": 6,
   "id": "intelligent-ottawa",
   "metadata": {
    "execution": {
     "iopub.execute_input": "2021-05-18T18:15:55.349420Z",
     "iopub.status.busy": "2021-05-18T18:15:55.348442Z",
     "iopub.status.idle": "2021-05-18T18:15:55.353621Z",
     "shell.execute_reply": "2021-05-18T18:15:55.352917Z"
    },
    "papermill": {
     "duration": 0.077555,
     "end_time": "2021-05-18T18:15:55.353775",
     "exception": false,
     "start_time": "2021-05-18T18:15:55.276220",
     "status": "completed"
    },
    "tags": []
   },
   "outputs": [
    {
     "data": {
      "text/html": [
       "<div>\n",
       "<style scoped>\n",
       "    .dataframe tbody tr th:only-of-type {\n",
       "        vertical-align: middle;\n",
       "    }\n",
       "\n",
       "    .dataframe tbody tr th {\n",
       "        vertical-align: top;\n",
       "    }\n",
       "\n",
       "    .dataframe thead th {\n",
       "        text-align: right;\n",
       "    }\n",
       "</style>\n",
       "<table border=\"1\" class=\"dataframe\">\n",
       "  <thead>\n",
       "    <tr style=\"text-align: right;\">\n",
       "      <th></th>\n",
       "      <th>PassengerId</th>\n",
       "      <th>Pclass</th>\n",
       "      <th>Name</th>\n",
       "      <th>Sex</th>\n",
       "      <th>Age</th>\n",
       "      <th>SibSp</th>\n",
       "      <th>Parch</th>\n",
       "      <th>Ticket</th>\n",
       "      <th>Fare</th>\n",
       "      <th>Cabin</th>\n",
       "      <th>Embarked</th>\n",
       "    </tr>\n",
       "  </thead>\n",
       "  <tbody>\n",
       "    <tr>\n",
       "      <th>0</th>\n",
       "      <td>892</td>\n",
       "      <td>3</td>\n",
       "      <td>Kelly, Mr. James</td>\n",
       "      <td>male</td>\n",
       "      <td>34.5</td>\n",
       "      <td>0</td>\n",
       "      <td>0</td>\n",
       "      <td>330911</td>\n",
       "      <td>7.8292</td>\n",
       "      <td>NaN</td>\n",
       "      <td>Q</td>\n",
       "    </tr>\n",
       "    <tr>\n",
       "      <th>1</th>\n",
       "      <td>893</td>\n",
       "      <td>3</td>\n",
       "      <td>Wilkes, Mrs. James (Ellen Needs)</td>\n",
       "      <td>female</td>\n",
       "      <td>47.0</td>\n",
       "      <td>1</td>\n",
       "      <td>0</td>\n",
       "      <td>363272</td>\n",
       "      <td>7.0000</td>\n",
       "      <td>NaN</td>\n",
       "      <td>S</td>\n",
       "    </tr>\n",
       "    <tr>\n",
       "      <th>2</th>\n",
       "      <td>894</td>\n",
       "      <td>2</td>\n",
       "      <td>Myles, Mr. Thomas Francis</td>\n",
       "      <td>male</td>\n",
       "      <td>62.0</td>\n",
       "      <td>0</td>\n",
       "      <td>0</td>\n",
       "      <td>240276</td>\n",
       "      <td>9.6875</td>\n",
       "      <td>NaN</td>\n",
       "      <td>Q</td>\n",
       "    </tr>\n",
       "    <tr>\n",
       "      <th>3</th>\n",
       "      <td>895</td>\n",
       "      <td>3</td>\n",
       "      <td>Wirz, Mr. Albert</td>\n",
       "      <td>male</td>\n",
       "      <td>27.0</td>\n",
       "      <td>0</td>\n",
       "      <td>0</td>\n",
       "      <td>315154</td>\n",
       "      <td>8.6625</td>\n",
       "      <td>NaN</td>\n",
       "      <td>S</td>\n",
       "    </tr>\n",
       "    <tr>\n",
       "      <th>4</th>\n",
       "      <td>896</td>\n",
       "      <td>3</td>\n",
       "      <td>Hirvonen, Mrs. Alexander (Helga E Lindqvist)</td>\n",
       "      <td>female</td>\n",
       "      <td>22.0</td>\n",
       "      <td>1</td>\n",
       "      <td>1</td>\n",
       "      <td>3101298</td>\n",
       "      <td>12.2875</td>\n",
       "      <td>NaN</td>\n",
       "      <td>S</td>\n",
       "    </tr>\n",
       "  </tbody>\n",
       "</table>\n",
       "</div>"
      ],
      "text/plain": [
       "   PassengerId  Pclass                                          Name     Sex  \\\n",
       "0          892       3                              Kelly, Mr. James    male   \n",
       "1          893       3              Wilkes, Mrs. James (Ellen Needs)  female   \n",
       "2          894       2                     Myles, Mr. Thomas Francis    male   \n",
       "3          895       3                              Wirz, Mr. Albert    male   \n",
       "4          896       3  Hirvonen, Mrs. Alexander (Helga E Lindqvist)  female   \n",
       "\n",
       "    Age  SibSp  Parch   Ticket     Fare Cabin Embarked  \n",
       "0  34.5      0      0   330911   7.8292   NaN        Q  \n",
       "1  47.0      1      0   363272   7.0000   NaN        S  \n",
       "2  62.0      0      0   240276   9.6875   NaN        Q  \n",
       "3  27.0      0      0   315154   8.6625   NaN        S  \n",
       "4  22.0      1      1  3101298  12.2875   NaN        S  "
      ]
     },
     "execution_count": 6,
     "metadata": {},
     "output_type": "execute_result"
    }
   ],
   "source": [
    "test_set.head()"
   ]
  },
  {
   "cell_type": "code",
   "execution_count": 7,
   "id": "italic-europe",
   "metadata": {
    "execution": {
     "iopub.execute_input": "2021-05-18T18:15:55.473702Z",
     "iopub.status.busy": "2021-05-18T18:15:55.473027Z",
     "iopub.status.idle": "2021-05-18T18:15:55.495139Z",
     "shell.execute_reply": "2021-05-18T18:15:55.494539Z"
    },
    "papermill": {
     "duration": 0.088224,
     "end_time": "2021-05-18T18:15:55.495284",
     "exception": false,
     "start_time": "2021-05-18T18:15:55.407060",
     "status": "completed"
    },
    "tags": []
   },
   "outputs": [
    {
     "data": {
      "text/html": [
       "<div>\n",
       "<style scoped>\n",
       "    .dataframe tbody tr th:only-of-type {\n",
       "        vertical-align: middle;\n",
       "    }\n",
       "\n",
       "    .dataframe tbody tr th {\n",
       "        vertical-align: top;\n",
       "    }\n",
       "\n",
       "    .dataframe thead th {\n",
       "        text-align: right;\n",
       "    }\n",
       "</style>\n",
       "<table border=\"1\" class=\"dataframe\">\n",
       "  <thead>\n",
       "    <tr style=\"text-align: right;\">\n",
       "      <th></th>\n",
       "      <th>PassengerId</th>\n",
       "      <th>Pclass</th>\n",
       "      <th>Age</th>\n",
       "      <th>SibSp</th>\n",
       "      <th>Parch</th>\n",
       "      <th>Fare</th>\n",
       "    </tr>\n",
       "  </thead>\n",
       "  <tbody>\n",
       "    <tr>\n",
       "      <th>count</th>\n",
       "      <td>418.000000</td>\n",
       "      <td>418.000000</td>\n",
       "      <td>332.000000</td>\n",
       "      <td>418.000000</td>\n",
       "      <td>418.000000</td>\n",
       "      <td>417.000000</td>\n",
       "    </tr>\n",
       "    <tr>\n",
       "      <th>mean</th>\n",
       "      <td>1100.500000</td>\n",
       "      <td>2.265550</td>\n",
       "      <td>30.272590</td>\n",
       "      <td>0.447368</td>\n",
       "      <td>0.392344</td>\n",
       "      <td>35.627188</td>\n",
       "    </tr>\n",
       "    <tr>\n",
       "      <th>std</th>\n",
       "      <td>120.810458</td>\n",
       "      <td>0.841838</td>\n",
       "      <td>14.181209</td>\n",
       "      <td>0.896760</td>\n",
       "      <td>0.981429</td>\n",
       "      <td>55.907576</td>\n",
       "    </tr>\n",
       "    <tr>\n",
       "      <th>min</th>\n",
       "      <td>892.000000</td>\n",
       "      <td>1.000000</td>\n",
       "      <td>0.170000</td>\n",
       "      <td>0.000000</td>\n",
       "      <td>0.000000</td>\n",
       "      <td>0.000000</td>\n",
       "    </tr>\n",
       "    <tr>\n",
       "      <th>25%</th>\n",
       "      <td>996.250000</td>\n",
       "      <td>1.000000</td>\n",
       "      <td>21.000000</td>\n",
       "      <td>0.000000</td>\n",
       "      <td>0.000000</td>\n",
       "      <td>7.895800</td>\n",
       "    </tr>\n",
       "    <tr>\n",
       "      <th>50%</th>\n",
       "      <td>1100.500000</td>\n",
       "      <td>3.000000</td>\n",
       "      <td>27.000000</td>\n",
       "      <td>0.000000</td>\n",
       "      <td>0.000000</td>\n",
       "      <td>14.454200</td>\n",
       "    </tr>\n",
       "    <tr>\n",
       "      <th>75%</th>\n",
       "      <td>1204.750000</td>\n",
       "      <td>3.000000</td>\n",
       "      <td>39.000000</td>\n",
       "      <td>1.000000</td>\n",
       "      <td>0.000000</td>\n",
       "      <td>31.500000</td>\n",
       "    </tr>\n",
       "    <tr>\n",
       "      <th>max</th>\n",
       "      <td>1309.000000</td>\n",
       "      <td>3.000000</td>\n",
       "      <td>76.000000</td>\n",
       "      <td>8.000000</td>\n",
       "      <td>9.000000</td>\n",
       "      <td>512.329200</td>\n",
       "    </tr>\n",
       "  </tbody>\n",
       "</table>\n",
       "</div>"
      ],
      "text/plain": [
       "       PassengerId      Pclass         Age       SibSp       Parch        Fare\n",
       "count   418.000000  418.000000  332.000000  418.000000  418.000000  417.000000\n",
       "mean   1100.500000    2.265550   30.272590    0.447368    0.392344   35.627188\n",
       "std     120.810458    0.841838   14.181209    0.896760    0.981429   55.907576\n",
       "min     892.000000    1.000000    0.170000    0.000000    0.000000    0.000000\n",
       "25%     996.250000    1.000000   21.000000    0.000000    0.000000    7.895800\n",
       "50%    1100.500000    3.000000   27.000000    0.000000    0.000000   14.454200\n",
       "75%    1204.750000    3.000000   39.000000    1.000000    0.000000   31.500000\n",
       "max    1309.000000    3.000000   76.000000    8.000000    9.000000  512.329200"
      ]
     },
     "execution_count": 7,
     "metadata": {},
     "output_type": "execute_result"
    }
   ],
   "source": [
    "test_set.describe()"
   ]
  },
  {
   "cell_type": "markdown",
   "id": "exciting-indianapolis",
   "metadata": {
    "papermill": {
     "duration": 0.053306,
     "end_time": "2021-05-18T18:15:55.601902",
     "exception": false,
     "start_time": "2021-05-18T18:15:55.548596",
     "status": "completed"
    },
    "tags": []
   },
   "source": [
    "# Detecting and dealing with unknown data\n",
    "****"
   ]
  },
  {
   "cell_type": "markdown",
   "id": "severe-punishment",
   "metadata": {
    "papermill": {
     "duration": 0.05438,
     "end_time": "2021-05-18T18:15:55.710854",
     "exception": false,
     "start_time": "2021-05-18T18:15:55.656474",
     "status": "completed"
    },
    "tags": []
   },
   "source": [
    "Filling unknown data with mean/median or removing the data"
   ]
  },
  {
   "cell_type": "code",
   "execution_count": 8,
   "id": "recorded-volleyball",
   "metadata": {
    "execution": {
     "iopub.execute_input": "2021-05-18T18:15:55.829335Z",
     "iopub.status.busy": "2021-05-18T18:15:55.828580Z",
     "iopub.status.idle": "2021-05-18T18:15:55.833103Z",
     "shell.execute_reply": "2021-05-18T18:15:55.832557Z"
    },
    "papermill": {
     "duration": 0.067353,
     "end_time": "2021-05-18T18:15:55.833245",
     "exception": false,
     "start_time": "2021-05-18T18:15:55.765892",
     "status": "completed"
    },
    "tags": []
   },
   "outputs": [
    {
     "name": "stdout",
     "output_type": "stream",
     "text": [
      "PassengerId      0\n",
      "Survived         0\n",
      "Pclass           0\n",
      "Name             0\n",
      "Sex              0\n",
      "Age            177\n",
      "SibSp            0\n",
      "Parch            0\n",
      "Ticket           0\n",
      "Fare             0\n",
      "Cabin          687\n",
      "Embarked         2\n",
      "dtype: int64\n"
     ]
    }
   ],
   "source": [
    "print(training_set.isnull().sum())"
   ]
  },
  {
   "cell_type": "code",
   "execution_count": 9,
   "id": "clean-village",
   "metadata": {
    "execution": {
     "iopub.execute_input": "2021-05-18T18:15:55.966726Z",
     "iopub.status.busy": "2021-05-18T18:15:55.949220Z",
     "iopub.status.idle": "2021-05-18T18:15:56.378026Z",
     "shell.execute_reply": "2021-05-18T18:15:56.378615Z"
    },
    "papermill": {
     "duration": 0.489565,
     "end_time": "2021-05-18T18:15:56.378943",
     "exception": false,
     "start_time": "2021-05-18T18:15:55.889378",
     "status": "completed"
    },
    "tags": []
   },
   "outputs": [
    {
     "data": {
      "text/plain": [
       "<AxesSubplot:>"
      ]
     },
     "execution_count": 9,
     "metadata": {},
     "output_type": "execute_result"
    },
    {
     "data": {
      "image/png": "[encoded data removed]",
      "text/plain": [
       "<Figure size 432x288 with 2 Axes>"
      ]
     },
     "metadata": {
      "needs_background": "light"
     },
     "output_type": "display_data"
    }
   ],
   "source": [
    "sn.heatmap(training_set.isnull())"
   ]
  },
  {
   "cell_type": "markdown",
   "id": "engaging-drain",
   "metadata": {
    "papermill": {
     "duration": 0.055662,
     "end_time": "2021-05-18T18:15:56.490227",
     "exception": false,
     "start_time": "2021-05-18T18:15:56.434565",
     "status": "completed"
    },
    "tags": []
   },
   "source": [
    "Age and Cabin columns have the most missing data. Next, percentage of missing data for each of those columns."
   ]
  },
  {
   "cell_type": "code",
   "execution_count": 10,
   "id": "unknown-spectrum",
   "metadata": {
    "execution": {
     "iopub.execute_input": "2021-05-18T18:15:56.602853Z",
     "iopub.status.busy": "2021-05-18T18:15:56.602187Z",
     "iopub.status.idle": "2021-05-18T18:15:56.606808Z",
     "shell.execute_reply": "2021-05-18T18:15:56.607351Z"
    },
    "papermill": {
     "duration": 0.062617,
     "end_time": "2021-05-18T18:15:56.607548",
     "exception": false,
     "start_time": "2021-05-18T18:15:56.544931",
     "status": "completed"
    },
    "tags": []
   },
   "outputs": [],
   "source": [
    "def missing_data_percentage(column):\n",
    "    percentage = (training_set[column].isna().sum()/len(training_set[column])) * 100\n",
    "    print('{} column - missing data percentage: {:.2f} %' .format(column, percentage))"
   ]
  },
  {
   "cell_type": "code",
   "execution_count": 11,
   "id": "married-graduation",
   "metadata": {
    "execution": {
     "iopub.execute_input": "2021-05-18T18:15:56.721866Z",
     "iopub.status.busy": "2021-05-18T18:15:56.721215Z",
     "iopub.status.idle": "2021-05-18T18:15:56.727134Z",
     "shell.execute_reply": "2021-05-18T18:15:56.726493Z"
    },
    "papermill": {
     "duration": 0.063792,
     "end_time": "2021-05-18T18:15:56.727270",
     "exception": false,
     "start_time": "2021-05-18T18:15:56.663478",
     "status": "completed"
    },
    "tags": []
   },
   "outputs": [
    {
     "name": "stdout",
     "output_type": "stream",
     "text": [
      "Age column - missing data percentage: 19.87 %\n"
     ]
    }
   ],
   "source": [
    "missing_data_percentage(\"Age\")"
   ]
  },
  {
   "cell_type": "code",
   "execution_count": 12,
   "id": "spanish-wellington",
   "metadata": {
    "execution": {
     "iopub.execute_input": "2021-05-18T18:15:56.844170Z",
     "iopub.status.busy": "2021-05-18T18:15:56.843507Z",
     "iopub.status.idle": "2021-05-18T18:15:56.845952Z",
     "shell.execute_reply": "2021-05-18T18:15:56.846414Z"
    },
    "papermill": {
     "duration": 0.063939,
     "end_time": "2021-05-18T18:15:56.846618",
     "exception": false,
     "start_time": "2021-05-18T18:15:56.782679",
     "status": "completed"
    },
    "tags": []
   },
   "outputs": [
    {
     "name": "stdout",
     "output_type": "stream",
     "text": [
      "Cabin column - missing data percentage: 77.10 %\n"
     ]
    }
   ],
   "source": [
    "missing_data_percentage(\"Cabin\")"
   ]
  },
  {
   "cell_type": "markdown",
   "id": "searching-plastic",
   "metadata": {
    "papermill": {
     "duration": 0.055735,
     "end_time": "2021-05-18T18:15:56.959894",
     "exception": false,
     "start_time": "2021-05-18T18:15:56.904159",
     "status": "completed"
    },
    "tags": []
   },
   "source": [
    "Most of the data (77.46 %) in the Cabin column is missing, so we will remove it from the datasets."
   ]
  },
  {
   "cell_type": "code",
   "execution_count": 13,
   "id": "abandoned-victim",
   "metadata": {
    "execution": {
     "iopub.execute_input": "2021-05-18T18:15:57.077918Z",
     "iopub.status.busy": "2021-05-18T18:15:57.077203Z",
     "iopub.status.idle": "2021-05-18T18:15:57.083801Z",
     "shell.execute_reply": "2021-05-18T18:15:57.084257Z"
    },
    "papermill": {
     "duration": 0.06631,
     "end_time": "2021-05-18T18:15:57.084441",
     "exception": false,
     "start_time": "2021-05-18T18:15:57.018131",
     "status": "completed"
    },
    "tags": []
   },
   "outputs": [],
   "source": [
    "training_set.drop(columns=['Cabin'], axis=1, inplace=True)\n",
    "test_set.drop(columns=['Cabin'], axis=1, inplace=True)"
   ]
  },
  {
   "cell_type": "code",
   "execution_count": 14,
   "id": "personal-respect",
   "metadata": {
    "execution": {
     "iopub.execute_input": "2021-05-18T18:15:57.202065Z",
     "iopub.status.busy": "2021-05-18T18:15:57.201085Z",
     "iopub.status.idle": "2021-05-18T18:15:57.215023Z",
     "shell.execute_reply": "2021-05-18T18:15:57.214417Z"
    },
    "papermill": {
     "duration": 0.073156,
     "end_time": "2021-05-18T18:15:57.215168",
     "exception": false,
     "start_time": "2021-05-18T18:15:57.142012",
     "status": "completed"
    },
    "tags": []
   },
   "outputs": [],
   "source": [
    "training_set['Age'].fillna(training_set['Age'].median(), inplace=True)\n",
    "training_set['Embarked'].fillna(training_set['Embarked'].mode(), inplace=True)\n",
    "\n",
    "test_set['Age'].fillna(test_set['Age'].median(), inplace=True)\n",
    "test_set['Fare'].fillna(test_set['Fare'].median(), inplace=True)"
   ]
  },
  {
   "cell_type": "markdown",
   "id": "metric-artwork",
   "metadata": {
    "papermill": {
     "duration": 0.056456,
     "end_time": "2021-05-18T18:15:57.328172",
     "exception": false,
     "start_time": "2021-05-18T18:15:57.271716",
     "status": "completed"
    },
    "tags": []
   },
   "source": [
    "# Detecting and removing outliers\n",
    "****\n",
    "Reducing the noise of the data"
   ]
  },
  {
   "cell_type": "code",
   "execution_count": 15,
   "id": "separate-associate",
   "metadata": {
    "execution": {
     "iopub.execute_input": "2021-05-18T18:15:57.449033Z",
     "iopub.status.busy": "2021-05-18T18:15:57.448058Z",
     "iopub.status.idle": "2021-05-18T18:15:57.451006Z",
     "shell.execute_reply": "2021-05-18T18:15:57.450526Z"
    },
    "papermill": {
     "duration": 0.065951,
     "end_time": "2021-05-18T18:15:57.451144",
     "exception": false,
     "start_time": "2021-05-18T18:15:57.385193",
     "status": "completed"
    },
    "tags": []
   },
   "outputs": [],
   "source": [
    "def box_plot(column):\n",
    "    training_set.boxplot(by = \"Survived\",column = [column],grid = True, layout=(1, 1))\n",
    "\n",
    "# Small circles or unfilled dots are drawn on the chart to indicate where suspected outliers lie.\n",
    "# Filled circles are used for known outliers."
   ]
  },
  {
   "cell_type": "code",
   "execution_count": 16,
   "id": "neither-supervisor",
   "metadata": {
    "execution": {
     "iopub.execute_input": "2021-05-18T18:15:57.568725Z",
     "iopub.status.busy": "2021-05-18T18:15:57.567944Z",
     "iopub.status.idle": "2021-05-18T18:15:57.747743Z",
     "shell.execute_reply": "2021-05-18T18:15:57.747198Z"
    },
    "papermill": {
     "duration": 0.24035,
     "end_time": "2021-05-18T18:15:57.747891",
     "exception": false,
     "start_time": "2021-05-18T18:15:57.507541",
     "status": "completed"
    },
    "tags": []
   },
   "outputs": [
    {
     "data": {
      "image/png": "[encoded data removed]",
      "text/plain": [
       "<Figure size 432x288 with 1 Axes>"
      ]
     },
     "metadata": {
      "needs_background": "light"
     },
     "output_type": "display_data"
    }
   ],
   "source": [
    "box_plot(\"Pclass\")"
   ]
  },
  {
   "cell_type": "code",
   "execution_count": 17,
   "id": "leading-football",
   "metadata": {
    "execution": {
     "iopub.execute_input": "2021-05-18T18:15:57.883261Z",
     "iopub.status.busy": "2021-05-18T18:15:57.882031Z",
     "iopub.status.idle": "2021-05-18T18:15:58.028479Z",
     "shell.execute_reply": "2021-05-18T18:15:58.028985Z"
    },
    "papermill": {
     "duration": 0.223187,
     "end_time": "2021-05-18T18:15:58.029153",
     "exception": false,
     "start_time": "2021-05-18T18:15:57.805966",
     "status": "completed"
    },
    "tags": []
   },
   "outputs": [
    {
     "data": {
      "image/png": "[encoded data removed]",
      "text/plain": [
       "<Figure size 432x288 with 1 Axes>"
      ]
     },
     "metadata": {
      "needs_background": "light"
     },
     "output_type": "display_data"
    }
   ],
   "source": [
    "box_plot(\"SibSp\")"
   ]
  },
  {
   "cell_type": "code",
   "execution_count": 18,
   "id": "rolled-conversation",
   "metadata": {
    "execution": {
     "iopub.execute_input": "2021-05-18T18:15:58.151711Z",
     "iopub.status.busy": "2021-05-18T18:15:58.150722Z",
     "iopub.status.idle": "2021-05-18T18:15:58.158003Z",
     "shell.execute_reply": "2021-05-18T18:15:58.158459Z"
    },
    "papermill": {
     "duration": 0.070345,
     "end_time": "2021-05-18T18:15:58.158646",
     "exception": false,
     "start_time": "2021-05-18T18:15:58.088301",
     "status": "completed"
    },
    "tags": []
   },
   "outputs": [
    {
     "data": {
      "text/plain": [
       "0    608\n",
       "1    209\n",
       "2     28\n",
       "4     18\n",
       "3     16\n",
       "8      7\n",
       "5      5\n",
       "Name: SibSp, dtype: int64"
      ]
     },
     "execution_count": 18,
     "metadata": {},
     "output_type": "execute_result"
    }
   ],
   "source": [
    "training_set[\"SibSp\"].value_counts()"
   ]
  },
  {
   "cell_type": "markdown",
   "id": "infrared-liverpool",
   "metadata": {
    "papermill": {
     "duration": 0.058159,
     "end_time": "2021-05-18T18:15:58.276292",
     "exception": false,
     "start_time": "2021-05-18T18:15:58.218133",
     "status": "completed"
    },
    "tags": []
   },
   "source": [
    "SibSp feature has possible outliers, so we will remove all rows with values of feature SibSp == 8"
   ]
  },
  {
   "cell_type": "code",
   "execution_count": 19,
   "id": "adolescent-journal",
   "metadata": {
    "execution": {
     "iopub.execute_input": "2021-05-18T18:15:58.397526Z",
     "iopub.status.busy": "2021-05-18T18:15:58.396481Z",
     "iopub.status.idle": "2021-05-18T18:15:58.531138Z",
     "shell.execute_reply": "2021-05-18T18:15:58.529667Z"
    },
    "papermill": {
     "duration": 0.196392,
     "end_time": "2021-05-18T18:15:58.531304",
     "exception": false,
     "start_time": "2021-05-18T18:15:58.334912",
     "status": "completed"
    },
    "tags": []
   },
   "outputs": [],
   "source": [
    "indexes = training_set.iloc[:891,:].index[training_set.iloc[:891,:].SibSp == 8]\n",
    "training_set.drop(indexes, inplace=True)"
   ]
  },
  {
   "cell_type": "code",
   "execution_count": 20,
   "id": "occupational-elevation",
   "metadata": {
    "execution": {
     "iopub.execute_input": "2021-05-18T18:15:58.675668Z",
     "iopub.status.busy": "2021-05-18T18:15:58.674631Z",
     "iopub.status.idle": "2021-05-18T18:15:58.801720Z",
     "shell.execute_reply": "2021-05-18T18:15:58.802191Z"
    },
    "papermill": {
     "duration": 0.212187,
     "end_time": "2021-05-18T18:15:58.802376",
     "exception": false,
     "start_time": "2021-05-18T18:15:58.590189",
     "status": "completed"
    },
    "tags": []
   },
   "outputs": [
    {
     "data": {
      "image/png": "[encoded data removed]",
      "text/plain": [
       "<Figure size 432x288 with 1 Axes>"
      ]
     },
     "metadata": {
      "needs_background": "light"
     },
     "output_type": "display_data"
    }
   ],
   "source": [
    "box_plot(\"Parch\")"
   ]
  },
  {
   "cell_type": "code",
   "execution_count": 21,
   "id": "global-democracy",
   "metadata": {
    "execution": {
     "iopub.execute_input": "2021-05-18T18:15:58.926975Z",
     "iopub.status.busy": "2021-05-18T18:15:58.925997Z",
     "iopub.status.idle": "2021-05-18T18:15:58.932775Z",
     "shell.execute_reply": "2021-05-18T18:15:58.933260Z"
    },
    "papermill": {
     "duration": 0.070519,
     "end_time": "2021-05-18T18:15:58.933428",
     "exception": false,
     "start_time": "2021-05-18T18:15:58.862909",
     "status": "completed"
    },
    "tags": []
   },
   "outputs": [
    {
     "data": {
      "text/plain": [
       "0    678\n",
       "1    118\n",
       "2     73\n",
       "3      5\n",
       "5      5\n",
       "4      4\n",
       "6      1\n",
       "Name: Parch, dtype: int64"
      ]
     },
     "execution_count": 21,
     "metadata": {},
     "output_type": "execute_result"
    }
   ],
   "source": [
    "training_set[\"Parch\"].value_counts()"
   ]
  },
  {
   "cell_type": "markdown",
   "id": "moderate-greece",
   "metadata": {
    "papermill": {
     "duration": 0.060681,
     "end_time": "2021-05-18T18:15:59.054117",
     "exception": false,
     "start_time": "2021-05-18T18:15:58.993436",
     "status": "completed"
    },
    "tags": []
   },
   "source": [
    "Parch feature has possible outliers, so we will remove all rows with values of feature Parch == 6"
   ]
  },
  {
   "cell_type": "code",
   "execution_count": 22,
   "id": "sealed-turning",
   "metadata": {
    "execution": {
     "iopub.execute_input": "2021-05-18T18:15:59.179972Z",
     "iopub.status.busy": "2021-05-18T18:15:59.178965Z",
     "iopub.status.idle": "2021-05-18T18:15:59.185348Z",
     "shell.execute_reply": "2021-05-18T18:15:59.185849Z"
    },
    "papermill": {
     "duration": 0.070947,
     "end_time": "2021-05-18T18:15:59.186038",
     "exception": false,
     "start_time": "2021-05-18T18:15:59.115091",
     "status": "completed"
    },
    "tags": []
   },
   "outputs": [],
   "source": [
    "indexes = training_set.index[training_set.Parch == 6]\n",
    "training_set.loc[indexes]\n",
    "training_set.drop(indexes, inplace=True)"
   ]
  },
  {
   "cell_type": "code",
   "execution_count": 23,
   "id": "unique-beginning",
   "metadata": {
    "execution": {
     "iopub.execute_input": "2021-05-18T18:15:59.311074Z",
     "iopub.status.busy": "2021-05-18T18:15:59.309956Z",
     "iopub.status.idle": "2021-05-18T18:15:59.453270Z",
     "shell.execute_reply": "2021-05-18T18:15:59.453745Z"
    },
    "papermill": {
     "duration": 0.207427,
     "end_time": "2021-05-18T18:15:59.453927",
     "exception": false,
     "start_time": "2021-05-18T18:15:59.246500",
     "status": "completed"
    },
    "tags": []
   },
   "outputs": [
    {
     "data": {
      "image/png": "[encoded data removed]",
      "text/plain": [
       "<Figure size 432x288 with 1 Axes>"
      ]
     },
     "metadata": {
      "needs_background": "light"
     },
     "output_type": "display_data"
    }
   ],
   "source": [
    "box_plot(\"Fare\")"
   ]
  },
  {
   "cell_type": "code",
   "execution_count": 24,
   "id": "silver-rhythm",
   "metadata": {
    "execution": {
     "iopub.execute_input": "2021-05-18T18:15:59.579717Z",
     "iopub.status.busy": "2021-05-18T18:15:59.578748Z",
     "iopub.status.idle": "2021-05-18T18:15:59.587225Z",
     "shell.execute_reply": "2021-05-18T18:15:59.587701Z"
    },
    "papermill": {
     "duration": 0.072996,
     "end_time": "2021-05-18T18:15:59.587886",
     "exception": false,
     "start_time": "2021-05-18T18:15:59.514890",
     "status": "completed"
    },
    "tags": []
   },
   "outputs": [
    {
     "data": {
      "text/plain": [
       "8.0500     43\n",
       "13.0000    42\n",
       "7.8958     38\n",
       "7.7500     34\n",
       "26.0000    31\n",
       "           ..\n",
       "50.4958     1\n",
       "13.8583     1\n",
       "8.4583      1\n",
       "7.7250      1\n",
       "7.5208      1\n",
       "Name: Fare, Length: 247, dtype: int64"
      ]
     },
     "execution_count": 24,
     "metadata": {},
     "output_type": "execute_result"
    }
   ],
   "source": [
    "training_set[\"Fare\"].value_counts()"
   ]
  },
  {
   "cell_type": "markdown",
   "id": "democratic-shoulder",
   "metadata": {
    "papermill": {
     "duration": 0.062364,
     "end_time": "2021-05-18T18:15:59.712310",
     "exception": false,
     "start_time": "2021-05-18T18:15:59.649946",
     "status": "completed"
    },
    "tags": []
   },
   "source": [
    "Fare feature has possible outliers, so we will remove all rows with values of feature Fare higher than 100"
   ]
  },
  {
   "cell_type": "code",
   "execution_count": 25,
   "id": "heavy-replication",
   "metadata": {
    "execution": {
     "iopub.execute_input": "2021-05-18T18:15:59.845638Z",
     "iopub.status.busy": "2021-05-18T18:15:59.844951Z",
     "iopub.status.idle": "2021-05-18T18:15:59.848328Z",
     "shell.execute_reply": "2021-05-18T18:15:59.847780Z"
    },
    "papermill": {
     "duration": 0.074007,
     "end_time": "2021-05-18T18:15:59.848502",
     "exception": false,
     "start_time": "2021-05-18T18:15:59.774495",
     "status": "completed"
    },
    "tags": []
   },
   "outputs": [],
   "source": [
    "indexes = training_set.index[training_set.Fare > 100]\n",
    "training_set.loc[indexes]\n",
    "indexes\n",
    "training_set.drop(indexes, inplace=True)"
   ]
  },
  {
   "cell_type": "markdown",
   "id": "smart-candy",
   "metadata": {
    "papermill": {
     "duration": 0.062302,
     "end_time": "2021-05-18T18:15:59.975506",
     "exception": false,
     "start_time": "2021-05-18T18:15:59.913204",
     "status": "completed"
    },
    "tags": []
   },
   "source": [
    "# Correlation matrix\n",
    "****\n",
    "Used to detect correlation between features in order to reduce dimensionality if possible - showing lower triangle matrix below."
   ]
  },
  {
   "cell_type": "code",
   "execution_count": 26,
   "id": "possible-contribution",
   "metadata": {
    "execution": {
     "iopub.execute_input": "2021-05-18T18:16:00.105857Z",
     "iopub.status.busy": "2021-05-18T18:16:00.104881Z",
     "iopub.status.idle": "2021-05-18T18:16:00.416844Z",
     "shell.execute_reply": "2021-05-18T18:16:00.417308Z"
    },
    "papermill": {
     "duration": 0.378678,
     "end_time": "2021-05-18T18:16:00.417556",
     "exception": false,
     "start_time": "2021-05-18T18:16:00.038878",
     "status": "completed"
    },
    "tags": []
   },
   "outputs": [
    {
     "data": {
      "text/plain": [
       "<AxesSubplot:>"
      ]
     },
     "execution_count": 26,
     "metadata": {},
     "output_type": "execute_result"
    },
    {
     "data": {
      "image/png": "[encoded data removed]",
      "text/plain": [
       "<Figure size 1080x720 with 2 Axes>"
      ]
     },
     "metadata": {
      "needs_background": "light"
     },
     "output_type": "display_data"
    }
   ],
   "source": [
    "f = plt.figure(figsize=(15, 10))\n",
    "correlation_matrix = np.triu(training_set.corr())\n",
    "sn.heatmap(training_set.corr(), annot = True, mask = correlation_matrix)"
   ]
  },
  {
   "cell_type": "markdown",
   "id": "answering-sugar",
   "metadata": {
    "papermill": {
     "duration": 0.062983,
     "end_time": "2021-05-18T18:16:00.543687",
     "exception": false,
     "start_time": "2021-05-18T18:16:00.480704",
     "status": "completed"
    },
    "tags": []
   },
   "source": [
    "* PassengerId column correlation with other features shouldn't be taken into account  \n",
    "* Survived column has **moderate** correlation to columns Fare and Pclass\n",
    "* Pclass column has **moderate** correlation to Age and **high** correlation to Fare\n",
    "* Age is **moderately** correlated to SibSp\n",
    "* SibSp is **moderately** correlated to Parch"
   ]
  },
  {
   "cell_type": "markdown",
   "id": "third-hearing",
   "metadata": {
    "papermill": {
     "duration": 0.065973,
     "end_time": "2021-05-18T18:16:00.672699",
     "exception": false,
     "start_time": "2021-05-18T18:16:00.606726",
     "status": "completed"
    },
    "tags": []
   },
   "source": [
    "Features Name and Ticket will be removed because they have a lot of distinct values and aren't good predictors"
   ]
  },
  {
   "cell_type": "code",
   "execution_count": 27,
   "id": "peripheral-vault",
   "metadata": {
    "execution": {
     "iopub.execute_input": "2021-05-18T18:16:00.804515Z",
     "iopub.status.busy": "2021-05-18T18:16:00.803490Z",
     "iopub.status.idle": "2021-05-18T18:16:00.810564Z",
     "shell.execute_reply": "2021-05-18T18:16:00.811081Z"
    },
    "papermill": {
     "duration": 0.073561,
     "end_time": "2021-05-18T18:16:00.811275",
     "exception": false,
     "start_time": "2021-05-18T18:16:00.737714",
     "status": "completed"
    },
    "tags": []
   },
   "outputs": [],
   "source": [
    "training_set.drop(columns=['Name', 'Ticket'], axis=1, inplace=True)\n",
    "test_set.drop(columns=['Name', 'Ticket'], axis=1, inplace=True)"
   ]
  },
  {
   "cell_type": "markdown",
   "id": "divine-romance",
   "metadata": {
    "papermill": {
     "duration": 0.064793,
     "end_time": "2021-05-18T18:16:00.940406",
     "exception": false,
     "start_time": "2021-05-18T18:16:00.875613",
     "status": "completed"
    },
    "tags": []
   },
   "source": [
    "# Survival rates\n",
    "****"
   ]
  },
  {
   "cell_type": "code",
   "execution_count": 28,
   "id": "loaded-characteristic",
   "metadata": {
    "execution": {
     "iopub.execute_input": "2021-05-18T18:16:01.108917Z",
     "iopub.status.busy": "2021-05-18T18:16:01.105263Z",
     "iopub.status.idle": "2021-05-18T18:16:01.941894Z",
     "shell.execute_reply": "2021-05-18T18:16:01.942520Z"
    },
    "papermill": {
     "duration": 0.937543,
     "end_time": "2021-05-18T18:16:01.942697",
     "exception": false,
     "start_time": "2021-05-18T18:16:01.005154",
     "status": "completed"
    },
    "tags": []
   },
   "outputs": [
    {
     "data": {
      "image/png": "[encoded data removed]",
      "text/plain": [
       "<Figure size 1152x1008 with 6 Axes>"
      ]
     },
     "metadata": {
      "needs_background": "light"
     },
     "output_type": "display_data"
    }
   ],
   "source": [
    "columns = ['Embarked', 'Parch', 'Pclass', 'Survived', 'Sex', 'SibSp']\n",
    "\n",
    "plt.figure(figsize = (16, 14))\n",
    "sn.set(font_scale = 1.2)\n",
    "sn.set_style('ticks')\n",
    "\n",
    "for i, column in enumerate(columns):\n",
    "    plt.subplot(3, 3, i + 1)\n",
    "    sn.countplot(data = training_set, x = column, hue = 'Survived', palette = ['#d02f52',\"#55a0ee\"])\n",
    "    \n",
    "sn.despine()"
   ]
  },
  {
   "cell_type": "markdown",
   "id": "applied-avenue",
   "metadata": {
    "papermill": {
     "duration": 0.06503,
     "end_time": "2021-05-18T18:16:02.074153",
     "exception": false,
     "start_time": "2021-05-18T18:16:02.009123",
     "status": "completed"
    },
    "tags": []
   },
   "source": [
    "# Feature engineering\n",
    "\n",
    "This part is commented because I've actually been getting worse prediction results with it.\n",
    "****"
   ]
  },
  {
   "cell_type": "markdown",
   "id": "grand-right",
   "metadata": {
    "papermill": {
     "duration": 0.064503,
     "end_time": "2021-05-18T18:16:02.203539",
     "exception": false,
     "start_time": "2021-05-18T18:16:02.139036",
     "status": "completed"
    },
    "tags": []
   },
   "source": [
    "Creating Family size"
   ]
  },
  {
   "cell_type": "code",
   "execution_count": 29,
   "id": "pressing-district",
   "metadata": {
    "execution": {
     "iopub.execute_input": "2021-05-18T18:16:02.339073Z",
     "iopub.status.busy": "2021-05-18T18:16:02.338047Z",
     "iopub.status.idle": "2021-05-18T18:16:02.340284Z",
     "shell.execute_reply": "2021-05-18T18:16:02.340867Z"
    },
    "papermill": {
     "duration": 0.072959,
     "end_time": "2021-05-18T18:16:02.341031",
     "exception": false,
     "start_time": "2021-05-18T18:16:02.268072",
     "status": "completed"
    },
    "tags": []
   },
   "outputs": [],
   "source": [
    "#training_set['Family_Size'] = training_set['Parch'] + training_set['SibSp']"
   ]
  },
  {
   "cell_type": "markdown",
   "id": "norwegian-congo",
   "metadata": {
    "papermill": {
     "duration": 0.064529,
     "end_time": "2021-05-18T18:16:02.470318",
     "exception": false,
     "start_time": "2021-05-18T18:16:02.405789",
     "status": "completed"
    },
    "tags": []
   },
   "source": [
    "Ticket"
   ]
  },
  {
   "cell_type": "code",
   "execution_count": 30,
   "id": "trying-maker",
   "metadata": {
    "execution": {
     "iopub.execute_input": "2021-05-18T18:16:02.605863Z",
     "iopub.status.busy": "2021-05-18T18:16:02.604764Z",
     "iopub.status.idle": "2021-05-18T18:16:02.609966Z",
     "shell.execute_reply": "2021-05-18T18:16:02.609328Z"
    },
    "papermill": {
     "duration": 0.074883,
     "end_time": "2021-05-18T18:16:02.610135",
     "exception": false,
     "start_time": "2021-05-18T18:16:02.535252",
     "status": "completed"
    },
    "tags": []
   },
   "outputs": [],
   "source": [
    "#training_set['Ticket'] = training_set.Ticket.str.split().apply(lambda x : 0 if x[:][-1] == 'LINE' else x[:][-1])\n",
    "#training_set.Ticket = training_set.Ticket.values.astype('int64')"
   ]
  },
  {
   "cell_type": "markdown",
   "id": "flexible-pillow",
   "metadata": {
    "papermill": {
     "duration": 0.065236,
     "end_time": "2021-05-18T18:16:02.741140",
     "exception": false,
     "start_time": "2021-05-18T18:16:02.675904",
     "status": "completed"
    },
    "tags": []
   },
   "source": [
    "Title column"
   ]
  },
  {
   "cell_type": "code",
   "execution_count": 31,
   "id": "ordinary-gambling",
   "metadata": {
    "execution": {
     "iopub.execute_input": "2021-05-18T18:16:02.880002Z",
     "iopub.status.busy": "2021-05-18T18:16:02.879072Z",
     "iopub.status.idle": "2021-05-18T18:16:02.881759Z",
     "shell.execute_reply": "2021-05-18T18:16:02.882202Z"
    },
    "papermill": {
     "duration": 0.075054,
     "end_time": "2021-05-18T18:16:02.882372",
     "exception": false,
     "start_time": "2021-05-18T18:16:02.807318",
     "status": "completed"
    },
    "tags": []
   },
   "outputs": [],
   "source": [
    "#training_set['Title'] = training_set.Name.str.extract('([A-Za-z]+)\\.', expand = False)\n",
    "#training_set.Title.value_counts()\n",
    "\n",
    "#rarest_titles = ['Rev','Dr','Major', 'Col', 'Capt','Jonkheer','Countess']\n",
    "\n",
    "#training_set.Title = training_set.Title.replace(['Ms', 'Mlle','Mme','Lady'], 'Miss')\n",
    "#training_set.Title = training_set.Title.replace(['Countess','Dona'], 'Mrs')\n",
    "#training_set.Title = training_set.Title.replace(['Don','Sir'], 'Mr')\n",
    "#training_set.Title = training_set.Title.replace(rarest_titles,'Other')"
   ]
  },
  {
   "cell_type": "markdown",
   "id": "closed-evidence",
   "metadata": {
    "papermill": {
     "duration": 0.066247,
     "end_time": "2021-05-18T18:16:03.015178",
     "exception": false,
     "start_time": "2021-05-18T18:16:02.948931",
     "status": "completed"
    },
    "tags": []
   },
   "source": [
    "Last Name column"
   ]
  },
  {
   "cell_type": "code",
   "execution_count": 32,
   "id": "located-decrease",
   "metadata": {
    "execution": {
     "iopub.execute_input": "2021-05-18T18:16:03.152576Z",
     "iopub.status.busy": "2021-05-18T18:16:03.151599Z",
     "iopub.status.idle": "2021-05-18T18:16:03.155077Z",
     "shell.execute_reply": "2021-05-18T18:16:03.155556Z"
    },
    "papermill": {
     "duration": 0.074391,
     "end_time": "2021-05-18T18:16:03.155745",
     "exception": false,
     "start_time": "2021-05-18T18:16:03.081354",
     "status": "completed"
    },
    "tags": []
   },
   "outputs": [],
   "source": [
    "#training_set['Last_Name'] = training_set.Name.str.extract('^(.+?),', expand = False)"
   ]
  },
  {
   "cell_type": "markdown",
   "id": "covered-sapphire",
   "metadata": {
    "papermill": {
     "duration": 0.065664,
     "end_time": "2021-05-18T18:16:03.287243",
     "exception": false,
     "start_time": "2021-05-18T18:16:03.221579",
     "status": "completed"
    },
    "tags": []
   },
   "source": [
    "Woman or child column"
   ]
  },
  {
   "cell_type": "code",
   "execution_count": 33,
   "id": "public-federation",
   "metadata": {
    "execution": {
     "iopub.execute_input": "2021-05-18T18:16:03.422717Z",
     "iopub.status.busy": "2021-05-18T18:16:03.421718Z",
     "iopub.status.idle": "2021-05-18T18:16:03.425402Z",
     "shell.execute_reply": "2021-05-18T18:16:03.425892Z"
    },
    "papermill": {
     "duration": 0.072771,
     "end_time": "2021-05-18T18:16:03.426074",
     "exception": false,
     "start_time": "2021-05-18T18:16:03.353303",
     "status": "completed"
    },
    "tags": []
   },
   "outputs": [],
   "source": [
    "#training_set['Woman_Child'] = ((training_set.Title == 0) | (training_set.Sex == 'female'))"
   ]
  },
  {
   "cell_type": "markdown",
   "id": "regional-ultimate",
   "metadata": {
    "papermill": {
     "duration": 0.070244,
     "end_time": "2021-05-18T18:16:03.563729",
     "exception": false,
     "start_time": "2021-05-18T18:16:03.493485",
     "status": "completed"
    },
    "tags": []
   },
   "source": [
    "Family size column"
   ]
  },
  {
   "cell_type": "code",
   "execution_count": 34,
   "id": "fewer-curve",
   "metadata": {
    "execution": {
     "iopub.execute_input": "2021-05-18T18:16:03.739633Z",
     "iopub.status.busy": "2021-05-18T18:16:03.738629Z",
     "iopub.status.idle": "2021-05-18T18:16:03.743145Z",
     "shell.execute_reply": "2021-05-18T18:16:03.744074Z"
    },
    "papermill": {
     "duration": 0.101108,
     "end_time": "2021-05-18T18:16:03.744324",
     "exception": false,
     "start_time": "2021-05-18T18:16:03.643216",
     "status": "completed"
    },
    "tags": []
   },
   "outputs": [],
   "source": [
    "#family = training_set.groupby([training_set.Last_Name, training_set.Pclass, training_set.Ticket]).Survived\n",
    "\n",
    "#training_set['FamilyTotalCount'] = family.transform(lambda s: s.fillna(0).count())\n",
    "\n",
    "#training_set['FamilySurvivedCount'] = family.transform(lambda s: s.fillna(0).sum())\n",
    "\n",
    "#training_set['FamilySurvivalRate'] = (training_set.FamilySurvivedCount / training_set.FamilyTotalCount.replace(0, np.nan))"
   ]
  },
  {
   "cell_type": "markdown",
   "id": "happy-harvard",
   "metadata": {
    "papermill": {
     "duration": 0.092721,
     "end_time": "2021-05-18T18:16:03.914038",
     "exception": false,
     "start_time": "2021-05-18T18:16:03.821317",
     "status": "completed"
    },
    "tags": []
   },
   "source": [
    "# Categorical data\n",
    "****"
   ]
  },
  {
   "cell_type": "markdown",
   "id": "eastern-contact",
   "metadata": {
    "papermill": {
     "duration": 0.067762,
     "end_time": "2021-05-18T18:16:04.053678",
     "exception": false,
     "start_time": "2021-05-18T18:16:03.985916",
     "status": "completed"
    },
    "tags": []
   },
   "source": [
    "Creating bins for Fare and Age features**\n",
    "\n",
    "** Commented out because the result was worse with Fare bins"
   ]
  },
  {
   "cell_type": "code",
   "execution_count": 35,
   "id": "cutting-reverse",
   "metadata": {
    "execution": {
     "iopub.execute_input": "2021-05-18T18:16:04.190836Z",
     "iopub.status.busy": "2021-05-18T18:16:04.189820Z",
     "iopub.status.idle": "2021-05-18T18:16:04.205824Z",
     "shell.execute_reply": "2021-05-18T18:16:04.206398Z"
    },
    "papermill": {
     "duration": 0.08669,
     "end_time": "2021-05-18T18:16:04.206584",
     "exception": false,
     "start_time": "2021-05-18T18:16:04.119894",
     "status": "completed"
    },
    "tags": []
   },
   "outputs": [],
   "source": [
    "training_set = pd.get_dummies(training_set, columns=['Pclass', 'Sex', 'Embarked' ], drop_first= True)\n",
    "test_set = pd.get_dummies(test_set, columns=['Pclass', 'Sex', 'Embarked' ], drop_first= True)"
   ]
  },
  {
   "cell_type": "code",
   "execution_count": 36,
   "id": "dedicated-correspondence",
   "metadata": {
    "execution": {
     "iopub.execute_input": "2021-05-18T18:16:04.347432Z",
     "iopub.status.busy": "2021-05-18T18:16:04.346421Z",
     "iopub.status.idle": "2021-05-18T18:16:04.368640Z",
     "shell.execute_reply": "2021-05-18T18:16:04.369184Z"
    },
    "papermill": {
     "duration": 0.095636,
     "end_time": "2021-05-18T18:16:04.369349",
     "exception": false,
     "start_time": "2021-05-18T18:16:04.273713",
     "status": "completed"
    },
    "tags": []
   },
   "outputs": [
    {
     "data": {
      "text/html": [
       "<div>\n",
       "<style scoped>\n",
       "    .dataframe tbody tr th:only-of-type {\n",
       "        vertical-align: middle;\n",
       "    }\n",
       "\n",
       "    .dataframe tbody tr th {\n",
       "        vertical-align: top;\n",
       "    }\n",
       "\n",
       "    .dataframe thead th {\n",
       "        text-align: right;\n",
       "    }\n",
       "</style>\n",
       "<table border=\"1\" class=\"dataframe\">\n",
       "  <thead>\n",
       "    <tr style=\"text-align: right;\">\n",
       "      <th></th>\n",
       "      <th>PassengerId</th>\n",
       "      <th>Survived</th>\n",
       "      <th>Age</th>\n",
       "      <th>SibSp</th>\n",
       "      <th>Parch</th>\n",
       "      <th>Fare</th>\n",
       "      <th>Pclass_2</th>\n",
       "      <th>Pclass_3</th>\n",
       "      <th>Sex_male</th>\n",
       "      <th>Embarked_Q</th>\n",
       "      <th>Embarked_S</th>\n",
       "    </tr>\n",
       "  </thead>\n",
       "  <tbody>\n",
       "    <tr>\n",
       "      <th>0</th>\n",
       "      <td>1</td>\n",
       "      <td>0</td>\n",
       "      <td>22.0</td>\n",
       "      <td>1</td>\n",
       "      <td>0</td>\n",
       "      <td>7.2500</td>\n",
       "      <td>0</td>\n",
       "      <td>1</td>\n",
       "      <td>1</td>\n",
       "      <td>0</td>\n",
       "      <td>1</td>\n",
       "    </tr>\n",
       "    <tr>\n",
       "      <th>1</th>\n",
       "      <td>2</td>\n",
       "      <td>1</td>\n",
       "      <td>38.0</td>\n",
       "      <td>1</td>\n",
       "      <td>0</td>\n",
       "      <td>71.2833</td>\n",
       "      <td>0</td>\n",
       "      <td>0</td>\n",
       "      <td>0</td>\n",
       "      <td>0</td>\n",
       "      <td>0</td>\n",
       "    </tr>\n",
       "    <tr>\n",
       "      <th>2</th>\n",
       "      <td>3</td>\n",
       "      <td>1</td>\n",
       "      <td>26.0</td>\n",
       "      <td>0</td>\n",
       "      <td>0</td>\n",
       "      <td>7.9250</td>\n",
       "      <td>0</td>\n",
       "      <td>1</td>\n",
       "      <td>0</td>\n",
       "      <td>0</td>\n",
       "      <td>1</td>\n",
       "    </tr>\n",
       "    <tr>\n",
       "      <th>3</th>\n",
       "      <td>4</td>\n",
       "      <td>1</td>\n",
       "      <td>35.0</td>\n",
       "      <td>1</td>\n",
       "      <td>0</td>\n",
       "      <td>53.1000</td>\n",
       "      <td>0</td>\n",
       "      <td>0</td>\n",
       "      <td>0</td>\n",
       "      <td>0</td>\n",
       "      <td>1</td>\n",
       "    </tr>\n",
       "    <tr>\n",
       "      <th>4</th>\n",
       "      <td>5</td>\n",
       "      <td>0</td>\n",
       "      <td>35.0</td>\n",
       "      <td>0</td>\n",
       "      <td>0</td>\n",
       "      <td>8.0500</td>\n",
       "      <td>0</td>\n",
       "      <td>1</td>\n",
       "      <td>1</td>\n",
       "      <td>0</td>\n",
       "      <td>1</td>\n",
       "    </tr>\n",
       "    <tr>\n",
       "      <th>...</th>\n",
       "      <td>...</td>\n",
       "      <td>...</td>\n",
       "      <td>...</td>\n",
       "      <td>...</td>\n",
       "      <td>...</td>\n",
       "      <td>...</td>\n",
       "      <td>...</td>\n",
       "      <td>...</td>\n",
       "      <td>...</td>\n",
       "      <td>...</td>\n",
       "      <td>...</td>\n",
       "    </tr>\n",
       "    <tr>\n",
       "      <th>886</th>\n",
       "      <td>887</td>\n",
       "      <td>0</td>\n",
       "      <td>27.0</td>\n",
       "      <td>0</td>\n",
       "      <td>0</td>\n",
       "      <td>13.0000</td>\n",
       "      <td>1</td>\n",
       "      <td>0</td>\n",
       "      <td>1</td>\n",
       "      <td>0</td>\n",
       "      <td>1</td>\n",
       "    </tr>\n",
       "    <tr>\n",
       "      <th>887</th>\n",
       "      <td>888</td>\n",
       "      <td>1</td>\n",
       "      <td>19.0</td>\n",
       "      <td>0</td>\n",
       "      <td>0</td>\n",
       "      <td>30.0000</td>\n",
       "      <td>0</td>\n",
       "      <td>0</td>\n",
       "      <td>0</td>\n",
       "      <td>0</td>\n",
       "      <td>1</td>\n",
       "    </tr>\n",
       "    <tr>\n",
       "      <th>888</th>\n",
       "      <td>889</td>\n",
       "      <td>0</td>\n",
       "      <td>28.0</td>\n",
       "      <td>1</td>\n",
       "      <td>2</td>\n",
       "      <td>23.4500</td>\n",
       "      <td>0</td>\n",
       "      <td>1</td>\n",
       "      <td>0</td>\n",
       "      <td>0</td>\n",
       "      <td>1</td>\n",
       "    </tr>\n",
       "    <tr>\n",
       "      <th>889</th>\n",
       "      <td>890</td>\n",
       "      <td>1</td>\n",
       "      <td>26.0</td>\n",
       "      <td>0</td>\n",
       "      <td>0</td>\n",
       "      <td>30.0000</td>\n",
       "      <td>0</td>\n",
       "      <td>0</td>\n",
       "      <td>1</td>\n",
       "      <td>0</td>\n",
       "      <td>0</td>\n",
       "    </tr>\n",
       "    <tr>\n",
       "      <th>890</th>\n",
       "      <td>891</td>\n",
       "      <td>0</td>\n",
       "      <td>32.0</td>\n",
       "      <td>0</td>\n",
       "      <td>0</td>\n",
       "      <td>7.7500</td>\n",
       "      <td>0</td>\n",
       "      <td>1</td>\n",
       "      <td>1</td>\n",
       "      <td>1</td>\n",
       "      <td>0</td>\n",
       "    </tr>\n",
       "  </tbody>\n",
       "</table>\n",
       "<p>830 rows × 11 columns</p>\n",
       "</div>"
      ],
      "text/plain": [
       "     PassengerId  Survived   Age  SibSp  Parch     Fare  Pclass_2  Pclass_3  \\\n",
       "0              1         0  22.0      1      0   7.2500         0         1   \n",
       "1              2         1  38.0      1      0  71.2833         0         0   \n",
       "2              3         1  26.0      0      0   7.9250         0         1   \n",
       "3              4         1  35.0      1      0  53.1000         0         0   \n",
       "4              5         0  35.0      0      0   8.0500         0         1   \n",
       "..           ...       ...   ...    ...    ...      ...       ...       ...   \n",
       "886          887         0  27.0      0      0  13.0000         1         0   \n",
       "887          888         1  19.0      0      0  30.0000         0         0   \n",
       "888          889         0  28.0      1      2  23.4500         0         1   \n",
       "889          890         1  26.0      0      0  30.0000         0         0   \n",
       "890          891         0  32.0      0      0   7.7500         0         1   \n",
       "\n",
       "     Sex_male  Embarked_Q  Embarked_S  \n",
       "0           1           0           1  \n",
       "1           0           0           0  \n",
       "2           0           0           1  \n",
       "3           0           0           1  \n",
       "4           1           0           1  \n",
       "..        ...         ...         ...  \n",
       "886         1           0           1  \n",
       "887         0           0           1  \n",
       "888         0           0           1  \n",
       "889         1           0           0  \n",
       "890         1           1           0  \n",
       "\n",
       "[830 rows x 11 columns]"
      ]
     },
     "execution_count": 36,
     "metadata": {},
     "output_type": "execute_result"
    }
   ],
   "source": [
    "training_set"
   ]
  },
  {
   "cell_type": "code",
   "execution_count": 37,
   "id": "fantastic-appearance",
   "metadata": {
    "execution": {
     "iopub.execute_input": "2021-05-18T18:16:04.506383Z",
     "iopub.status.busy": "2021-05-18T18:16:04.505416Z",
     "iopub.status.idle": "2021-05-18T18:16:04.509125Z",
     "shell.execute_reply": "2021-05-18T18:16:04.509677Z"
    },
    "papermill": {
     "duration": 0.073768,
     "end_time": "2021-05-18T18:16:04.509846",
     "exception": false,
     "start_time": "2021-05-18T18:16:04.436078",
     "status": "completed"
    },
    "tags": []
   },
   "outputs": [],
   "source": [
    "#from sklearn.preprocessing import LabelEncoder\n",
    "\n",
    "#training_set['FareBin'] = pd.qcut(training_set['Fare'], 5)\n",
    "\n",
    "#label = LabelEncoder()\n",
    "#training_set['FareBin_Code'] = label.fit_transform(training_set['FareBin'])\n",
    "\n",
    "#training_set.drop(['Fare'], 1, inplace=True)"
   ]
  },
  {
   "cell_type": "code",
   "execution_count": 38,
   "id": "amateur-locking",
   "metadata": {
    "execution": {
     "iopub.execute_input": "2021-05-18T18:16:04.648342Z",
     "iopub.status.busy": "2021-05-18T18:16:04.647368Z",
     "iopub.status.idle": "2021-05-18T18:16:04.651116Z",
     "shell.execute_reply": "2021-05-18T18:16:04.651690Z"
    },
    "papermill": {
     "duration": 0.074501,
     "end_time": "2021-05-18T18:16:04.651859",
     "exception": false,
     "start_time": "2021-05-18T18:16:04.577358",
     "status": "completed"
    },
    "tags": []
   },
   "outputs": [],
   "source": [
    "#training_set['AgeBin'] = pd.qcut(training_set['Age'], 4)\n",
    "#test_set['AgeBin'] = pd.qcut(test_set['Age'], 4)\n",
    "\n",
    "#training_set['AgeBin_Code'] = label.fit_transform(training_set['AgeBin'])\n",
    "#test_set['AgeBin_Code'] = label.fit_transform(test_set['AgeBin'])\n",
    "\n",
    "#training_set.drop(['Age'], 1, inplace=True)\n",
    "#test_set.drop(['Age'], 1, inplace=True)"
   ]
  },
  {
   "cell_type": "code",
   "execution_count": 39,
   "id": "auburn-explanation",
   "metadata": {
    "execution": {
     "iopub.execute_input": "2021-05-18T18:16:04.791532Z",
     "iopub.status.busy": "2021-05-18T18:16:04.790592Z",
     "iopub.status.idle": "2021-05-18T18:16:04.795595Z",
     "shell.execute_reply": "2021-05-18T18:16:04.794927Z"
    },
    "papermill": {
     "duration": 0.075635,
     "end_time": "2021-05-18T18:16:04.795732",
     "exception": false,
     "start_time": "2021-05-18T18:16:04.720097",
     "status": "completed"
    },
    "tags": []
   },
   "outputs": [],
   "source": [
    "#training_set.drop(['Name', 'Title', 'SibSp', 'Parch', 'FareBin', 'Last_Name', 'FamilyTotalCount', 'FamilySurvivedCount'], axis = 1, inplace = True)"
   ]
  },
  {
   "cell_type": "markdown",
   "id": "latin-worcester",
   "metadata": {
    "papermill": {
     "duration": 0.068701,
     "end_time": "2021-05-18T18:16:04.932265",
     "exception": false,
     "start_time": "2021-05-18T18:16:04.863564",
     "status": "completed"
    },
    "tags": []
   },
   "source": [
    "# Creating the matrix of features and dependent variable vector\n",
    "****"
   ]
  },
  {
   "cell_type": "code",
   "execution_count": 40,
   "id": "recovered-oregon",
   "metadata": {
    "execution": {
     "iopub.execute_input": "2021-05-18T18:16:05.071630Z",
     "iopub.status.busy": "2021-05-18T18:16:05.070934Z",
     "iopub.status.idle": "2021-05-18T18:16:05.077817Z",
     "shell.execute_reply": "2021-05-18T18:16:05.078305Z"
    },
    "papermill": {
     "duration": 0.078468,
     "end_time": "2021-05-18T18:16:05.078519",
     "exception": false,
     "start_time": "2021-05-18T18:16:05.000051",
     "status": "completed"
    },
    "tags": []
   },
   "outputs": [],
   "source": [
    "x_train = training_set.iloc[:,training_set.columns != 'Survived']\n",
    "y_train = training_set.iloc[:,training_set.columns == 'Survived'].values.reshape(-1,1)\n",
    "\n",
    "x_test = test_set"
   ]
  },
  {
   "cell_type": "code",
   "execution_count": 41,
   "id": "placed-algeria",
   "metadata": {
    "execution": {
     "iopub.execute_input": "2021-05-18T18:16:05.219188Z",
     "iopub.status.busy": "2021-05-18T18:16:05.218518Z",
     "iopub.status.idle": "2021-05-18T18:16:05.239098Z",
     "shell.execute_reply": "2021-05-18T18:16:05.238522Z"
    },
    "papermill": {
     "duration": 0.091157,
     "end_time": "2021-05-18T18:16:05.239245",
     "exception": false,
     "start_time": "2021-05-18T18:16:05.148088",
     "status": "completed"
    },
    "tags": []
   },
   "outputs": [
    {
     "data": {
      "text/html": [
       "<div>\n",
       "<style scoped>\n",
       "    .dataframe tbody tr th:only-of-type {\n",
       "        vertical-align: middle;\n",
       "    }\n",
       "\n",
       "    .dataframe tbody tr th {\n",
       "        vertical-align: top;\n",
       "    }\n",
       "\n",
       "    .dataframe thead th {\n",
       "        text-align: right;\n",
       "    }\n",
       "</style>\n",
       "<table border=\"1\" class=\"dataframe\">\n",
       "  <thead>\n",
       "    <tr style=\"text-align: right;\">\n",
       "      <th></th>\n",
       "      <th>PassengerId</th>\n",
       "      <th>Survived</th>\n",
       "      <th>Age</th>\n",
       "      <th>SibSp</th>\n",
       "      <th>Parch</th>\n",
       "      <th>Fare</th>\n",
       "      <th>Pclass_2</th>\n",
       "      <th>Pclass_3</th>\n",
       "      <th>Sex_male</th>\n",
       "      <th>Embarked_Q</th>\n",
       "      <th>Embarked_S</th>\n",
       "    </tr>\n",
       "  </thead>\n",
       "  <tbody>\n",
       "    <tr>\n",
       "      <th>0</th>\n",
       "      <td>1</td>\n",
       "      <td>0</td>\n",
       "      <td>22.0</td>\n",
       "      <td>1</td>\n",
       "      <td>0</td>\n",
       "      <td>7.2500</td>\n",
       "      <td>0</td>\n",
       "      <td>1</td>\n",
       "      <td>1</td>\n",
       "      <td>0</td>\n",
       "      <td>1</td>\n",
       "    </tr>\n",
       "    <tr>\n",
       "      <th>1</th>\n",
       "      <td>2</td>\n",
       "      <td>1</td>\n",
       "      <td>38.0</td>\n",
       "      <td>1</td>\n",
       "      <td>0</td>\n",
       "      <td>71.2833</td>\n",
       "      <td>0</td>\n",
       "      <td>0</td>\n",
       "      <td>0</td>\n",
       "      <td>0</td>\n",
       "      <td>0</td>\n",
       "    </tr>\n",
       "    <tr>\n",
       "      <th>2</th>\n",
       "      <td>3</td>\n",
       "      <td>1</td>\n",
       "      <td>26.0</td>\n",
       "      <td>0</td>\n",
       "      <td>0</td>\n",
       "      <td>7.9250</td>\n",
       "      <td>0</td>\n",
       "      <td>1</td>\n",
       "      <td>0</td>\n",
       "      <td>0</td>\n",
       "      <td>1</td>\n",
       "    </tr>\n",
       "    <tr>\n",
       "      <th>3</th>\n",
       "      <td>4</td>\n",
       "      <td>1</td>\n",
       "      <td>35.0</td>\n",
       "      <td>1</td>\n",
       "      <td>0</td>\n",
       "      <td>53.1000</td>\n",
       "      <td>0</td>\n",
       "      <td>0</td>\n",
       "      <td>0</td>\n",
       "      <td>0</td>\n",
       "      <td>1</td>\n",
       "    </tr>\n",
       "    <tr>\n",
       "      <th>4</th>\n",
       "      <td>5</td>\n",
       "      <td>0</td>\n",
       "      <td>35.0</td>\n",
       "      <td>0</td>\n",
       "      <td>0</td>\n",
       "      <td>8.0500</td>\n",
       "      <td>0</td>\n",
       "      <td>1</td>\n",
       "      <td>1</td>\n",
       "      <td>0</td>\n",
       "      <td>1</td>\n",
       "    </tr>\n",
       "    <tr>\n",
       "      <th>...</th>\n",
       "      <td>...</td>\n",
       "      <td>...</td>\n",
       "      <td>...</td>\n",
       "      <td>...</td>\n",
       "      <td>...</td>\n",
       "      <td>...</td>\n",
       "      <td>...</td>\n",
       "      <td>...</td>\n",
       "      <td>...</td>\n",
       "      <td>...</td>\n",
       "      <td>...</td>\n",
       "    </tr>\n",
       "    <tr>\n",
       "      <th>886</th>\n",
       "      <td>887</td>\n",
       "      <td>0</td>\n",
       "      <td>27.0</td>\n",
       "      <td>0</td>\n",
       "      <td>0</td>\n",
       "      <td>13.0000</td>\n",
       "      <td>1</td>\n",
       "      <td>0</td>\n",
       "      <td>1</td>\n",
       "      <td>0</td>\n",
       "      <td>1</td>\n",
       "    </tr>\n",
       "    <tr>\n",
       "      <th>887</th>\n",
       "      <td>888</td>\n",
       "      <td>1</td>\n",
       "      <td>19.0</td>\n",
       "      <td>0</td>\n",
       "      <td>0</td>\n",
       "      <td>30.0000</td>\n",
       "      <td>0</td>\n",
       "      <td>0</td>\n",
       "      <td>0</td>\n",
       "      <td>0</td>\n",
       "      <td>1</td>\n",
       "    </tr>\n",
       "    <tr>\n",
       "      <th>888</th>\n",
       "      <td>889</td>\n",
       "      <td>0</td>\n",
       "      <td>28.0</td>\n",
       "      <td>1</td>\n",
       "      <td>2</td>\n",
       "      <td>23.4500</td>\n",
       "      <td>0</td>\n",
       "      <td>1</td>\n",
       "      <td>0</td>\n",
       "      <td>0</td>\n",
       "      <td>1</td>\n",
       "    </tr>\n",
       "    <tr>\n",
       "      <th>889</th>\n",
       "      <td>890</td>\n",
       "      <td>1</td>\n",
       "      <td>26.0</td>\n",
       "      <td>0</td>\n",
       "      <td>0</td>\n",
       "      <td>30.0000</td>\n",
       "      <td>0</td>\n",
       "      <td>0</td>\n",
       "      <td>1</td>\n",
       "      <td>0</td>\n",
       "      <td>0</td>\n",
       "    </tr>\n",
       "    <tr>\n",
       "      <th>890</th>\n",
       "      <td>891</td>\n",
       "      <td>0</td>\n",
       "      <td>32.0</td>\n",
       "      <td>0</td>\n",
       "      <td>0</td>\n",
       "      <td>7.7500</td>\n",
       "      <td>0</td>\n",
       "      <td>1</td>\n",
       "      <td>1</td>\n",
       "      <td>1</td>\n",
       "      <td>0</td>\n",
       "    </tr>\n",
       "  </tbody>\n",
       "</table>\n",
       "<p>830 rows × 11 columns</p>\n",
       "</div>"
      ],
      "text/plain": [
       "     PassengerId  Survived   Age  SibSp  Parch     Fare  Pclass_2  Pclass_3  \\\n",
       "0              1         0  22.0      1      0   7.2500         0         1   \n",
       "1              2         1  38.0      1      0  71.2833         0         0   \n",
       "2              3         1  26.0      0      0   7.9250         0         1   \n",
       "3              4         1  35.0      1      0  53.1000         0         0   \n",
       "4              5         0  35.0      0      0   8.0500         0         1   \n",
       "..           ...       ...   ...    ...    ...      ...       ...       ...   \n",
       "886          887         0  27.0      0      0  13.0000         1         0   \n",
       "887          888         1  19.0      0      0  30.0000         0         0   \n",
       "888          889         0  28.0      1      2  23.4500         0         1   \n",
       "889          890         1  26.0      0      0  30.0000         0         0   \n",
       "890          891         0  32.0      0      0   7.7500         0         1   \n",
       "\n",
       "     Sex_male  Embarked_Q  Embarked_S  \n",
       "0           1           0           1  \n",
       "1           0           0           0  \n",
       "2           0           0           1  \n",
       "3           0           0           1  \n",
       "4           1           0           1  \n",
       "..        ...         ...         ...  \n",
       "886         1           0           1  \n",
       "887         0           0           1  \n",
       "888         0           0           1  \n",
       "889         1           0           0  \n",
       "890         1           1           0  \n",
       "\n",
       "[830 rows x 11 columns]"
      ]
     },
     "execution_count": 41,
     "metadata": {},
     "output_type": "execute_result"
    }
   ],
   "source": [
    "training_set"
   ]
  },
  {
   "cell_type": "code",
   "execution_count": 42,
   "id": "frequent-charlotte",
   "metadata": {
    "execution": {
     "iopub.execute_input": "2021-05-18T18:16:05.383488Z",
     "iopub.status.busy": "2021-05-18T18:16:05.382823Z",
     "iopub.status.idle": "2021-05-18T18:16:05.403964Z",
     "shell.execute_reply": "2021-05-18T18:16:05.403410Z"
    },
    "papermill": {
     "duration": 0.095284,
     "end_time": "2021-05-18T18:16:05.404120",
     "exception": false,
     "start_time": "2021-05-18T18:16:05.308836",
     "status": "completed"
    },
    "tags": []
   },
   "outputs": [
    {
     "data": {
      "text/html": [
       "<div>\n",
       "<style scoped>\n",
       "    .dataframe tbody tr th:only-of-type {\n",
       "        vertical-align: middle;\n",
       "    }\n",
       "\n",
       "    .dataframe tbody tr th {\n",
       "        vertical-align: top;\n",
       "    }\n",
       "\n",
       "    .dataframe thead th {\n",
       "        text-align: right;\n",
       "    }\n",
       "</style>\n",
       "<table border=\"1\" class=\"dataframe\">\n",
       "  <thead>\n",
       "    <tr style=\"text-align: right;\">\n",
       "      <th></th>\n",
       "      <th>PassengerId</th>\n",
       "      <th>Age</th>\n",
       "      <th>SibSp</th>\n",
       "      <th>Parch</th>\n",
       "      <th>Fare</th>\n",
       "      <th>Pclass_2</th>\n",
       "      <th>Pclass_3</th>\n",
       "      <th>Sex_male</th>\n",
       "      <th>Embarked_Q</th>\n",
       "      <th>Embarked_S</th>\n",
       "    </tr>\n",
       "  </thead>\n",
       "  <tbody>\n",
       "    <tr>\n",
       "      <th>0</th>\n",
       "      <td>892</td>\n",
       "      <td>34.5</td>\n",
       "      <td>0</td>\n",
       "      <td>0</td>\n",
       "      <td>7.8292</td>\n",
       "      <td>0</td>\n",
       "      <td>1</td>\n",
       "      <td>1</td>\n",
       "      <td>1</td>\n",
       "      <td>0</td>\n",
       "    </tr>\n",
       "    <tr>\n",
       "      <th>1</th>\n",
       "      <td>893</td>\n",
       "      <td>47.0</td>\n",
       "      <td>1</td>\n",
       "      <td>0</td>\n",
       "      <td>7.0000</td>\n",
       "      <td>0</td>\n",
       "      <td>1</td>\n",
       "      <td>0</td>\n",
       "      <td>0</td>\n",
       "      <td>1</td>\n",
       "    </tr>\n",
       "    <tr>\n",
       "      <th>2</th>\n",
       "      <td>894</td>\n",
       "      <td>62.0</td>\n",
       "      <td>0</td>\n",
       "      <td>0</td>\n",
       "      <td>9.6875</td>\n",
       "      <td>1</td>\n",
       "      <td>0</td>\n",
       "      <td>1</td>\n",
       "      <td>1</td>\n",
       "      <td>0</td>\n",
       "    </tr>\n",
       "    <tr>\n",
       "      <th>3</th>\n",
       "      <td>895</td>\n",
       "      <td>27.0</td>\n",
       "      <td>0</td>\n",
       "      <td>0</td>\n",
       "      <td>8.6625</td>\n",
       "      <td>0</td>\n",
       "      <td>1</td>\n",
       "      <td>1</td>\n",
       "      <td>0</td>\n",
       "      <td>1</td>\n",
       "    </tr>\n",
       "    <tr>\n",
       "      <th>4</th>\n",
       "      <td>896</td>\n",
       "      <td>22.0</td>\n",
       "      <td>1</td>\n",
       "      <td>1</td>\n",
       "      <td>12.2875</td>\n",
       "      <td>0</td>\n",
       "      <td>1</td>\n",
       "      <td>0</td>\n",
       "      <td>0</td>\n",
       "      <td>1</td>\n",
       "    </tr>\n",
       "    <tr>\n",
       "      <th>...</th>\n",
       "      <td>...</td>\n",
       "      <td>...</td>\n",
       "      <td>...</td>\n",
       "      <td>...</td>\n",
       "      <td>...</td>\n",
       "      <td>...</td>\n",
       "      <td>...</td>\n",
       "      <td>...</td>\n",
       "      <td>...</td>\n",
       "      <td>...</td>\n",
       "    </tr>\n",
       "    <tr>\n",
       "      <th>413</th>\n",
       "      <td>1305</td>\n",
       "      <td>27.0</td>\n",
       "      <td>0</td>\n",
       "      <td>0</td>\n",
       "      <td>8.0500</td>\n",
       "      <td>0</td>\n",
       "      <td>1</td>\n",
       "      <td>1</td>\n",
       "      <td>0</td>\n",
       "      <td>1</td>\n",
       "    </tr>\n",
       "    <tr>\n",
       "      <th>414</th>\n",
       "      <td>1306</td>\n",
       "      <td>39.0</td>\n",
       "      <td>0</td>\n",
       "      <td>0</td>\n",
       "      <td>108.9000</td>\n",
       "      <td>0</td>\n",
       "      <td>0</td>\n",
       "      <td>0</td>\n",
       "      <td>0</td>\n",
       "      <td>0</td>\n",
       "    </tr>\n",
       "    <tr>\n",
       "      <th>415</th>\n",
       "      <td>1307</td>\n",
       "      <td>38.5</td>\n",
       "      <td>0</td>\n",
       "      <td>0</td>\n",
       "      <td>7.2500</td>\n",
       "      <td>0</td>\n",
       "      <td>1</td>\n",
       "      <td>1</td>\n",
       "      <td>0</td>\n",
       "      <td>1</td>\n",
       "    </tr>\n",
       "    <tr>\n",
       "      <th>416</th>\n",
       "      <td>1308</td>\n",
       "      <td>27.0</td>\n",
       "      <td>0</td>\n",
       "      <td>0</td>\n",
       "      <td>8.0500</td>\n",
       "      <td>0</td>\n",
       "      <td>1</td>\n",
       "      <td>1</td>\n",
       "      <td>0</td>\n",
       "      <td>1</td>\n",
       "    </tr>\n",
       "    <tr>\n",
       "      <th>417</th>\n",
       "      <td>1309</td>\n",
       "      <td>27.0</td>\n",
       "      <td>1</td>\n",
       "      <td>1</td>\n",
       "      <td>22.3583</td>\n",
       "      <td>0</td>\n",
       "      <td>1</td>\n",
       "      <td>1</td>\n",
       "      <td>0</td>\n",
       "      <td>0</td>\n",
       "    </tr>\n",
       "  </tbody>\n",
       "</table>\n",
       "<p>418 rows × 10 columns</p>\n",
       "</div>"
      ],
      "text/plain": [
       "     PassengerId   Age  SibSp  Parch      Fare  Pclass_2  Pclass_3  Sex_male  \\\n",
       "0            892  34.5      0      0    7.8292         0         1         1   \n",
       "1            893  47.0      1      0    7.0000         0         1         0   \n",
       "2            894  62.0      0      0    9.6875         1         0         1   \n",
       "3            895  27.0      0      0    8.6625         0         1         1   \n",
       "4            896  22.0      1      1   12.2875         0         1         0   \n",
       "..           ...   ...    ...    ...       ...       ...       ...       ...   \n",
       "413         1305  27.0      0      0    8.0500         0         1         1   \n",
       "414         1306  39.0      0      0  108.9000         0         0         0   \n",
       "415         1307  38.5      0      0    7.2500         0         1         1   \n",
       "416         1308  27.0      0      0    8.0500         0         1         1   \n",
       "417         1309  27.0      1      1   22.3583         0         1         1   \n",
       "\n",
       "     Embarked_Q  Embarked_S  \n",
       "0             1           0  \n",
       "1             0           1  \n",
       "2             1           0  \n",
       "3             0           1  \n",
       "4             0           1  \n",
       "..          ...         ...  \n",
       "413           0           1  \n",
       "414           0           0  \n",
       "415           0           1  \n",
       "416           0           1  \n",
       "417           0           0  \n",
       "\n",
       "[418 rows x 10 columns]"
      ]
     },
     "execution_count": 42,
     "metadata": {},
     "output_type": "execute_result"
    }
   ],
   "source": [
    "test_set"
   ]
  },
  {
   "cell_type": "code",
   "execution_count": 43,
   "id": "contained-laptop",
   "metadata": {
    "execution": {
     "iopub.execute_input": "2021-05-18T18:16:05.545462Z",
     "iopub.status.busy": "2021-05-18T18:16:05.544770Z",
     "iopub.status.idle": "2021-05-18T18:16:05.585178Z",
     "shell.execute_reply": "2021-05-18T18:16:05.585717Z"
    },
    "papermill": {
     "duration": 0.112614,
     "end_time": "2021-05-18T18:16:05.585902",
     "exception": false,
     "start_time": "2021-05-18T18:16:05.473288",
     "status": "completed"
    },
    "tags": []
   },
   "outputs": [
    {
     "data": {
      "text/html": [
       "<div>\n",
       "<style scoped>\n",
       "    .dataframe tbody tr th:only-of-type {\n",
       "        vertical-align: middle;\n",
       "    }\n",
       "\n",
       "    .dataframe tbody tr th {\n",
       "        vertical-align: top;\n",
       "    }\n",
       "\n",
       "    .dataframe thead th {\n",
       "        text-align: right;\n",
       "    }\n",
       "</style>\n",
       "<table border=\"1\" class=\"dataframe\">\n",
       "  <thead>\n",
       "    <tr style=\"text-align: right;\">\n",
       "      <th></th>\n",
       "      <th>PassengerId</th>\n",
       "      <th>Age</th>\n",
       "      <th>SibSp</th>\n",
       "      <th>Parch</th>\n",
       "      <th>Fare</th>\n",
       "      <th>Pclass_2</th>\n",
       "      <th>Pclass_3</th>\n",
       "      <th>Sex_male</th>\n",
       "      <th>Embarked_Q</th>\n",
       "      <th>Embarked_S</th>\n",
       "    </tr>\n",
       "  </thead>\n",
       "  <tbody>\n",
       "    <tr>\n",
       "      <th>count</th>\n",
       "      <td>418.000000</td>\n",
       "      <td>418.000000</td>\n",
       "      <td>418.000000</td>\n",
       "      <td>418.000000</td>\n",
       "      <td>418.000000</td>\n",
       "      <td>418.000000</td>\n",
       "      <td>418.000000</td>\n",
       "      <td>418.000000</td>\n",
       "      <td>418.000000</td>\n",
       "      <td>418.000000</td>\n",
       "    </tr>\n",
       "    <tr>\n",
       "      <th>mean</th>\n",
       "      <td>1100.500000</td>\n",
       "      <td>29.599282</td>\n",
       "      <td>0.447368</td>\n",
       "      <td>0.392344</td>\n",
       "      <td>35.576535</td>\n",
       "      <td>0.222488</td>\n",
       "      <td>0.521531</td>\n",
       "      <td>0.636364</td>\n",
       "      <td>0.110048</td>\n",
       "      <td>0.645933</td>\n",
       "    </tr>\n",
       "    <tr>\n",
       "      <th>std</th>\n",
       "      <td>120.810458</td>\n",
       "      <td>12.703770</td>\n",
       "      <td>0.896760</td>\n",
       "      <td>0.981429</td>\n",
       "      <td>55.850103</td>\n",
       "      <td>0.416416</td>\n",
       "      <td>0.500135</td>\n",
       "      <td>0.481622</td>\n",
       "      <td>0.313324</td>\n",
       "      <td>0.478803</td>\n",
       "    </tr>\n",
       "    <tr>\n",
       "      <th>min</th>\n",
       "      <td>892.000000</td>\n",
       "      <td>0.170000</td>\n",
       "      <td>0.000000</td>\n",
       "      <td>0.000000</td>\n",
       "      <td>0.000000</td>\n",
       "      <td>0.000000</td>\n",
       "      <td>0.000000</td>\n",
       "      <td>0.000000</td>\n",
       "      <td>0.000000</td>\n",
       "      <td>0.000000</td>\n",
       "    </tr>\n",
       "    <tr>\n",
       "      <th>25%</th>\n",
       "      <td>996.250000</td>\n",
       "      <td>23.000000</td>\n",
       "      <td>0.000000</td>\n",
       "      <td>0.000000</td>\n",
       "      <td>7.895800</td>\n",
       "      <td>0.000000</td>\n",
       "      <td>0.000000</td>\n",
       "      <td>0.000000</td>\n",
       "      <td>0.000000</td>\n",
       "      <td>0.000000</td>\n",
       "    </tr>\n",
       "    <tr>\n",
       "      <th>50%</th>\n",
       "      <td>1100.500000</td>\n",
       "      <td>27.000000</td>\n",
       "      <td>0.000000</td>\n",
       "      <td>0.000000</td>\n",
       "      <td>14.454200</td>\n",
       "      <td>0.000000</td>\n",
       "      <td>1.000000</td>\n",
       "      <td>1.000000</td>\n",
       "      <td>0.000000</td>\n",
       "      <td>1.000000</td>\n",
       "    </tr>\n",
       "    <tr>\n",
       "      <th>75%</th>\n",
       "      <td>1204.750000</td>\n",
       "      <td>35.750000</td>\n",
       "      <td>1.000000</td>\n",
       "      <td>0.000000</td>\n",
       "      <td>31.471875</td>\n",
       "      <td>0.000000</td>\n",
       "      <td>1.000000</td>\n",
       "      <td>1.000000</td>\n",
       "      <td>0.000000</td>\n",
       "      <td>1.000000</td>\n",
       "    </tr>\n",
       "    <tr>\n",
       "      <th>max</th>\n",
       "      <td>1309.000000</td>\n",
       "      <td>76.000000</td>\n",
       "      <td>8.000000</td>\n",
       "      <td>9.000000</td>\n",
       "      <td>512.329200</td>\n",
       "      <td>1.000000</td>\n",
       "      <td>1.000000</td>\n",
       "      <td>1.000000</td>\n",
       "      <td>1.000000</td>\n",
       "      <td>1.000000</td>\n",
       "    </tr>\n",
       "  </tbody>\n",
       "</table>\n",
       "</div>"
      ],
      "text/plain": [
       "       PassengerId         Age       SibSp       Parch        Fare  \\\n",
       "count   418.000000  418.000000  418.000000  418.000000  418.000000   \n",
       "mean   1100.500000   29.599282    0.447368    0.392344   35.576535   \n",
       "std     120.810458   12.703770    0.896760    0.981429   55.850103   \n",
       "min     892.000000    0.170000    0.000000    0.000000    0.000000   \n",
       "25%     996.250000   23.000000    0.000000    0.000000    7.895800   \n",
       "50%    1100.500000   27.000000    0.000000    0.000000   14.454200   \n",
       "75%    1204.750000   35.750000    1.000000    0.000000   31.471875   \n",
       "max    1309.000000   76.000000    8.000000    9.000000  512.329200   \n",
       "\n",
       "         Pclass_2    Pclass_3    Sex_male  Embarked_Q  Embarked_S  \n",
       "count  418.000000  418.000000  418.000000  418.000000  418.000000  \n",
       "mean     0.222488    0.521531    0.636364    0.110048    0.645933  \n",
       "std      0.416416    0.500135    0.481622    0.313324    0.478803  \n",
       "min      0.000000    0.000000    0.000000    0.000000    0.000000  \n",
       "25%      0.000000    0.000000    0.000000    0.000000    0.000000  \n",
       "50%      0.000000    1.000000    1.000000    0.000000    1.000000  \n",
       "75%      0.000000    1.000000    1.000000    0.000000    1.000000  \n",
       "max      1.000000    1.000000    1.000000    1.000000    1.000000  "
      ]
     },
     "execution_count": 43,
     "metadata": {},
     "output_type": "execute_result"
    }
   ],
   "source": [
    "x_test.describe()"
   ]
  },
  {
   "cell_type": "code",
   "execution_count": 44,
   "id": "declared-economy",
   "metadata": {
    "execution": {
     "iopub.execute_input": "2021-05-18T18:16:05.729536Z",
     "iopub.status.busy": "2021-05-18T18:16:05.728889Z",
     "iopub.status.idle": "2021-05-18T18:16:05.738273Z",
     "shell.execute_reply": "2021-05-18T18:16:05.737687Z"
    },
    "papermill": {
     "duration": 0.081684,
     "end_time": "2021-05-18T18:16:05.738407",
     "exception": false,
     "start_time": "2021-05-18T18:16:05.656723",
     "status": "completed"
    },
    "tags": []
   },
   "outputs": [
    {
     "data": {
      "text/plain": [
       "PassengerId    0\n",
       "Age            0\n",
       "SibSp          0\n",
       "Parch          0\n",
       "Fare           0\n",
       "Pclass_2       0\n",
       "Pclass_3       0\n",
       "Sex_male       0\n",
       "Embarked_Q     0\n",
       "Embarked_S     0\n",
       "dtype: int64"
      ]
     },
     "execution_count": 44,
     "metadata": {},
     "output_type": "execute_result"
    }
   ],
   "source": [
    "x_test.isna().sum()"
   ]
  },
  {
   "cell_type": "markdown",
   "id": "front-italy",
   "metadata": {
    "papermill": {
     "duration": 0.069253,
     "end_time": "2021-05-18T18:16:05.877137",
     "exception": false,
     "start_time": "2021-05-18T18:16:05.807884",
     "status": "completed"
    },
    "tags": []
   },
   "source": [
    "# Feature importance\n",
    "****"
   ]
  },
  {
   "cell_type": "code",
   "execution_count": 45,
   "id": "joined-finding",
   "metadata": {
    "execution": {
     "iopub.execute_input": "2021-05-18T18:16:06.023277Z",
     "iopub.status.busy": "2021-05-18T18:16:06.022501Z",
     "iopub.status.idle": "2021-05-18T18:16:06.243564Z",
     "shell.execute_reply": "2021-05-18T18:16:06.242979Z"
    },
    "papermill": {
     "duration": 0.296458,
     "end_time": "2021-05-18T18:16:06.243724",
     "exception": false,
     "start_time": "2021-05-18T18:16:05.947266",
     "status": "completed"
    },
    "tags": []
   },
   "outputs": [],
   "source": [
    "from sklearn.tree import DecisionTreeClassifier\n",
    "\n",
    "classifier_dt = DecisionTreeClassifier()\n",
    "#classifier_dt.fit(x_train, y_train)\n",
    "\n",
    "#y_pred = classifier_dt.predict(x_test)\n",
    "\n",
    "#importances = pd.DataFrame(classifier_dt.feature_importances_, index = x_train.columns)\n",
    "#importances.sort_values(by = 0, inplace=True, ascending = False)\n",
    "\n",
    "#plt.figure(figsize = (8, 5)) \n",
    "#sn.barplot(x = 0, y = importances.index, data = importances)\n",
    "#sn.despine()"
   ]
  },
  {
   "cell_type": "code",
   "execution_count": 46,
   "id": "tested-mandate",
   "metadata": {
    "execution": {
     "iopub.execute_input": "2021-05-18T18:16:06.396610Z",
     "iopub.status.busy": "2021-05-18T18:16:06.391074Z",
     "iopub.status.idle": "2021-05-18T18:16:06.401309Z",
     "shell.execute_reply": "2021-05-18T18:16:06.400668Z"
    },
    "papermill": {
     "duration": 0.088429,
     "end_time": "2021-05-18T18:16:06.401466",
     "exception": false,
     "start_time": "2021-05-18T18:16:06.313037",
     "status": "completed"
    },
    "tags": []
   },
   "outputs": [
    {
     "data": {
      "text/html": [
       "<div>\n",
       "<style scoped>\n",
       "    .dataframe tbody tr th:only-of-type {\n",
       "        vertical-align: middle;\n",
       "    }\n",
       "\n",
       "    .dataframe tbody tr th {\n",
       "        vertical-align: top;\n",
       "    }\n",
       "\n",
       "    .dataframe thead th {\n",
       "        text-align: right;\n",
       "    }\n",
       "</style>\n",
       "<table border=\"1\" class=\"dataframe\">\n",
       "  <thead>\n",
       "    <tr style=\"text-align: right;\">\n",
       "      <th></th>\n",
       "      <th>PassengerId</th>\n",
       "      <th>Survived</th>\n",
       "      <th>Age</th>\n",
       "      <th>SibSp</th>\n",
       "      <th>Parch</th>\n",
       "      <th>Fare</th>\n",
       "      <th>Pclass_2</th>\n",
       "      <th>Pclass_3</th>\n",
       "      <th>Sex_male</th>\n",
       "      <th>Embarked_Q</th>\n",
       "      <th>Embarked_S</th>\n",
       "    </tr>\n",
       "  </thead>\n",
       "  <tbody>\n",
       "    <tr>\n",
       "      <th>0</th>\n",
       "      <td>1</td>\n",
       "      <td>0</td>\n",
       "      <td>22.0</td>\n",
       "      <td>1</td>\n",
       "      <td>0</td>\n",
       "      <td>7.2500</td>\n",
       "      <td>0</td>\n",
       "      <td>1</td>\n",
       "      <td>1</td>\n",
       "      <td>0</td>\n",
       "      <td>1</td>\n",
       "    </tr>\n",
       "    <tr>\n",
       "      <th>1</th>\n",
       "      <td>2</td>\n",
       "      <td>1</td>\n",
       "      <td>38.0</td>\n",
       "      <td>1</td>\n",
       "      <td>0</td>\n",
       "      <td>71.2833</td>\n",
       "      <td>0</td>\n",
       "      <td>0</td>\n",
       "      <td>0</td>\n",
       "      <td>0</td>\n",
       "      <td>0</td>\n",
       "    </tr>\n",
       "    <tr>\n",
       "      <th>2</th>\n",
       "      <td>3</td>\n",
       "      <td>1</td>\n",
       "      <td>26.0</td>\n",
       "      <td>0</td>\n",
       "      <td>0</td>\n",
       "      <td>7.9250</td>\n",
       "      <td>0</td>\n",
       "      <td>1</td>\n",
       "      <td>0</td>\n",
       "      <td>0</td>\n",
       "      <td>1</td>\n",
       "    </tr>\n",
       "    <tr>\n",
       "      <th>3</th>\n",
       "      <td>4</td>\n",
       "      <td>1</td>\n",
       "      <td>35.0</td>\n",
       "      <td>1</td>\n",
       "      <td>0</td>\n",
       "      <td>53.1000</td>\n",
       "      <td>0</td>\n",
       "      <td>0</td>\n",
       "      <td>0</td>\n",
       "      <td>0</td>\n",
       "      <td>1</td>\n",
       "    </tr>\n",
       "    <tr>\n",
       "      <th>4</th>\n",
       "      <td>5</td>\n",
       "      <td>0</td>\n",
       "      <td>35.0</td>\n",
       "      <td>0</td>\n",
       "      <td>0</td>\n",
       "      <td>8.0500</td>\n",
       "      <td>0</td>\n",
       "      <td>1</td>\n",
       "      <td>1</td>\n",
       "      <td>0</td>\n",
       "      <td>1</td>\n",
       "    </tr>\n",
       "  </tbody>\n",
       "</table>\n",
       "</div>"
      ],
      "text/plain": [
       "   PassengerId  Survived   Age  SibSp  Parch     Fare  Pclass_2  Pclass_3  \\\n",
       "0            1         0  22.0      1      0   7.2500         0         1   \n",
       "1            2         1  38.0      1      0  71.2833         0         0   \n",
       "2            3         1  26.0      0      0   7.9250         0         1   \n",
       "3            4         1  35.0      1      0  53.1000         0         0   \n",
       "4            5         0  35.0      0      0   8.0500         0         1   \n",
       "\n",
       "   Sex_male  Embarked_Q  Embarked_S  \n",
       "0         1           0           1  \n",
       "1         0           0           0  \n",
       "2         0           0           1  \n",
       "3         0           0           1  \n",
       "4         1           0           1  "
      ]
     },
     "execution_count": 46,
     "metadata": {},
     "output_type": "execute_result"
    }
   ],
   "source": [
    "training_set.head()"
   ]
  },
  {
   "cell_type": "code",
   "execution_count": 47,
   "id": "undefined-egypt",
   "metadata": {
    "execution": {
     "iopub.execute_input": "2021-05-18T18:16:06.556062Z",
     "iopub.status.busy": "2021-05-18T18:16:06.555096Z",
     "iopub.status.idle": "2021-05-18T18:16:06.559764Z",
     "shell.execute_reply": "2021-05-18T18:16:06.559255Z"
    },
    "papermill": {
     "duration": 0.087999,
     "end_time": "2021-05-18T18:16:06.559922",
     "exception": false,
     "start_time": "2021-05-18T18:16:06.471923",
     "status": "completed"
    },
    "tags": []
   },
   "outputs": [
    {
     "data": {
      "text/html": [
       "<div>\n",
       "<style scoped>\n",
       "    .dataframe tbody tr th:only-of-type {\n",
       "        vertical-align: middle;\n",
       "    }\n",
       "\n",
       "    .dataframe tbody tr th {\n",
       "        vertical-align: top;\n",
       "    }\n",
       "\n",
       "    .dataframe thead th {\n",
       "        text-align: right;\n",
       "    }\n",
       "</style>\n",
       "<table border=\"1\" class=\"dataframe\">\n",
       "  <thead>\n",
       "    <tr style=\"text-align: right;\">\n",
       "      <th></th>\n",
       "      <th>PassengerId</th>\n",
       "      <th>Age</th>\n",
       "      <th>SibSp</th>\n",
       "      <th>Parch</th>\n",
       "      <th>Fare</th>\n",
       "      <th>Pclass_2</th>\n",
       "      <th>Pclass_3</th>\n",
       "      <th>Sex_male</th>\n",
       "      <th>Embarked_Q</th>\n",
       "      <th>Embarked_S</th>\n",
       "    </tr>\n",
       "  </thead>\n",
       "  <tbody>\n",
       "    <tr>\n",
       "      <th>0</th>\n",
       "      <td>892</td>\n",
       "      <td>34.5</td>\n",
       "      <td>0</td>\n",
       "      <td>0</td>\n",
       "      <td>7.8292</td>\n",
       "      <td>0</td>\n",
       "      <td>1</td>\n",
       "      <td>1</td>\n",
       "      <td>1</td>\n",
       "      <td>0</td>\n",
       "    </tr>\n",
       "    <tr>\n",
       "      <th>1</th>\n",
       "      <td>893</td>\n",
       "      <td>47.0</td>\n",
       "      <td>1</td>\n",
       "      <td>0</td>\n",
       "      <td>7.0000</td>\n",
       "      <td>0</td>\n",
       "      <td>1</td>\n",
       "      <td>0</td>\n",
       "      <td>0</td>\n",
       "      <td>1</td>\n",
       "    </tr>\n",
       "    <tr>\n",
       "      <th>2</th>\n",
       "      <td>894</td>\n",
       "      <td>62.0</td>\n",
       "      <td>0</td>\n",
       "      <td>0</td>\n",
       "      <td>9.6875</td>\n",
       "      <td>1</td>\n",
       "      <td>0</td>\n",
       "      <td>1</td>\n",
       "      <td>1</td>\n",
       "      <td>0</td>\n",
       "    </tr>\n",
       "    <tr>\n",
       "      <th>3</th>\n",
       "      <td>895</td>\n",
       "      <td>27.0</td>\n",
       "      <td>0</td>\n",
       "      <td>0</td>\n",
       "      <td>8.6625</td>\n",
       "      <td>0</td>\n",
       "      <td>1</td>\n",
       "      <td>1</td>\n",
       "      <td>0</td>\n",
       "      <td>1</td>\n",
       "    </tr>\n",
       "    <tr>\n",
       "      <th>4</th>\n",
       "      <td>896</td>\n",
       "      <td>22.0</td>\n",
       "      <td>1</td>\n",
       "      <td>1</td>\n",
       "      <td>12.2875</td>\n",
       "      <td>0</td>\n",
       "      <td>1</td>\n",
       "      <td>0</td>\n",
       "      <td>0</td>\n",
       "      <td>1</td>\n",
       "    </tr>\n",
       "  </tbody>\n",
       "</table>\n",
       "</div>"
      ],
      "text/plain": [
       "   PassengerId   Age  SibSp  Parch     Fare  Pclass_2  Pclass_3  Sex_male  \\\n",
       "0          892  34.5      0      0   7.8292         0         1         1   \n",
       "1          893  47.0      1      0   7.0000         0         1         0   \n",
       "2          894  62.0      0      0   9.6875         1         0         1   \n",
       "3          895  27.0      0      0   8.6625         0         1         1   \n",
       "4          896  22.0      1      1  12.2875         0         1         0   \n",
       "\n",
       "   Embarked_Q  Embarked_S  \n",
       "0           1           0  \n",
       "1           0           1  \n",
       "2           1           0  \n",
       "3           0           1  \n",
       "4           0           1  "
      ]
     },
     "execution_count": 47,
     "metadata": {},
     "output_type": "execute_result"
    }
   ],
   "source": [
    "test_set.head()"
   ]
  },
  {
   "cell_type": "markdown",
   "id": "harmful-candy",
   "metadata": {
    "papermill": {
     "duration": 0.070662,
     "end_time": "2021-05-18T18:16:06.701530",
     "exception": false,
     "start_time": "2021-05-18T18:16:06.630868",
     "status": "completed"
    },
    "tags": []
   },
   "source": [
    "# Standard scaling\n",
    "****"
   ]
  },
  {
   "cell_type": "code",
   "execution_count": 48,
   "id": "continuing-margin",
   "metadata": {
    "execution": {
     "iopub.execute_input": "2021-05-18T18:16:06.865721Z",
     "iopub.status.busy": "2021-05-18T18:16:06.858304Z",
     "iopub.status.idle": "2021-05-18T18:16:06.868490Z",
     "shell.execute_reply": "2021-05-18T18:16:06.867895Z"
    },
    "papermill": {
     "duration": 0.096125,
     "end_time": "2021-05-18T18:16:06.868638",
     "exception": false,
     "start_time": "2021-05-18T18:16:06.772513",
     "status": "completed"
    },
    "tags": []
   },
   "outputs": [],
   "source": [
    "from sklearn.preprocessing import StandardScaler\n",
    "scaler = StandardScaler()\n",
    "features_to_scale = ['Age','SibSp','Parch','Fare']\n",
    "\n",
    "x_train[features_to_scale] = scaler.fit_transform(x_train[features_to_scale])\n",
    "x_test[features_to_scale] = scaler.fit_transform(x_test[features_to_scale])"
   ]
  },
  {
   "cell_type": "markdown",
   "id": "local-pharmaceutical",
   "metadata": {
    "papermill": {
     "duration": 0.073042,
     "end_time": "2021-05-18T18:16:07.014251",
     "exception": false,
     "start_time": "2021-05-18T18:16:06.941209",
     "status": "completed"
    },
    "tags": []
   },
   "source": [
    "****"
   ]
  },
  {
   "cell_type": "markdown",
   "id": "genetic-spelling",
   "metadata": {
    "papermill": {
     "duration": 0.073044,
     "end_time": "2021-05-18T18:16:07.162589",
     "exception": false,
     "start_time": "2021-05-18T18:16:07.089545",
     "status": "completed"
    },
    "tags": []
   },
   "source": [
    "# Fitting the model\n",
    "****"
   ]
  },
  {
   "cell_type": "markdown",
   "id": "inner-population",
   "metadata": {
    "papermill": {
     "duration": 0.071355,
     "end_time": "2021-05-18T18:16:07.305313",
     "exception": false,
     "start_time": "2021-05-18T18:16:07.233958",
     "status": "completed"
    },
    "tags": []
   },
   "source": [
    "There is room for improvement in the area of XGB model hyperparameter tuning."
   ]
  },
  {
   "cell_type": "markdown",
   "id": "gross-railway",
   "metadata": {
    "papermill": {
     "duration": 0.071176,
     "end_time": "2021-05-18T18:16:07.448213",
     "exception": false,
     "start_time": "2021-05-18T18:16:07.377037",
     "status": "completed"
    },
    "tags": []
   },
   "source": [
    "**Extreme Gradient Boosting** - turned out to be more efficient without hyperparameter boosting than SVM or Random Forest with boosted hyperparameters"
   ]
  },
  {
   "cell_type": "code",
   "execution_count": 49,
   "id": "bound-meter",
   "metadata": {
    "execution": {
     "iopub.execute_input": "2021-05-18T18:16:07.598829Z",
     "iopub.status.busy": "2021-05-18T18:16:07.598171Z",
     "iopub.status.idle": "2021-05-18T18:16:07.719752Z",
     "shell.execute_reply": "2021-05-18T18:16:07.719254Z"
    },
    "papermill": {
     "duration": 0.200501,
     "end_time": "2021-05-18T18:16:07.719901",
     "exception": false,
     "start_time": "2021-05-18T18:16:07.519400",
     "status": "completed"
    },
    "tags": []
   },
   "outputs": [
    {
     "name": "stdout",
     "output_type": "stream",
     "text": [
      "[18:16:07] WARNING: ../src/learner.cc:1095: Starting in XGBoost 1.3.0, the default evaluation metric used with the objective 'binary:logistic' was changed from 'error' to 'logloss'. Explicitly set eval_metric if you'd like to restore the old behavior.\n"
     ]
    },
    {
     "data": {
      "text/plain": [
       "XGBClassifier(base_score=0.5, booster='gbtree', colsample_bylevel=1,\n",
       "              colsample_bynode=1, colsample_bytree=1, gamma=0, gpu_id=-1,\n",
       "              importance_type='gain', interaction_constraints='',\n",
       "              learning_rate=0.300000012, max_delta_step=0, max_depth=6,\n",
       "              min_child_weight=1, missing=nan, monotone_constraints='()',\n",
       "              n_estimators=100, n_jobs=4, num_parallel_tree=1, random_state=0,\n",
       "              reg_alpha=0, reg_lambda=1, scale_pos_weight=1, subsample=1,\n",
       "              tree_method='exact', validate_parameters=1, verbosity=None)"
      ]
     },
     "execution_count": 49,
     "metadata": {},
     "output_type": "execute_result"
    }
   ],
   "source": [
    "from xgboost import XGBClassifier\n",
    "classifier_xgb = XGBClassifier()\n",
    "classifier_xgb.fit(x_train, y_train)"
   ]
  },
  {
   "cell_type": "markdown",
   "id": "registered-identifier",
   "metadata": {
    "papermill": {
     "duration": 0.071602,
     "end_time": "2021-05-18T18:16:07.863359",
     "exception": false,
     "start_time": "2021-05-18T18:16:07.791757",
     "status": "completed"
    },
    "tags": []
   },
   "source": [
    "****"
   ]
  },
  {
   "cell_type": "markdown",
   "id": "english-design",
   "metadata": {
    "papermill": {
     "duration": 0.072088,
     "end_time": "2021-05-18T18:16:08.019014",
     "exception": false,
     "start_time": "2021-05-18T18:16:07.946926",
     "status": "completed"
    },
    "tags": []
   },
   "source": [
    "# Predicting the test set results"
   ]
  },
  {
   "cell_type": "code",
   "execution_count": 50,
   "id": "geological-adams",
   "metadata": {
    "execution": {
     "iopub.execute_input": "2021-05-18T18:16:08.168112Z",
     "iopub.status.busy": "2021-05-18T18:16:08.167465Z",
     "iopub.status.idle": "2021-05-18T18:16:08.173570Z",
     "shell.execute_reply": "2021-05-18T18:16:08.174087Z"
    },
    "papermill": {
     "duration": 0.083198,
     "end_time": "2021-05-18T18:16:08.174287",
     "exception": false,
     "start_time": "2021-05-18T18:16:08.091089",
     "status": "completed"
    },
    "tags": []
   },
   "outputs": [],
   "source": [
    "y_pred_xgb = classifier_xgb.predict(x_test)"
   ]
  },
  {
   "cell_type": "markdown",
   "id": "protective-iraqi",
   "metadata": {
    "papermill": {
     "duration": 0.071759,
     "end_time": "2021-05-18T18:16:08.320835",
     "exception": false,
     "start_time": "2021-05-18T18:16:08.249076",
     "status": "completed"
    },
    "tags": []
   },
   "source": [
    "# Output"
   ]
  },
  {
   "cell_type": "code",
   "execution_count": 51,
   "id": "static-secondary",
   "metadata": {
    "execution": {
     "iopub.execute_input": "2021-05-18T18:16:08.470871Z",
     "iopub.status.busy": "2021-05-18T18:16:08.470231Z",
     "iopub.status.idle": "2021-05-18T18:16:08.485481Z",
     "shell.execute_reply": "2021-05-18T18:16:08.484649Z"
    },
    "papermill": {
     "duration": 0.092115,
     "end_time": "2021-05-18T18:16:08.485675",
     "exception": false,
     "start_time": "2021-05-18T18:16:08.393560",
     "status": "completed"
    },
    "tags": []
   },
   "outputs": [
    {
     "name": "stdout",
     "output_type": "stream",
     "text": [
      "Your submission was successfully saved!\n"
     ]
    }
   ],
   "source": [
    "test_set = pd.read_csv('/kaggle/input/titanic/test.csv')\n",
    "\n",
    "output = pd.DataFrame({'PassengerId': test_set.PassengerId, 'Survived': y_pred_xgb})\n",
    "\n",
    "output.to_csv('my_submission_xgb.csv', index=False)\n",
    "print(\"Your submission was successfully saved!\")"
   ]
  },
  {
   "cell_type": "markdown",
   "id": "complicated-builder",
   "metadata": {
    "papermill": {
     "duration": 0.073221,
     "end_time": "2021-05-18T18:16:08.632429",
     "exception": false,
     "start_time": "2021-05-18T18:16:08.559208",
     "status": "completed"
    },
    "tags": []
   },
   "source": [
    "Citations\n",
    "\n",
    "* https://arjan-hada.github.io/titanic-survival-exploration.html\n",
    "* https://www.kaggle.com/javiervallejos/titanic-top-3\n",
    "* https://www.kaggle.com/vipin20/titanic-prediction-eda-hyperparameter-top-10/comments#Prediction-on-Test-data\n",
    "* https://www.kaggle.com/sociopath00/random-forest-using-gridsearchcv"
   ]
  }
 ],
 "metadata": {
  "kernelspec": {
   "display_name": "Python 3",
   "language": "python",
   "name": "python3"
  },
  "language_info": {
   "codemirror_mode": {
    "name": "ipython",
    "version": 3
   },
   "file_extension": ".py",
   "mimetype": "text/x-python",
   "name": "python",
   "nbconvert_exporter": "python",
   "pygments_lexer": "ipython3",
   "version": "3.7.10"
  },
  "papermill": {
   "default_parameters": {},
   "duration": 26.002154,
   "end_time": "2021-05-18T18:16:09.942080",
   "environment_variables": {},
   "exception": null,
   "input_path": "__notebook__.ipynb",
   "output_path": "__notebook__.ipynb",
   "parameters": {},
   "start_time": "2021-05-18T18:15:43.939926",
   "version": "2.3.3"
  }
 },
 "nbformat": 4,
 "nbformat_minor": 5
}
