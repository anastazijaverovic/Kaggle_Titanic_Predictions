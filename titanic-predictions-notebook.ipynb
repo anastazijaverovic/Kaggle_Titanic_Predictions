{
 "cells": [
  {
   "cell_type": "markdown",
   "id": "fifty-circle",
   "metadata": {
    "papermill": {
     "duration": 0.057397,
     "end_time": "2021-05-16T18:35:21.079800",
     "exception": false,
     "start_time": "2021-05-16T18:35:21.022403",
     "status": "completed"
    },
    "tags": []
   },
   "source": [
    "# **Titanic Kaggle Competition Predictions**\n",
    "********"
   ]
  },
  {
   "cell_type": "markdown",
   "id": "figured-nitrogen",
   "metadata": {
    "papermill": {
     "duration": 0.052797,
     "end_time": "2021-05-16T18:35:21.185644",
     "exception": false,
     "start_time": "2021-05-16T18:35:21.132847",
     "status": "completed"
    },
    "tags": []
   },
   "source": [
    "TODO:\n",
    "\n",
    "* Cross validation\n",
    "* Model boosting (hyperparameter tuning)"
   ]
  },
  {
   "cell_type": "markdown",
   "id": "leading-alcohol",
   "metadata": {
    "papermill": {
     "duration": 0.051392,
     "end_time": "2021-05-16T18:35:21.289130",
     "exception": false,
     "start_time": "2021-05-16T18:35:21.237738",
     "status": "completed"
    },
    "tags": []
   },
   "source": [
    "# Problem description\n",
    "****"
   ]
  },
  {
   "cell_type": "markdown",
   "id": "heated-manitoba",
   "metadata": {
    "papermill": {
     "duration": 0.051834,
     "end_time": "2021-05-16T18:35:21.394445",
     "exception": false,
     "start_time": "2021-05-16T18:35:21.342611",
     "status": "completed"
    },
    "tags": []
   },
   "source": [
    "The sinking of the Titanic is one of the most infamous shipwrecks in history.\n",
    "\n",
    "On April 15, 1912, during her maiden voyage, the widely considered “unsinkable” RMS Titanic sank after colliding with an iceberg. Unfortunately, there weren’t enough lifeboats for everyone onboard, resulting in the death of 1502 out of 2224 passengers and crew.\n",
    "\n",
    "While there was some element of luck involved in surviving, it seems some groups of people were more likely to survive than others.\n",
    "\n",
    "In this challenge, the goal is to build a predictive model that answers the question: “what sorts of people were more likely to survive?” using passenger data (ie name, age, gender, socio-economic class, etc)."
   ]
  },
  {
   "cell_type": "markdown",
   "id": "spectacular-cassette",
   "metadata": {
    "papermill": {
     "duration": 0.051594,
     "end_time": "2021-05-16T18:35:21.499514",
     "exception": false,
     "start_time": "2021-05-16T18:35:21.447920",
     "status": "completed"
    },
    "tags": []
   },
   "source": [
    "**Dataset features:**\n",
    "****\n",
    "\n",
    "Survived: Outcome of survival (0 = No; 1 = Yes)\n",
    "\n",
    "Pclass: Socio-economic class (1 = Upper class; 2 = Middle class; 3 = Lower class)\n",
    "\n",
    "Name: Name of passenger\n",
    "\n",
    "Sex: Sex of the passenger\n",
    "\n",
    "Age: Age of the passenger (Some entries contain NaN)\n",
    "\n",
    "SibSp: Number of siblings and spouses of the passenger aboard\n",
    "\n",
    "Parch: Number of parents and children of the passenger aboard\n",
    "\n",
    "Ticket: Ticket number of the passenger\n",
    "\n",
    "Fare: Fare paid by the passenger\n",
    "\n",
    "Cabin Cabin number of the passenger (Some entries contain NaN)\n",
    "\n",
    "Embarked: Port of embarkation of the passenger (C = Cherbourg; Q = Queenstown; S = Southampton)\n"
   ]
  },
  {
   "cell_type": "markdown",
   "id": "considered-steps",
   "metadata": {
    "papermill": {
     "duration": 0.051904,
     "end_time": "2021-05-16T18:35:21.603509",
     "exception": false,
     "start_time": "2021-05-16T18:35:21.551605",
     "status": "completed"
    },
    "tags": []
   },
   "source": [
    "# Importing the libraries\n",
    "****"
   ]
  },
  {
   "cell_type": "code",
   "execution_count": 1,
   "id": "adult-welcome",
   "metadata": {
    "_cell_guid": "b1076dfc-b9ad-4769-8c92-a6c4dae69d19",
    "_uuid": "8f2839f25d086af736a60e9eeb907d3b93b6e0e5",
    "execution": {
     "iopub.execute_input": "2021-05-16T18:35:21.721237Z",
     "iopub.status.busy": "2021-05-16T18:35:21.720295Z",
     "iopub.status.idle": "2021-05-16T18:35:22.969975Z",
     "shell.execute_reply": "2021-05-16T18:35:22.969198Z"
    },
    "papermill": {
     "duration": 1.314517,
     "end_time": "2021-05-16T18:35:22.970153",
     "exception": false,
     "start_time": "2021-05-16T18:35:21.655636",
     "status": "completed"
    },
    "tags": []
   },
   "outputs": [
    {
     "name": "stdout",
     "output_type": "stream",
     "text": [
      "/kaggle/input/titanic/train.csv\n",
      "/kaggle/input/titanic/test.csv\n",
      "/kaggle/input/titanic/gender_submission.csv\n"
     ]
    }
   ],
   "source": [
    "import numpy as np # linear algebra\n",
    "import pandas as pd # data processing, CSV file I/O (e.g. pd.read_csv)\n",
    "import math\n",
    "import xgboost\n",
    "import matplotlib.pyplot as plt\n",
    "import warnings\n",
    "import seaborn as sn\n",
    "warnings.filterwarnings('ignore')\n",
    "from sklearn import preprocessing\n",
    "\n",
    "# Input data files are available in the read-only \"../input/\" directory\n",
    "# For example, running this (by clicking run or pressing Shift+Enter) will list all files under the input directory\n",
    "\n",
    "import os\n",
    "for dirname, _, filenames in os.walk('/kaggle/input'):\n",
    "    for filename in filenames:\n",
    "        print(os.path.join(dirname, filename))\n",
    "\n",
    "# You can write up to 20GB to the current directory (/kaggle/working/) that gets preserved as output when you create a version using \"Save & Run All\" \n",
    "# You can also write temporary files to /kaggle/temp/, but they won't be saved outside of the current session"
   ]
  },
  {
   "cell_type": "markdown",
   "id": "suspected-formation",
   "metadata": {
    "papermill": {
     "duration": 0.052531,
     "end_time": "2021-05-16T18:35:23.075658",
     "exception": false,
     "start_time": "2021-05-16T18:35:23.023127",
     "status": "completed"
    },
    "tags": []
   },
   "source": [
    "# Importing the data\n",
    "****"
   ]
  },
  {
   "cell_type": "code",
   "execution_count": 2,
   "id": "pressing-gates",
   "metadata": {
    "execution": {
     "iopub.execute_input": "2021-05-16T18:35:23.186984Z",
     "iopub.status.busy": "2021-05-16T18:35:23.186262Z",
     "iopub.status.idle": "2021-05-16T18:35:23.214332Z",
     "shell.execute_reply": "2021-05-16T18:35:23.213750Z"
    },
    "papermill": {
     "duration": 0.086465,
     "end_time": "2021-05-16T18:35:23.214510",
     "exception": false,
     "start_time": "2021-05-16T18:35:23.128045",
     "status": "completed"
    },
    "tags": []
   },
   "outputs": [],
   "source": [
    "training_set = pd.read_csv('/kaggle/input/titanic/train.csv')\n",
    "test_set = pd.read_csv('/kaggle/input/titanic/test.csv')"
   ]
  },
  {
   "cell_type": "markdown",
   "id": "cooperative-today",
   "metadata": {
    "papermill": {
     "duration": 0.05244,
     "end_time": "2021-05-16T18:35:23.321353",
     "exception": false,
     "start_time": "2021-05-16T18:35:23.268913",
     "status": "completed"
    },
    "tags": []
   },
   "source": [
    "# Data exploration\n",
    "****"
   ]
  },
  {
   "cell_type": "code",
   "execution_count": 3,
   "id": "lovely-respect",
   "metadata": {
    "execution": {
     "iopub.execute_input": "2021-05-16T18:35:23.437899Z",
     "iopub.status.busy": "2021-05-16T18:35:23.436267Z",
     "iopub.status.idle": "2021-05-16T18:35:23.465761Z",
     "shell.execute_reply": "2021-05-16T18:35:23.465217Z"
    },
    "papermill": {
     "duration": 0.091747,
     "end_time": "2021-05-16T18:35:23.465910",
     "exception": false,
     "start_time": "2021-05-16T18:35:23.374163",
     "status": "completed"
    },
    "tags": []
   },
   "outputs": [
    {
     "data": {
      "text/html": [
       "<div>\n",
       "<style scoped>\n",
       "    .dataframe tbody tr th:only-of-type {\n",
       "        vertical-align: middle;\n",
       "    }\n",
       "\n",
       "    .dataframe tbody tr th {\n",
       "        vertical-align: top;\n",
       "    }\n",
       "\n",
       "    .dataframe thead th {\n",
       "        text-align: right;\n",
       "    }\n",
       "</style>\n",
       "<table border=\"1\" class=\"dataframe\">\n",
       "  <thead>\n",
       "    <tr style=\"text-align: right;\">\n",
       "      <th></th>\n",
       "      <th>PassengerId</th>\n",
       "      <th>Survived</th>\n",
       "      <th>Pclass</th>\n",
       "      <th>Name</th>\n",
       "      <th>Sex</th>\n",
       "      <th>Age</th>\n",
       "      <th>SibSp</th>\n",
       "      <th>Parch</th>\n",
       "      <th>Ticket</th>\n",
       "      <th>Fare</th>\n",
       "      <th>Cabin</th>\n",
       "      <th>Embarked</th>\n",
       "    </tr>\n",
       "  </thead>\n",
       "  <tbody>\n",
       "    <tr>\n",
       "      <th>0</th>\n",
       "      <td>1</td>\n",
       "      <td>0</td>\n",
       "      <td>3</td>\n",
       "      <td>Braund, Mr. Owen Harris</td>\n",
       "      <td>male</td>\n",
       "      <td>22.0</td>\n",
       "      <td>1</td>\n",
       "      <td>0</td>\n",
       "      <td>A/5 21171</td>\n",
       "      <td>7.2500</td>\n",
       "      <td>NaN</td>\n",
       "      <td>S</td>\n",
       "    </tr>\n",
       "    <tr>\n",
       "      <th>1</th>\n",
       "      <td>2</td>\n",
       "      <td>1</td>\n",
       "      <td>1</td>\n",
       "      <td>Cumings, Mrs. John Bradley (Florence Briggs Th...</td>\n",
       "      <td>female</td>\n",
       "      <td>38.0</td>\n",
       "      <td>1</td>\n",
       "      <td>0</td>\n",
       "      <td>PC 17599</td>\n",
       "      <td>71.2833</td>\n",
       "      <td>C85</td>\n",
       "      <td>C</td>\n",
       "    </tr>\n",
       "    <tr>\n",
       "      <th>2</th>\n",
       "      <td>3</td>\n",
       "      <td>1</td>\n",
       "      <td>3</td>\n",
       "      <td>Heikkinen, Miss. Laina</td>\n",
       "      <td>female</td>\n",
       "      <td>26.0</td>\n",
       "      <td>0</td>\n",
       "      <td>0</td>\n",
       "      <td>STON/O2. 3101282</td>\n",
       "      <td>7.9250</td>\n",
       "      <td>NaN</td>\n",
       "      <td>S</td>\n",
       "    </tr>\n",
       "    <tr>\n",
       "      <th>3</th>\n",
       "      <td>4</td>\n",
       "      <td>1</td>\n",
       "      <td>1</td>\n",
       "      <td>Futrelle, Mrs. Jacques Heath (Lily May Peel)</td>\n",
       "      <td>female</td>\n",
       "      <td>35.0</td>\n",
       "      <td>1</td>\n",
       "      <td>0</td>\n",
       "      <td>113803</td>\n",
       "      <td>53.1000</td>\n",
       "      <td>C123</td>\n",
       "      <td>S</td>\n",
       "    </tr>\n",
       "    <tr>\n",
       "      <th>4</th>\n",
       "      <td>5</td>\n",
       "      <td>0</td>\n",
       "      <td>3</td>\n",
       "      <td>Allen, Mr. William Henry</td>\n",
       "      <td>male</td>\n",
       "      <td>35.0</td>\n",
       "      <td>0</td>\n",
       "      <td>0</td>\n",
       "      <td>373450</td>\n",
       "      <td>8.0500</td>\n",
       "      <td>NaN</td>\n",
       "      <td>S</td>\n",
       "    </tr>\n",
       "  </tbody>\n",
       "</table>\n",
       "</div>"
      ],
      "text/plain": [
       "   PassengerId  Survived  Pclass  \\\n",
       "0            1         0       3   \n",
       "1            2         1       1   \n",
       "2            3         1       3   \n",
       "3            4         1       1   \n",
       "4            5         0       3   \n",
       "\n",
       "                                                Name     Sex   Age  SibSp  \\\n",
       "0                            Braund, Mr. Owen Harris    male  22.0      1   \n",
       "1  Cumings, Mrs. John Bradley (Florence Briggs Th...  female  38.0      1   \n",
       "2                             Heikkinen, Miss. Laina  female  26.0      0   \n",
       "3       Futrelle, Mrs. Jacques Heath (Lily May Peel)  female  35.0      1   \n",
       "4                           Allen, Mr. William Henry    male  35.0      0   \n",
       "\n",
       "   Parch            Ticket     Fare Cabin Embarked  \n",
       "0      0         A/5 21171   7.2500   NaN        S  \n",
       "1      0          PC 17599  71.2833   C85        C  \n",
       "2      0  STON/O2. 3101282   7.9250   NaN        S  \n",
       "3      0            113803  53.1000  C123        S  \n",
       "4      0            373450   8.0500   NaN        S  "
      ]
     },
     "execution_count": 3,
     "metadata": {},
     "output_type": "execute_result"
    }
   ],
   "source": [
    "training_set.head()"
   ]
  },
  {
   "cell_type": "code",
   "execution_count": 4,
   "id": "reflected-inclusion",
   "metadata": {
    "execution": {
     "iopub.execute_input": "2021-05-16T18:35:23.575786Z",
     "iopub.status.busy": "2021-05-16T18:35:23.575188Z",
     "iopub.status.idle": "2021-05-16T18:35:23.581928Z",
     "shell.execute_reply": "2021-05-16T18:35:23.582425Z"
    },
    "papermill": {
     "duration": 0.063353,
     "end_time": "2021-05-16T18:35:23.582597",
     "exception": false,
     "start_time": "2021-05-16T18:35:23.519244",
     "status": "completed"
    },
    "tags": []
   },
   "outputs": [
    {
     "data": {
      "text/plain": [
       "PassengerId      int64\n",
       "Survived         int64\n",
       "Pclass           int64\n",
       "Name            object\n",
       "Sex             object\n",
       "Age            float64\n",
       "SibSp            int64\n",
       "Parch            int64\n",
       "Ticket          object\n",
       "Fare           float64\n",
       "Cabin           object\n",
       "Embarked        object\n",
       "dtype: object"
      ]
     },
     "execution_count": 4,
     "metadata": {},
     "output_type": "execute_result"
    }
   ],
   "source": [
    "training_set.dtypes"
   ]
  },
  {
   "cell_type": "code",
   "execution_count": 5,
   "id": "ranking-optics",
   "metadata": {
    "execution": {
     "iopub.execute_input": "2021-05-16T18:35:23.694455Z",
     "iopub.status.busy": "2021-05-16T18:35:23.693805Z",
     "iopub.status.idle": "2021-05-16T18:35:23.731535Z",
     "shell.execute_reply": "2021-05-16T18:35:23.730859Z"
    },
    "papermill": {
     "duration": 0.094517,
     "end_time": "2021-05-16T18:35:23.731680",
     "exception": false,
     "start_time": "2021-05-16T18:35:23.637163",
     "status": "completed"
    },
    "tags": []
   },
   "outputs": [
    {
     "data": {
      "text/html": [
       "<div>\n",
       "<style scoped>\n",
       "    .dataframe tbody tr th:only-of-type {\n",
       "        vertical-align: middle;\n",
       "    }\n",
       "\n",
       "    .dataframe tbody tr th {\n",
       "        vertical-align: top;\n",
       "    }\n",
       "\n",
       "    .dataframe thead th {\n",
       "        text-align: right;\n",
       "    }\n",
       "</style>\n",
       "<table border=\"1\" class=\"dataframe\">\n",
       "  <thead>\n",
       "    <tr style=\"text-align: right;\">\n",
       "      <th></th>\n",
       "      <th>PassengerId</th>\n",
       "      <th>Survived</th>\n",
       "      <th>Pclass</th>\n",
       "      <th>Age</th>\n",
       "      <th>SibSp</th>\n",
       "      <th>Parch</th>\n",
       "      <th>Fare</th>\n",
       "    </tr>\n",
       "  </thead>\n",
       "  <tbody>\n",
       "    <tr>\n",
       "      <th>count</th>\n",
       "      <td>891.000000</td>\n",
       "      <td>891.000000</td>\n",
       "      <td>891.000000</td>\n",
       "      <td>714.000000</td>\n",
       "      <td>891.000000</td>\n",
       "      <td>891.000000</td>\n",
       "      <td>891.000000</td>\n",
       "    </tr>\n",
       "    <tr>\n",
       "      <th>mean</th>\n",
       "      <td>446.000000</td>\n",
       "      <td>0.383838</td>\n",
       "      <td>2.308642</td>\n",
       "      <td>29.699118</td>\n",
       "      <td>0.523008</td>\n",
       "      <td>0.381594</td>\n",
       "      <td>32.204208</td>\n",
       "    </tr>\n",
       "    <tr>\n",
       "      <th>std</th>\n",
       "      <td>257.353842</td>\n",
       "      <td>0.486592</td>\n",
       "      <td>0.836071</td>\n",
       "      <td>14.526497</td>\n",
       "      <td>1.102743</td>\n",
       "      <td>0.806057</td>\n",
       "      <td>49.693429</td>\n",
       "    </tr>\n",
       "    <tr>\n",
       "      <th>min</th>\n",
       "      <td>1.000000</td>\n",
       "      <td>0.000000</td>\n",
       "      <td>1.000000</td>\n",
       "      <td>0.420000</td>\n",
       "      <td>0.000000</td>\n",
       "      <td>0.000000</td>\n",
       "      <td>0.000000</td>\n",
       "    </tr>\n",
       "    <tr>\n",
       "      <th>25%</th>\n",
       "      <td>223.500000</td>\n",
       "      <td>0.000000</td>\n",
       "      <td>2.000000</td>\n",
       "      <td>20.125000</td>\n",
       "      <td>0.000000</td>\n",
       "      <td>0.000000</td>\n",
       "      <td>7.910400</td>\n",
       "    </tr>\n",
       "    <tr>\n",
       "      <th>50%</th>\n",
       "      <td>446.000000</td>\n",
       "      <td>0.000000</td>\n",
       "      <td>3.000000</td>\n",
       "      <td>28.000000</td>\n",
       "      <td>0.000000</td>\n",
       "      <td>0.000000</td>\n",
       "      <td>14.454200</td>\n",
       "    </tr>\n",
       "    <tr>\n",
       "      <th>75%</th>\n",
       "      <td>668.500000</td>\n",
       "      <td>1.000000</td>\n",
       "      <td>3.000000</td>\n",
       "      <td>38.000000</td>\n",
       "      <td>1.000000</td>\n",
       "      <td>0.000000</td>\n",
       "      <td>31.000000</td>\n",
       "    </tr>\n",
       "    <tr>\n",
       "      <th>max</th>\n",
       "      <td>891.000000</td>\n",
       "      <td>1.000000</td>\n",
       "      <td>3.000000</td>\n",
       "      <td>80.000000</td>\n",
       "      <td>8.000000</td>\n",
       "      <td>6.000000</td>\n",
       "      <td>512.329200</td>\n",
       "    </tr>\n",
       "  </tbody>\n",
       "</table>\n",
       "</div>"
      ],
      "text/plain": [
       "       PassengerId    Survived      Pclass         Age       SibSp  \\\n",
       "count   891.000000  891.000000  891.000000  714.000000  891.000000   \n",
       "mean    446.000000    0.383838    2.308642   29.699118    0.523008   \n",
       "std     257.353842    0.486592    0.836071   14.526497    1.102743   \n",
       "min       1.000000    0.000000    1.000000    0.420000    0.000000   \n",
       "25%     223.500000    0.000000    2.000000   20.125000    0.000000   \n",
       "50%     446.000000    0.000000    3.000000   28.000000    0.000000   \n",
       "75%     668.500000    1.000000    3.000000   38.000000    1.000000   \n",
       "max     891.000000    1.000000    3.000000   80.000000    8.000000   \n",
       "\n",
       "            Parch        Fare  \n",
       "count  891.000000  891.000000  \n",
       "mean     0.381594   32.204208  \n",
       "std      0.806057   49.693429  \n",
       "min      0.000000    0.000000  \n",
       "25%      0.000000    7.910400  \n",
       "50%      0.000000   14.454200  \n",
       "75%      0.000000   31.000000  \n",
       "max      6.000000  512.329200  "
      ]
     },
     "execution_count": 5,
     "metadata": {},
     "output_type": "execute_result"
    }
   ],
   "source": [
    "training_set.describe()"
   ]
  },
  {
   "cell_type": "code",
   "execution_count": 6,
   "id": "marked-immune",
   "metadata": {
    "execution": {
     "iopub.execute_input": "2021-05-16T18:35:23.858798Z",
     "iopub.status.busy": "2021-05-16T18:35:23.858144Z",
     "iopub.status.idle": "2021-05-16T18:35:23.861372Z",
     "shell.execute_reply": "2021-05-16T18:35:23.861842Z"
    },
    "papermill": {
     "duration": 0.074229,
     "end_time": "2021-05-16T18:35:23.862021",
     "exception": false,
     "start_time": "2021-05-16T18:35:23.787792",
     "status": "completed"
    },
    "tags": []
   },
   "outputs": [
    {
     "data": {
      "text/html": [
       "<div>\n",
       "<style scoped>\n",
       "    .dataframe tbody tr th:only-of-type {\n",
       "        vertical-align: middle;\n",
       "    }\n",
       "\n",
       "    .dataframe tbody tr th {\n",
       "        vertical-align: top;\n",
       "    }\n",
       "\n",
       "    .dataframe thead th {\n",
       "        text-align: right;\n",
       "    }\n",
       "</style>\n",
       "<table border=\"1\" class=\"dataframe\">\n",
       "  <thead>\n",
       "    <tr style=\"text-align: right;\">\n",
       "      <th></th>\n",
       "      <th>PassengerId</th>\n",
       "      <th>Pclass</th>\n",
       "      <th>Name</th>\n",
       "      <th>Sex</th>\n",
       "      <th>Age</th>\n",
       "      <th>SibSp</th>\n",
       "      <th>Parch</th>\n",
       "      <th>Ticket</th>\n",
       "      <th>Fare</th>\n",
       "      <th>Cabin</th>\n",
       "      <th>Embarked</th>\n",
       "    </tr>\n",
       "  </thead>\n",
       "  <tbody>\n",
       "    <tr>\n",
       "      <th>0</th>\n",
       "      <td>892</td>\n",
       "      <td>3</td>\n",
       "      <td>Kelly, Mr. James</td>\n",
       "      <td>male</td>\n",
       "      <td>34.5</td>\n",
       "      <td>0</td>\n",
       "      <td>0</td>\n",
       "      <td>330911</td>\n",
       "      <td>7.8292</td>\n",
       "      <td>NaN</td>\n",
       "      <td>Q</td>\n",
       "    </tr>\n",
       "    <tr>\n",
       "      <th>1</th>\n",
       "      <td>893</td>\n",
       "      <td>3</td>\n",
       "      <td>Wilkes, Mrs. James (Ellen Needs)</td>\n",
       "      <td>female</td>\n",
       "      <td>47.0</td>\n",
       "      <td>1</td>\n",
       "      <td>0</td>\n",
       "      <td>363272</td>\n",
       "      <td>7.0000</td>\n",
       "      <td>NaN</td>\n",
       "      <td>S</td>\n",
       "    </tr>\n",
       "    <tr>\n",
       "      <th>2</th>\n",
       "      <td>894</td>\n",
       "      <td>2</td>\n",
       "      <td>Myles, Mr. Thomas Francis</td>\n",
       "      <td>male</td>\n",
       "      <td>62.0</td>\n",
       "      <td>0</td>\n",
       "      <td>0</td>\n",
       "      <td>240276</td>\n",
       "      <td>9.6875</td>\n",
       "      <td>NaN</td>\n",
       "      <td>Q</td>\n",
       "    </tr>\n",
       "    <tr>\n",
       "      <th>3</th>\n",
       "      <td>895</td>\n",
       "      <td>3</td>\n",
       "      <td>Wirz, Mr. Albert</td>\n",
       "      <td>male</td>\n",
       "      <td>27.0</td>\n",
       "      <td>0</td>\n",
       "      <td>0</td>\n",
       "      <td>315154</td>\n",
       "      <td>8.6625</td>\n",
       "      <td>NaN</td>\n",
       "      <td>S</td>\n",
       "    </tr>\n",
       "    <tr>\n",
       "      <th>4</th>\n",
       "      <td>896</td>\n",
       "      <td>3</td>\n",
       "      <td>Hirvonen, Mrs. Alexander (Helga E Lindqvist)</td>\n",
       "      <td>female</td>\n",
       "      <td>22.0</td>\n",
       "      <td>1</td>\n",
       "      <td>1</td>\n",
       "      <td>3101298</td>\n",
       "      <td>12.2875</td>\n",
       "      <td>NaN</td>\n",
       "      <td>S</td>\n",
       "    </tr>\n",
       "  </tbody>\n",
       "</table>\n",
       "</div>"
      ],
      "text/plain": [
       "   PassengerId  Pclass                                          Name     Sex  \\\n",
       "0          892       3                              Kelly, Mr. James    male   \n",
       "1          893       3              Wilkes, Mrs. James (Ellen Needs)  female   \n",
       "2          894       2                     Myles, Mr. Thomas Francis    male   \n",
       "3          895       3                              Wirz, Mr. Albert    male   \n",
       "4          896       3  Hirvonen, Mrs. Alexander (Helga E Lindqvist)  female   \n",
       "\n",
       "    Age  SibSp  Parch   Ticket     Fare Cabin Embarked  \n",
       "0  34.5      0      0   330911   7.8292   NaN        Q  \n",
       "1  47.0      1      0   363272   7.0000   NaN        S  \n",
       "2  62.0      0      0   240276   9.6875   NaN        Q  \n",
       "3  27.0      0      0   315154   8.6625   NaN        S  \n",
       "4  22.0      1      1  3101298  12.2875   NaN        S  "
      ]
     },
     "execution_count": 6,
     "metadata": {},
     "output_type": "execute_result"
    }
   ],
   "source": [
    "test_set.head()"
   ]
  },
  {
   "cell_type": "code",
   "execution_count": 7,
   "id": "colonial-receipt",
   "metadata": {
    "execution": {
     "iopub.execute_input": "2021-05-16T18:35:24.006693Z",
     "iopub.status.busy": "2021-05-16T18:35:24.005610Z",
     "iopub.status.idle": "2021-05-16T18:35:24.029466Z",
     "shell.execute_reply": "2021-05-16T18:35:24.029963Z"
    },
    "papermill": {
     "duration": 0.098271,
     "end_time": "2021-05-16T18:35:24.030151",
     "exception": false,
     "start_time": "2021-05-16T18:35:23.931880",
     "status": "completed"
    },
    "tags": []
   },
   "outputs": [
    {
     "data": {
      "text/html": [
       "<div>\n",
       "<style scoped>\n",
       "    .dataframe tbody tr th:only-of-type {\n",
       "        vertical-align: middle;\n",
       "    }\n",
       "\n",
       "    .dataframe tbody tr th {\n",
       "        vertical-align: top;\n",
       "    }\n",
       "\n",
       "    .dataframe thead th {\n",
       "        text-align: right;\n",
       "    }\n",
       "</style>\n",
       "<table border=\"1\" class=\"dataframe\">\n",
       "  <thead>\n",
       "    <tr style=\"text-align: right;\">\n",
       "      <th></th>\n",
       "      <th>PassengerId</th>\n",
       "      <th>Pclass</th>\n",
       "      <th>Age</th>\n",
       "      <th>SibSp</th>\n",
       "      <th>Parch</th>\n",
       "      <th>Fare</th>\n",
       "    </tr>\n",
       "  </thead>\n",
       "  <tbody>\n",
       "    <tr>\n",
       "      <th>count</th>\n",
       "      <td>418.000000</td>\n",
       "      <td>418.000000</td>\n",
       "      <td>332.000000</td>\n",
       "      <td>418.000000</td>\n",
       "      <td>418.000000</td>\n",
       "      <td>417.000000</td>\n",
       "    </tr>\n",
       "    <tr>\n",
       "      <th>mean</th>\n",
       "      <td>1100.500000</td>\n",
       "      <td>2.265550</td>\n",
       "      <td>30.272590</td>\n",
       "      <td>0.447368</td>\n",
       "      <td>0.392344</td>\n",
       "      <td>35.627188</td>\n",
       "    </tr>\n",
       "    <tr>\n",
       "      <th>std</th>\n",
       "      <td>120.810458</td>\n",
       "      <td>0.841838</td>\n",
       "      <td>14.181209</td>\n",
       "      <td>0.896760</td>\n",
       "      <td>0.981429</td>\n",
       "      <td>55.907576</td>\n",
       "    </tr>\n",
       "    <tr>\n",
       "      <th>min</th>\n",
       "      <td>892.000000</td>\n",
       "      <td>1.000000</td>\n",
       "      <td>0.170000</td>\n",
       "      <td>0.000000</td>\n",
       "      <td>0.000000</td>\n",
       "      <td>0.000000</td>\n",
       "    </tr>\n",
       "    <tr>\n",
       "      <th>25%</th>\n",
       "      <td>996.250000</td>\n",
       "      <td>1.000000</td>\n",
       "      <td>21.000000</td>\n",
       "      <td>0.000000</td>\n",
       "      <td>0.000000</td>\n",
       "      <td>7.895800</td>\n",
       "    </tr>\n",
       "    <tr>\n",
       "      <th>50%</th>\n",
       "      <td>1100.500000</td>\n",
       "      <td>3.000000</td>\n",
       "      <td>27.000000</td>\n",
       "      <td>0.000000</td>\n",
       "      <td>0.000000</td>\n",
       "      <td>14.454200</td>\n",
       "    </tr>\n",
       "    <tr>\n",
       "      <th>75%</th>\n",
       "      <td>1204.750000</td>\n",
       "      <td>3.000000</td>\n",
       "      <td>39.000000</td>\n",
       "      <td>1.000000</td>\n",
       "      <td>0.000000</td>\n",
       "      <td>31.500000</td>\n",
       "    </tr>\n",
       "    <tr>\n",
       "      <th>max</th>\n",
       "      <td>1309.000000</td>\n",
       "      <td>3.000000</td>\n",
       "      <td>76.000000</td>\n",
       "      <td>8.000000</td>\n",
       "      <td>9.000000</td>\n",
       "      <td>512.329200</td>\n",
       "    </tr>\n",
       "  </tbody>\n",
       "</table>\n",
       "</div>"
      ],
      "text/plain": [
       "       PassengerId      Pclass         Age       SibSp       Parch        Fare\n",
       "count   418.000000  418.000000  332.000000  418.000000  418.000000  417.000000\n",
       "mean   1100.500000    2.265550   30.272590    0.447368    0.392344   35.627188\n",
       "std     120.810458    0.841838   14.181209    0.896760    0.981429   55.907576\n",
       "min     892.000000    1.000000    0.170000    0.000000    0.000000    0.000000\n",
       "25%     996.250000    1.000000   21.000000    0.000000    0.000000    7.895800\n",
       "50%    1100.500000    3.000000   27.000000    0.000000    0.000000   14.454200\n",
       "75%    1204.750000    3.000000   39.000000    1.000000    0.000000   31.500000\n",
       "max    1309.000000    3.000000   76.000000    8.000000    9.000000  512.329200"
      ]
     },
     "execution_count": 7,
     "metadata": {},
     "output_type": "execute_result"
    }
   ],
   "source": [
    "test_set.describe()"
   ]
  },
  {
   "cell_type": "markdown",
   "id": "consistent-purse",
   "metadata": {
    "papermill": {
     "duration": 0.064027,
     "end_time": "2021-05-16T18:35:24.152536",
     "exception": false,
     "start_time": "2021-05-16T18:35:24.088509",
     "status": "completed"
    },
    "tags": []
   },
   "source": [
    "# Detecting and dealing with unknown data\n",
    "****"
   ]
  },
  {
   "cell_type": "markdown",
   "id": "necessary-vaccine",
   "metadata": {
    "papermill": {
     "duration": 0.055443,
     "end_time": "2021-05-16T18:35:24.268910",
     "exception": false,
     "start_time": "2021-05-16T18:35:24.213467",
     "status": "completed"
    },
    "tags": []
   },
   "source": [
    "Filling unknown data with mean/median or removing the data"
   ]
  },
  {
   "cell_type": "code",
   "execution_count": 8,
   "id": "innovative-prague",
   "metadata": {
    "execution": {
     "iopub.execute_input": "2021-05-16T18:35:24.385827Z",
     "iopub.status.busy": "2021-05-16T18:35:24.384842Z",
     "iopub.status.idle": "2021-05-16T18:35:24.394734Z",
     "shell.execute_reply": "2021-05-16T18:35:24.395728Z"
    },
    "papermill": {
     "duration": 0.070389,
     "end_time": "2021-05-16T18:35:24.395983",
     "exception": false,
     "start_time": "2021-05-16T18:35:24.325594",
     "status": "completed"
    },
    "tags": []
   },
   "outputs": [
    {
     "name": "stdout",
     "output_type": "stream",
     "text": [
      "PassengerId      0\n",
      "Survived         0\n",
      "Pclass           0\n",
      "Name             0\n",
      "Sex              0\n",
      "Age            177\n",
      "SibSp            0\n",
      "Parch            0\n",
      "Ticket           0\n",
      "Fare             0\n",
      "Cabin          687\n",
      "Embarked         2\n",
      "dtype: int64\n"
     ]
    }
   ],
   "source": [
    "print(training_set.isnull().sum())"
   ]
  },
  {
   "cell_type": "code",
   "execution_count": 9,
   "id": "unlimited-audience",
   "metadata": {
    "execution": {
     "iopub.execute_input": "2021-05-16T18:35:24.523636Z",
     "iopub.status.busy": "2021-05-16T18:35:24.522933Z",
     "iopub.status.idle": "2021-05-16T18:35:24.985485Z",
     "shell.execute_reply": "2021-05-16T18:35:24.984858Z"
    },
    "papermill": {
     "duration": 0.531089,
     "end_time": "2021-05-16T18:35:24.985629",
     "exception": false,
     "start_time": "2021-05-16T18:35:24.454540",
     "status": "completed"
    },
    "tags": []
   },
   "outputs": [
    {
     "data": {
      "text/plain": [
       "<AxesSubplot:>"
      ]
     },
     "execution_count": 9,
     "metadata": {},
     "output_type": "execute_result"
    },
    {
     "data": {
      "image/png": "[encoded data removed]",
      "text/plain": [
       "<Figure size 432x288 with 2 Axes>"
      ]
     },
     "metadata": {
      "needs_background": "light"
     },
     "output_type": "display_data"
    }
   ],
   "source": [
    "sn.heatmap(training_set.isnull())"
   ]
  },
  {
   "cell_type": "markdown",
   "id": "republican-maintenance",
   "metadata": {
    "papermill": {
     "duration": 0.057596,
     "end_time": "2021-05-16T18:35:25.100851",
     "exception": false,
     "start_time": "2021-05-16T18:35:25.043255",
     "status": "completed"
    },
    "tags": []
   },
   "source": [
    "Age and Cabin columns have the most missing data. Next, percentage of missing data for each of those columns."
   ]
  },
  {
   "cell_type": "code",
   "execution_count": 10,
   "id": "adjustable-testimony",
   "metadata": {
    "execution": {
     "iopub.execute_input": "2021-05-16T18:35:25.220805Z",
     "iopub.status.busy": "2021-05-16T18:35:25.220167Z",
     "iopub.status.idle": "2021-05-16T18:35:25.223499Z",
     "shell.execute_reply": "2021-05-16T18:35:25.222900Z"
    },
    "papermill": {
     "duration": 0.065526,
     "end_time": "2021-05-16T18:35:25.223635",
     "exception": false,
     "start_time": "2021-05-16T18:35:25.158109",
     "status": "completed"
    },
    "tags": []
   },
   "outputs": [],
   "source": [
    "def missing_data_percentage(column):\n",
    "    percentage = (training_set[column].isna().sum()/len(training_set[column])) * 100\n",
    "    print('{} column - missing data percentage: {:.2f} %' .format(column, percentage))"
   ]
  },
  {
   "cell_type": "code",
   "execution_count": 11,
   "id": "extensive-clear",
   "metadata": {
    "execution": {
     "iopub.execute_input": "2021-05-16T18:35:25.344725Z",
     "iopub.status.busy": "2021-05-16T18:35:25.343838Z",
     "iopub.status.idle": "2021-05-16T18:35:25.347989Z",
     "shell.execute_reply": "2021-05-16T18:35:25.347456Z"
    },
    "papermill": {
     "duration": 0.067065,
     "end_time": "2021-05-16T18:35:25.348153",
     "exception": false,
     "start_time": "2021-05-16T18:35:25.281088",
     "status": "completed"
    },
    "tags": []
   },
   "outputs": [
    {
     "name": "stdout",
     "output_type": "stream",
     "text": [
      "Age column - missing data percentage: 19.87 %\n"
     ]
    }
   ],
   "source": [
    "missing_data_percentage(\"Age\")"
   ]
  },
  {
   "cell_type": "code",
   "execution_count": 12,
   "id": "incredible-cherry",
   "metadata": {
    "execution": {
     "iopub.execute_input": "2021-05-16T18:35:25.470693Z",
     "iopub.status.busy": "2021-05-16T18:35:25.469997Z",
     "iopub.status.idle": "2021-05-16T18:35:25.473853Z",
     "shell.execute_reply": "2021-05-16T18:35:25.473360Z"
    },
    "papermill": {
     "duration": 0.067027,
     "end_time": "2021-05-16T18:35:25.473995",
     "exception": false,
     "start_time": "2021-05-16T18:35:25.406968",
     "status": "completed"
    },
    "tags": []
   },
   "outputs": [
    {
     "name": "stdout",
     "output_type": "stream",
     "text": [
      "Cabin column - missing data percentage: 77.10 %\n"
     ]
    }
   ],
   "source": [
    "missing_data_percentage(\"Cabin\")"
   ]
  },
  {
   "cell_type": "markdown",
   "id": "vanilla-cornwall",
   "metadata": {
    "papermill": {
     "duration": 0.059157,
     "end_time": "2021-05-16T18:35:25.591978",
     "exception": false,
     "start_time": "2021-05-16T18:35:25.532821",
     "status": "completed"
    },
    "tags": []
   },
   "source": [
    "Most of the data (77.46 %) in the Cabin column is missing, so we will remove it from the datasets."
   ]
  },
  {
   "cell_type": "code",
   "execution_count": 13,
   "id": "allied-grain",
   "metadata": {
    "execution": {
     "iopub.execute_input": "2021-05-16T18:35:25.718419Z",
     "iopub.status.busy": "2021-05-16T18:35:25.717740Z",
     "iopub.status.idle": "2021-05-16T18:35:25.720518Z",
     "shell.execute_reply": "2021-05-16T18:35:25.719867Z"
    },
    "papermill": {
     "duration": 0.068985,
     "end_time": "2021-05-16T18:35:25.720656",
     "exception": false,
     "start_time": "2021-05-16T18:35:25.651671",
     "status": "completed"
    },
    "tags": []
   },
   "outputs": [],
   "source": [
    "training_set.drop(columns=['Cabin'], axis=1, inplace=True)\n",
    "test_set.drop(columns=['Cabin'], axis=1, inplace=True)"
   ]
  },
  {
   "cell_type": "code",
   "execution_count": 14,
   "id": "tribal-output",
   "metadata": {
    "execution": {
     "iopub.execute_input": "2021-05-16T18:35:25.851899Z",
     "iopub.status.busy": "2021-05-16T18:35:25.850306Z",
     "iopub.status.idle": "2021-05-16T18:35:25.856707Z",
     "shell.execute_reply": "2021-05-16T18:35:25.856163Z"
    },
    "papermill": {
     "duration": 0.077408,
     "end_time": "2021-05-16T18:35:25.856867",
     "exception": false,
     "start_time": "2021-05-16T18:35:25.779459",
     "status": "completed"
    },
    "tags": []
   },
   "outputs": [],
   "source": [
    "training_set['Age'].fillna(training_set['Age'].median(), inplace=True)\n",
    "training_set['Embarked'].fillna(training_set['Embarked'].mode(), inplace=True)\n",
    "\n",
    "test_set['Age'].fillna(test_set['Age'].median(), inplace=True)\n",
    "test_set['Fare'].fillna(test_set['Fare'].median(), inplace=True)"
   ]
  },
  {
   "cell_type": "markdown",
   "id": "renewable-system",
   "metadata": {
    "papermill": {
     "duration": 0.059469,
     "end_time": "2021-05-16T18:35:25.975512",
     "exception": false,
     "start_time": "2021-05-16T18:35:25.916043",
     "status": "completed"
    },
    "tags": []
   },
   "source": [
    "# Detecting and removing outliers\n",
    "****\n",
    "Reducing the noise of the data"
   ]
  },
  {
   "cell_type": "code",
   "execution_count": 15,
   "id": "rural-words",
   "metadata": {
    "execution": {
     "iopub.execute_input": "2021-05-16T18:35:26.101289Z",
     "iopub.status.busy": "2021-05-16T18:35:26.100295Z",
     "iopub.status.idle": "2021-05-16T18:35:26.103641Z",
     "shell.execute_reply": "2021-05-16T18:35:26.102967Z"
    },
    "papermill": {
     "duration": 0.068298,
     "end_time": "2021-05-16T18:35:26.103787",
     "exception": false,
     "start_time": "2021-05-16T18:35:26.035489",
     "status": "completed"
    },
    "tags": []
   },
   "outputs": [],
   "source": [
    "def box_plot(column):\n",
    "    training_set.boxplot(by = \"Survived\",column = [column],grid = True, layout=(1, 1))\n",
    "\n",
    "# Small circles or unfilled dots are drawn on the chart to indicate where suspected outliers lie.\n",
    "# Filled circles are used for known outliers."
   ]
  },
  {
   "cell_type": "code",
   "execution_count": 16,
   "id": "balanced-verification",
   "metadata": {
    "execution": {
     "iopub.execute_input": "2021-05-16T18:35:26.227673Z",
     "iopub.status.busy": "2021-05-16T18:35:26.226887Z",
     "iopub.status.idle": "2021-05-16T18:35:26.404894Z",
     "shell.execute_reply": "2021-05-16T18:35:26.405376Z"
    },
    "papermill": {
     "duration": 0.241809,
     "end_time": "2021-05-16T18:35:26.405562",
     "exception": false,
     "start_time": "2021-05-16T18:35:26.163753",
     "status": "completed"
    },
    "tags": []
   },
   "outputs": [
    {
     "data": {
      "image/png": "[encoded data removed]",
      "text/plain": [
       "<Figure size 432x288 with 1 Axes>"
      ]
     },
     "metadata": {
      "needs_background": "light"
     },
     "output_type": "display_data"
    }
   ],
   "source": [
    "box_plot(\"Pclass\")"
   ]
  },
  {
   "cell_type": "code",
   "execution_count": 17,
   "id": "celtic-madagascar",
   "metadata": {
    "execution": {
     "iopub.execute_input": "2021-05-16T18:35:26.529545Z",
     "iopub.status.busy": "2021-05-16T18:35:26.528563Z",
     "iopub.status.idle": "2021-05-16T18:35:26.682401Z",
     "shell.execute_reply": "2021-05-16T18:35:26.682920Z"
    },
    "papermill": {
     "duration": 0.217796,
     "end_time": "2021-05-16T18:35:26.683117",
     "exception": false,
     "start_time": "2021-05-16T18:35:26.465321",
     "status": "completed"
    },
    "tags": []
   },
   "outputs": [
    {
     "data": {
      "image/png": "[encoded data removed]",
      "text/plain": [
       "<Figure size 432x288 with 1 Axes>"
      ]
     },
     "metadata": {
      "needs_background": "light"
     },
     "output_type": "display_data"
    }
   ],
   "source": [
    "box_plot(\"SibSp\")"
   ]
  },
  {
   "cell_type": "code",
   "execution_count": 18,
   "id": "inside-presentation",
   "metadata": {
    "execution": {
     "iopub.execute_input": "2021-05-16T18:35:26.811420Z",
     "iopub.status.busy": "2021-05-16T18:35:26.810348Z",
     "iopub.status.idle": "2021-05-16T18:35:26.818020Z",
     "shell.execute_reply": "2021-05-16T18:35:26.818543Z"
    },
    "papermill": {
     "duration": 0.073113,
     "end_time": "2021-05-16T18:35:26.818731",
     "exception": false,
     "start_time": "2021-05-16T18:35:26.745618",
     "status": "completed"
    },
    "tags": []
   },
   "outputs": [
    {
     "data": {
      "text/plain": [
       "0    608\n",
       "1    209\n",
       "2     28\n",
       "4     18\n",
       "3     16\n",
       "8      7\n",
       "5      5\n",
       "Name: SibSp, dtype: int64"
      ]
     },
     "execution_count": 18,
     "metadata": {},
     "output_type": "execute_result"
    }
   ],
   "source": [
    "training_set[\"SibSp\"].value_counts()"
   ]
  },
  {
   "cell_type": "markdown",
   "id": "differential-southeast",
   "metadata": {
    "papermill": {
     "duration": 0.061816,
     "end_time": "2021-05-16T18:35:26.942549",
     "exception": false,
     "start_time": "2021-05-16T18:35:26.880733",
     "status": "completed"
    },
    "tags": []
   },
   "source": [
    "SibSp feature has possible outliers, so we will remove all rows with values of feature SibSp == 8"
   ]
  },
  {
   "cell_type": "code",
   "execution_count": 19,
   "id": "affecting-fiber",
   "metadata": {
    "execution": {
     "iopub.execute_input": "2021-05-16T18:35:27.069556Z",
     "iopub.status.busy": "2021-05-16T18:35:27.068575Z",
     "iopub.status.idle": "2021-05-16T18:35:27.203426Z",
     "shell.execute_reply": "2021-05-16T18:35:27.203906Z"
    },
    "papermill": {
     "duration": 0.199977,
     "end_time": "2021-05-16T18:35:27.204130",
     "exception": false,
     "start_time": "2021-05-16T18:35:27.004153",
     "status": "completed"
    },
    "tags": []
   },
   "outputs": [],
   "source": [
    "indexes = training_set.iloc[:891,:].index[training_set.iloc[:891,:].SibSp == 8]\n",
    "training_set.drop(indexes, inplace=True)"
   ]
  },
  {
   "cell_type": "code",
   "execution_count": 20,
   "id": "arranged-allocation",
   "metadata": {
    "execution": {
     "iopub.execute_input": "2021-05-16T18:35:27.330814Z",
     "iopub.status.busy": "2021-05-16T18:35:27.329821Z",
     "iopub.status.idle": "2021-05-16T18:35:27.477222Z",
     "shell.execute_reply": "2021-05-16T18:35:27.476668Z"
    },
    "papermill": {
     "duration": 0.211724,
     "end_time": "2021-05-16T18:35:27.477372",
     "exception": false,
     "start_time": "2021-05-16T18:35:27.265648",
     "status": "completed"
    },
    "tags": []
   },
   "outputs": [
    {
     "data": {
      "image/png": "[encoded data removed]",
      "text/plain": [
       "<Figure size 432x288 with 1 Axes>"
      ]
     },
     "metadata": {
      "needs_background": "light"
     },
     "output_type": "display_data"
    }
   ],
   "source": [
    "box_plot(\"Parch\")"
   ]
  },
  {
   "cell_type": "code",
   "execution_count": 21,
   "id": "spiritual-wagner",
   "metadata": {
    "execution": {
     "iopub.execute_input": "2021-05-16T18:35:27.609631Z",
     "iopub.status.busy": "2021-05-16T18:35:27.608694Z",
     "iopub.status.idle": "2021-05-16T18:35:27.613148Z",
     "shell.execute_reply": "2021-05-16T18:35:27.612494Z"
    },
    "papermill": {
     "duration": 0.073961,
     "end_time": "2021-05-16T18:35:27.613293",
     "exception": false,
     "start_time": "2021-05-16T18:35:27.539332",
     "status": "completed"
    },
    "tags": []
   },
   "outputs": [
    {
     "data": {
      "text/plain": [
       "0    678\n",
       "1    118\n",
       "2     73\n",
       "3      5\n",
       "5      5\n",
       "4      4\n",
       "6      1\n",
       "Name: Parch, dtype: int64"
      ]
     },
     "execution_count": 21,
     "metadata": {},
     "output_type": "execute_result"
    }
   ],
   "source": [
    "training_set[\"Parch\"].value_counts()"
   ]
  },
  {
   "cell_type": "markdown",
   "id": "interesting-passenger",
   "metadata": {
    "papermill": {
     "duration": 0.062089,
     "end_time": "2021-05-16T18:35:27.739216",
     "exception": false,
     "start_time": "2021-05-16T18:35:27.677127",
     "status": "completed"
    },
    "tags": []
   },
   "source": [
    "Parch feature has possible outliers, so we will remove all rows with values of feature Parch == 6"
   ]
  },
  {
   "cell_type": "code",
   "execution_count": 22,
   "id": "incoming-desperate",
   "metadata": {
    "execution": {
     "iopub.execute_input": "2021-05-16T18:35:27.871609Z",
     "iopub.status.busy": "2021-05-16T18:35:27.870924Z",
     "iopub.status.idle": "2021-05-16T18:35:27.873985Z",
     "shell.execute_reply": "2021-05-16T18:35:27.873460Z"
    },
    "papermill": {
     "duration": 0.072821,
     "end_time": "2021-05-16T18:35:27.874144",
     "exception": false,
     "start_time": "2021-05-16T18:35:27.801323",
     "status": "completed"
    },
    "tags": []
   },
   "outputs": [],
   "source": [
    "indexes = training_set.index[training_set.Parch == 6]\n",
    "training_set.loc[indexes]\n",
    "training_set.drop(indexes, inplace=True)"
   ]
  },
  {
   "cell_type": "code",
   "execution_count": 23,
   "id": "strange-genome",
   "metadata": {
    "execution": {
     "iopub.execute_input": "2021-05-16T18:35:28.005554Z",
     "iopub.status.busy": "2021-05-16T18:35:28.004877Z",
     "iopub.status.idle": "2021-05-16T18:35:28.145916Z",
     "shell.execute_reply": "2021-05-16T18:35:28.146401Z"
    },
    "papermill": {
     "duration": 0.209064,
     "end_time": "2021-05-16T18:35:28.146586",
     "exception": false,
     "start_time": "2021-05-16T18:35:27.937522",
     "status": "completed"
    },
    "tags": []
   },
   "outputs": [
    {
     "data": {
      "image/png": "[encoded data removed]",
      "text/plain": [
       "<Figure size 432x288 with 1 Axes>"
      ]
     },
     "metadata": {
      "needs_background": "light"
     },
     "output_type": "display_data"
    }
   ],
   "source": [
    "box_plot(\"Fare\")"
   ]
  },
  {
   "cell_type": "code",
   "execution_count": 24,
   "id": "framed-salon",
   "metadata": {
    "execution": {
     "iopub.execute_input": "2021-05-16T18:35:28.276905Z",
     "iopub.status.busy": "2021-05-16T18:35:28.276271Z",
     "iopub.status.idle": "2021-05-16T18:35:28.284040Z",
     "shell.execute_reply": "2021-05-16T18:35:28.284569Z"
    },
    "papermill": {
     "duration": 0.074491,
     "end_time": "2021-05-16T18:35:28.284733",
     "exception": false,
     "start_time": "2021-05-16T18:35:28.210242",
     "status": "completed"
    },
    "tags": []
   },
   "outputs": [
    {
     "data": {
      "text/plain": [
       "8.0500     43\n",
       "13.0000    42\n",
       "7.8958     38\n",
       "7.7500     34\n",
       "26.0000    31\n",
       "           ..\n",
       "50.4958     1\n",
       "13.8583     1\n",
       "8.4583      1\n",
       "7.7250      1\n",
       "7.5208      1\n",
       "Name: Fare, Length: 247, dtype: int64"
      ]
     },
     "execution_count": 24,
     "metadata": {},
     "output_type": "execute_result"
    }
   ],
   "source": [
    "training_set[\"Fare\"].value_counts()"
   ]
  },
  {
   "cell_type": "markdown",
   "id": "missing-fiction",
   "metadata": {
    "papermill": {
     "duration": 0.064883,
     "end_time": "2021-05-16T18:35:28.414569",
     "exception": false,
     "start_time": "2021-05-16T18:35:28.349686",
     "status": "completed"
    },
    "tags": []
   },
   "source": [
    "Fare feature has possible outliers, so we will remove all rows with values of feature Fare higher than 100"
   ]
  },
  {
   "cell_type": "code",
   "execution_count": 25,
   "id": "decreased-assembly",
   "metadata": {
    "execution": {
     "iopub.execute_input": "2021-05-16T18:35:28.546984Z",
     "iopub.status.busy": "2021-05-16T18:35:28.546333Z",
     "iopub.status.idle": "2021-05-16T18:35:28.553631Z",
     "shell.execute_reply": "2021-05-16T18:35:28.553117Z"
    },
    "papermill": {
     "duration": 0.07393,
     "end_time": "2021-05-16T18:35:28.553827",
     "exception": false,
     "start_time": "2021-05-16T18:35:28.479897",
     "status": "completed"
    },
    "tags": []
   },
   "outputs": [],
   "source": [
    "indexes = training_set.index[training_set.Fare > 100]\n",
    "training_set.loc[indexes]\n",
    "indexes\n",
    "training_set.drop(indexes, inplace=True)"
   ]
  },
  {
   "cell_type": "markdown",
   "id": "polish-netherlands",
   "metadata": {
    "papermill": {
     "duration": 0.065865,
     "end_time": "2021-05-16T18:35:28.689505",
     "exception": false,
     "start_time": "2021-05-16T18:35:28.623640",
     "status": "completed"
    },
    "tags": []
   },
   "source": [
    "# Correlation matrix\n",
    "****\n",
    "Used to detect correlation between features in order to reduce dimensionality if possible - showing lower triangle matrix below."
   ]
  },
  {
   "cell_type": "code",
   "execution_count": 26,
   "id": "simple-reference",
   "metadata": {
    "execution": {
     "iopub.execute_input": "2021-05-16T18:35:28.826296Z",
     "iopub.status.busy": "2021-05-16T18:35:28.825614Z",
     "iopub.status.idle": "2021-05-16T18:35:29.183103Z",
     "shell.execute_reply": "2021-05-16T18:35:29.182456Z"
    },
    "papermill": {
     "duration": 0.428429,
     "end_time": "2021-05-16T18:35:29.183258",
     "exception": false,
     "start_time": "2021-05-16T18:35:28.754829",
     "status": "completed"
    },
    "tags": []
   },
   "outputs": [
    {
     "data": {
      "text/plain": [
       "<AxesSubplot:>"
      ]
     },
     "execution_count": 26,
     "metadata": {},
     "output_type": "execute_result"
    },
    {
     "data": {
      "image/png": "[encoded data removed]",
      "text/plain": [
       "<Figure size 1080x720 with 2 Axes>"
      ]
     },
     "metadata": {
      "needs_background": "light"
     },
     "output_type": "display_data"
    }
   ],
   "source": [
    "f = plt.figure(figsize=(15, 10))\n",
    "correlation_matrix = np.triu(training_set.corr())\n",
    "sn.heatmap(training_set.corr(), annot = True, mask = correlation_matrix)"
   ]
  },
  {
   "cell_type": "markdown",
   "id": "vocational-disabled",
   "metadata": {
    "papermill": {
     "duration": 0.065088,
     "end_time": "2021-05-16T18:35:29.314194",
     "exception": false,
     "start_time": "2021-05-16T18:35:29.249106",
     "status": "completed"
    },
    "tags": []
   },
   "source": [
    "* PassengerId column correlation with other features shouldn't be taken into account  \n",
    "* Survived column has **moderate** correlation to columns Fare and Pclass\n",
    "* Pclass column has **moderate** correlation to Age and **high** correlation to Fare\n",
    "* Age is **moderately** correlated to SibSp\n",
    "* SibSp is **moderately** correlated to Parch"
   ]
  },
  {
   "cell_type": "markdown",
   "id": "combined-crowd",
   "metadata": {
    "papermill": {
     "duration": 0.065265,
     "end_time": "2021-05-16T18:35:29.445344",
     "exception": false,
     "start_time": "2021-05-16T18:35:29.380079",
     "status": "completed"
    },
    "tags": []
   },
   "source": [
    "Features Name and Ticket will be removed because they have a lot of distinct values and aren't good predictors"
   ]
  },
  {
   "cell_type": "code",
   "execution_count": 27,
   "id": "laden-turtle",
   "metadata": {
    "execution": {
     "iopub.execute_input": "2021-05-16T18:35:29.585538Z",
     "iopub.status.busy": "2021-05-16T18:35:29.584841Z",
     "iopub.status.idle": "2021-05-16T18:35:29.587376Z",
     "shell.execute_reply": "2021-05-16T18:35:29.587831Z"
    },
    "papermill": {
     "duration": 0.077011,
     "end_time": "2021-05-16T18:35:29.588006",
     "exception": false,
     "start_time": "2021-05-16T18:35:29.510995",
     "status": "completed"
    },
    "tags": []
   },
   "outputs": [],
   "source": [
    "training_set.drop(columns=['Name', 'Ticket'], axis=1, inplace=True)\n",
    "test_set.drop(columns=['Name', 'Ticket'], axis=1, inplace=True)"
   ]
  },
  {
   "cell_type": "markdown",
   "id": "exterior-extra",
   "metadata": {
    "papermill": {
     "duration": 0.068787,
     "end_time": "2021-05-16T18:35:29.725374",
     "exception": false,
     "start_time": "2021-05-16T18:35:29.656587",
     "status": "completed"
    },
    "tags": []
   },
   "source": [
    "# Survival rates\n",
    "****"
   ]
  },
  {
   "cell_type": "code",
   "execution_count": 28,
   "id": "administrative-turner",
   "metadata": {
    "execution": {
     "iopub.execute_input": "2021-05-16T18:35:29.864213Z",
     "iopub.status.busy": "2021-05-16T18:35:29.863442Z",
     "iopub.status.idle": "2021-05-16T18:35:29.866839Z",
     "shell.execute_reply": "2021-05-16T18:35:29.866287Z"
    },
    "papermill": {
     "duration": 0.074798,
     "end_time": "2021-05-16T18:35:29.866981",
     "exception": false,
     "start_time": "2021-05-16T18:35:29.792183",
     "status": "completed"
    },
    "tags": []
   },
   "outputs": [],
   "source": [
    "#columns = ['Embarked', 'Parch', 'Pclass', 'Survived', 'Sex', 'SibSp']\n",
    "\n",
    "#plt.figure(figsize = (16, 14))\n",
    "#sn.set(font_scale = 1.2)\n",
    "#sn.set_style('ticks')\n",
    "\n",
    "#for i, column in enumerate(columns):\n",
    "#    plt.subplot(3, 3, i + 1)\n",
    "#    sn.countplot(data = training_set, x = column, hue = 'Survived', palette = ['#d02f52',\"#55a0ee\"])\n",
    "    \n",
    "#sn.despine()"
   ]
  },
  {
   "cell_type": "markdown",
   "id": "healthy-completion",
   "metadata": {
    "papermill": {
     "duration": 0.070499,
     "end_time": "2021-05-16T18:35:30.003810",
     "exception": false,
     "start_time": "2021-05-16T18:35:29.933311",
     "status": "completed"
    },
    "tags": []
   },
   "source": [
    "# Feature engineering\n",
    "****"
   ]
  },
  {
   "cell_type": "markdown",
   "id": "familiar-greensboro",
   "metadata": {
    "papermill": {
     "duration": 0.069167,
     "end_time": "2021-05-16T18:35:30.141830",
     "exception": false,
     "start_time": "2021-05-16T18:35:30.072663",
     "status": "completed"
    },
    "tags": []
   },
   "source": [
    "Creating Family size"
   ]
  },
  {
   "cell_type": "code",
   "execution_count": 29,
   "id": "front-crown",
   "metadata": {
    "execution": {
     "iopub.execute_input": "2021-05-16T18:35:30.281619Z",
     "iopub.status.busy": "2021-05-16T18:35:30.280963Z",
     "iopub.status.idle": "2021-05-16T18:35:30.283224Z",
     "shell.execute_reply": "2021-05-16T18:35:30.283777Z"
    },
    "papermill": {
     "duration": 0.073171,
     "end_time": "2021-05-16T18:35:30.283961",
     "exception": false,
     "start_time": "2021-05-16T18:35:30.210790",
     "status": "completed"
    },
    "tags": []
   },
   "outputs": [],
   "source": [
    "#training_set['Family_Size'] = training_set['Parch'] + training_set['SibSp']"
   ]
  },
  {
   "cell_type": "markdown",
   "id": "subject-bikini",
   "metadata": {
    "papermill": {
     "duration": 0.065884,
     "end_time": "2021-05-16T18:35:30.416521",
     "exception": false,
     "start_time": "2021-05-16T18:35:30.350637",
     "status": "completed"
    },
    "tags": []
   },
   "source": [
    "Ticket"
   ]
  },
  {
   "cell_type": "code",
   "execution_count": 30,
   "id": "eligible-chain",
   "metadata": {
    "execution": {
     "iopub.execute_input": "2021-05-16T18:35:30.553950Z",
     "iopub.status.busy": "2021-05-16T18:35:30.553300Z",
     "iopub.status.idle": "2021-05-16T18:35:30.557580Z",
     "shell.execute_reply": "2021-05-16T18:35:30.557001Z"
    },
    "papermill": {
     "duration": 0.074171,
     "end_time": "2021-05-16T18:35:30.557727",
     "exception": false,
     "start_time": "2021-05-16T18:35:30.483556",
     "status": "completed"
    },
    "tags": []
   },
   "outputs": [],
   "source": [
    "#training_set['Ticket'] = training_set.Ticket.str.split().apply(lambda x : 0 if x[:][-1] == 'LINE' else x[:][-1])\n",
    "#training_set.Ticket = training_set.Ticket.values.astype('int64')"
   ]
  },
  {
   "cell_type": "markdown",
   "id": "atlantic-signature",
   "metadata": {
    "papermill": {
     "duration": 0.066083,
     "end_time": "2021-05-16T18:35:30.692654",
     "exception": false,
     "start_time": "2021-05-16T18:35:30.626571",
     "status": "completed"
    },
    "tags": []
   },
   "source": [
    "Title column"
   ]
  },
  {
   "cell_type": "code",
   "execution_count": 31,
   "id": "periodic-effort",
   "metadata": {
    "execution": {
     "iopub.execute_input": "2021-05-16T18:35:30.830154Z",
     "iopub.status.busy": "2021-05-16T18:35:30.829390Z",
     "iopub.status.idle": "2021-05-16T18:35:30.832995Z",
     "shell.execute_reply": "2021-05-16T18:35:30.832460Z"
    },
    "papermill": {
     "duration": 0.074207,
     "end_time": "2021-05-16T18:35:30.833211",
     "exception": false,
     "start_time": "2021-05-16T18:35:30.759004",
     "status": "completed"
    },
    "tags": []
   },
   "outputs": [],
   "source": [
    "#training_set['Title'] = training_set.Name.str.extract('([A-Za-z]+)\\.', expand = False)\n",
    "#training_set.Title.value_counts()\n",
    "\n",
    "#rarest_titles = ['Rev','Dr','Major', 'Col', 'Capt','Jonkheer','Countess']\n",
    "\n",
    "#training_set.Title = training_set.Title.replace(['Ms', 'Mlle','Mme','Lady'], 'Miss')\n",
    "#training_set.Title = training_set.Title.replace(['Countess','Dona'], 'Mrs')\n",
    "#training_set.Title = training_set.Title.replace(['Don','Sir'], 'Mr')\n",
    "#training_set.Title = training_set.Title.replace(rarest_titles,'Other')"
   ]
  },
  {
   "cell_type": "markdown",
   "id": "yellow-picnic",
   "metadata": {
    "papermill": {
     "duration": 0.066968,
     "end_time": "2021-05-16T18:35:30.967796",
     "exception": false,
     "start_time": "2021-05-16T18:35:30.900828",
     "status": "completed"
    },
    "tags": []
   },
   "source": [
    "Last Name column"
   ]
  },
  {
   "cell_type": "code",
   "execution_count": 32,
   "id": "controlling-converter",
   "metadata": {
    "execution": {
     "iopub.execute_input": "2021-05-16T18:35:31.108816Z",
     "iopub.status.busy": "2021-05-16T18:35:31.107853Z",
     "iopub.status.idle": "2021-05-16T18:35:31.111513Z",
     "shell.execute_reply": "2021-05-16T18:35:31.110835Z"
    },
    "papermill": {
     "duration": 0.076041,
     "end_time": "2021-05-16T18:35:31.111729",
     "exception": false,
     "start_time": "2021-05-16T18:35:31.035688",
     "status": "completed"
    },
    "tags": []
   },
   "outputs": [],
   "source": [
    "#training_set['Last_Name'] = training_set.Name.str.extract('^(.+?),', expand = False)"
   ]
  },
  {
   "cell_type": "markdown",
   "id": "adapted-plain",
   "metadata": {
    "papermill": {
     "duration": 0.067675,
     "end_time": "2021-05-16T18:35:31.248316",
     "exception": false,
     "start_time": "2021-05-16T18:35:31.180641",
     "status": "completed"
    },
    "tags": []
   },
   "source": [
    "Woman or child column"
   ]
  },
  {
   "cell_type": "code",
   "execution_count": 33,
   "id": "black-cleaners",
   "metadata": {
    "execution": {
     "iopub.execute_input": "2021-05-16T18:35:31.390262Z",
     "iopub.status.busy": "2021-05-16T18:35:31.389250Z",
     "iopub.status.idle": "2021-05-16T18:35:31.392698Z",
     "shell.execute_reply": "2021-05-16T18:35:31.392187Z"
    },
    "papermill": {
     "duration": 0.076202,
     "end_time": "2021-05-16T18:35:31.392891",
     "exception": false,
     "start_time": "2021-05-16T18:35:31.316689",
     "status": "completed"
    },
    "tags": []
   },
   "outputs": [],
   "source": [
    "#training_set['Woman_Child'] = ((training_set.Title == 0) | (training_set.Sex == 'female'))"
   ]
  },
  {
   "cell_type": "markdown",
   "id": "fitted-queen",
   "metadata": {
    "papermill": {
     "duration": 0.067562,
     "end_time": "2021-05-16T18:35:31.528262",
     "exception": false,
     "start_time": "2021-05-16T18:35:31.460700",
     "status": "completed"
    },
    "tags": []
   },
   "source": [
    "Family size column"
   ]
  },
  {
   "cell_type": "code",
   "execution_count": 34,
   "id": "renewable-kingston",
   "metadata": {
    "execution": {
     "iopub.execute_input": "2021-05-16T18:35:31.688192Z",
     "iopub.status.busy": "2021-05-16T18:35:31.687183Z",
     "iopub.status.idle": "2021-05-16T18:35:31.693560Z",
     "shell.execute_reply": "2021-05-16T18:35:31.694493Z"
    },
    "papermill": {
     "duration": 0.095209,
     "end_time": "2021-05-16T18:35:31.694685",
     "exception": false,
     "start_time": "2021-05-16T18:35:31.599476",
     "status": "completed"
    },
    "tags": []
   },
   "outputs": [],
   "source": [
    "#family = training_set.groupby([training_set.Last_Name, training_set.Pclass, training_set.Ticket]).Survived\n",
    "\n",
    "#training_set['FamilyTotalCount'] = family.transform(lambda s: s.fillna(0).count())\n",
    "\n",
    "#training_set['FamilySurvivedCount'] = family.transform(lambda s: s.fillna(0).sum())\n",
    "\n",
    "#training_set['FamilySurvivalRate'] = (training_set.FamilySurvivedCount / training_set.FamilyTotalCount.replace(0, np.nan))"
   ]
  },
  {
   "cell_type": "markdown",
   "id": "hearing-today",
   "metadata": {
    "papermill": {
     "duration": 0.067706,
     "end_time": "2021-05-16T18:35:31.830837",
     "exception": false,
     "start_time": "2021-05-16T18:35:31.763131",
     "status": "completed"
    },
    "tags": []
   },
   "source": [
    "# Categorical data\n",
    "****"
   ]
  },
  {
   "cell_type": "markdown",
   "id": "historical-breast",
   "metadata": {
    "papermill": {
     "duration": 0.066441,
     "end_time": "2021-05-16T18:35:31.965458",
     "exception": false,
     "start_time": "2021-05-16T18:35:31.899017",
     "status": "completed"
    },
    "tags": []
   },
   "source": [
    "Creating bins for Fare and Age features"
   ]
  },
  {
   "cell_type": "code",
   "execution_count": 35,
   "id": "western-prior",
   "metadata": {
    "execution": {
     "iopub.execute_input": "2021-05-16T18:35:32.104526Z",
     "iopub.status.busy": "2021-05-16T18:35:32.103436Z",
     "iopub.status.idle": "2021-05-16T18:35:32.121229Z",
     "shell.execute_reply": "2021-05-16T18:35:32.121718Z"
    },
    "papermill": {
     "duration": 0.088119,
     "end_time": "2021-05-16T18:35:32.121907",
     "exception": false,
     "start_time": "2021-05-16T18:35:32.033788",
     "status": "completed"
    },
    "tags": []
   },
   "outputs": [],
   "source": [
    "training_set = pd.get_dummies(training_set, columns=['Pclass', 'Sex', 'Embarked' ], drop_first= True)\n",
    "test_set = pd.get_dummies(test_set, columns=['Pclass', 'Sex', 'Embarked' ], drop_first= True)"
   ]
  },
  {
   "cell_type": "code",
   "execution_count": 36,
   "id": "round-freeze",
   "metadata": {
    "execution": {
     "iopub.execute_input": "2021-05-16T18:35:32.262505Z",
     "iopub.status.busy": "2021-05-16T18:35:32.261518Z",
     "iopub.status.idle": "2021-05-16T18:35:32.283815Z",
     "shell.execute_reply": "2021-05-16T18:35:32.284295Z"
    },
    "papermill": {
     "duration": 0.093578,
     "end_time": "2021-05-16T18:35:32.284472",
     "exception": false,
     "start_time": "2021-05-16T18:35:32.190894",
     "status": "completed"
    },
    "tags": []
   },
   "outputs": [
    {
     "data": {
      "text/html": [
       "<div>\n",
       "<style scoped>\n",
       "    .dataframe tbody tr th:only-of-type {\n",
       "        vertical-align: middle;\n",
       "    }\n",
       "\n",
       "    .dataframe tbody tr th {\n",
       "        vertical-align: top;\n",
       "    }\n",
       "\n",
       "    .dataframe thead th {\n",
       "        text-align: right;\n",
       "    }\n",
       "</style>\n",
       "<table border=\"1\" class=\"dataframe\">\n",
       "  <thead>\n",
       "    <tr style=\"text-align: right;\">\n",
       "      <th></th>\n",
       "      <th>PassengerId</th>\n",
       "      <th>Survived</th>\n",
       "      <th>Age</th>\n",
       "      <th>SibSp</th>\n",
       "      <th>Parch</th>\n",
       "      <th>Fare</th>\n",
       "      <th>Pclass_2</th>\n",
       "      <th>Pclass_3</th>\n",
       "      <th>Sex_male</th>\n",
       "      <th>Embarked_Q</th>\n",
       "      <th>Embarked_S</th>\n",
       "    </tr>\n",
       "  </thead>\n",
       "  <tbody>\n",
       "    <tr>\n",
       "      <th>0</th>\n",
       "      <td>1</td>\n",
       "      <td>0</td>\n",
       "      <td>22.0</td>\n",
       "      <td>1</td>\n",
       "      <td>0</td>\n",
       "      <td>7.2500</td>\n",
       "      <td>0</td>\n",
       "      <td>1</td>\n",
       "      <td>1</td>\n",
       "      <td>0</td>\n",
       "      <td>1</td>\n",
       "    </tr>\n",
       "    <tr>\n",
       "      <th>1</th>\n",
       "      <td>2</td>\n",
       "      <td>1</td>\n",
       "      <td>38.0</td>\n",
       "      <td>1</td>\n",
       "      <td>0</td>\n",
       "      <td>71.2833</td>\n",
       "      <td>0</td>\n",
       "      <td>0</td>\n",
       "      <td>0</td>\n",
       "      <td>0</td>\n",
       "      <td>0</td>\n",
       "    </tr>\n",
       "    <tr>\n",
       "      <th>2</th>\n",
       "      <td>3</td>\n",
       "      <td>1</td>\n",
       "      <td>26.0</td>\n",
       "      <td>0</td>\n",
       "      <td>0</td>\n",
       "      <td>7.9250</td>\n",
       "      <td>0</td>\n",
       "      <td>1</td>\n",
       "      <td>0</td>\n",
       "      <td>0</td>\n",
       "      <td>1</td>\n",
       "    </tr>\n",
       "    <tr>\n",
       "      <th>3</th>\n",
       "      <td>4</td>\n",
       "      <td>1</td>\n",
       "      <td>35.0</td>\n",
       "      <td>1</td>\n",
       "      <td>0</td>\n",
       "      <td>53.1000</td>\n",
       "      <td>0</td>\n",
       "      <td>0</td>\n",
       "      <td>0</td>\n",
       "      <td>0</td>\n",
       "      <td>1</td>\n",
       "    </tr>\n",
       "    <tr>\n",
       "      <th>4</th>\n",
       "      <td>5</td>\n",
       "      <td>0</td>\n",
       "      <td>35.0</td>\n",
       "      <td>0</td>\n",
       "      <td>0</td>\n",
       "      <td>8.0500</td>\n",
       "      <td>0</td>\n",
       "      <td>1</td>\n",
       "      <td>1</td>\n",
       "      <td>0</td>\n",
       "      <td>1</td>\n",
       "    </tr>\n",
       "    <tr>\n",
       "      <th>...</th>\n",
       "      <td>...</td>\n",
       "      <td>...</td>\n",
       "      <td>...</td>\n",
       "      <td>...</td>\n",
       "      <td>...</td>\n",
       "      <td>...</td>\n",
       "      <td>...</td>\n",
       "      <td>...</td>\n",
       "      <td>...</td>\n",
       "      <td>...</td>\n",
       "      <td>...</td>\n",
       "    </tr>\n",
       "    <tr>\n",
       "      <th>886</th>\n",
       "      <td>887</td>\n",
       "      <td>0</td>\n",
       "      <td>27.0</td>\n",
       "      <td>0</td>\n",
       "      <td>0</td>\n",
       "      <td>13.0000</td>\n",
       "      <td>1</td>\n",
       "      <td>0</td>\n",
       "      <td>1</td>\n",
       "      <td>0</td>\n",
       "      <td>1</td>\n",
       "    </tr>\n",
       "    <tr>\n",
       "      <th>887</th>\n",
       "      <td>888</td>\n",
       "      <td>1</td>\n",
       "      <td>19.0</td>\n",
       "      <td>0</td>\n",
       "      <td>0</td>\n",
       "      <td>30.0000</td>\n",
       "      <td>0</td>\n",
       "      <td>0</td>\n",
       "      <td>0</td>\n",
       "      <td>0</td>\n",
       "      <td>1</td>\n",
       "    </tr>\n",
       "    <tr>\n",
       "      <th>888</th>\n",
       "      <td>889</td>\n",
       "      <td>0</td>\n",
       "      <td>28.0</td>\n",
       "      <td>1</td>\n",
       "      <td>2</td>\n",
       "      <td>23.4500</td>\n",
       "      <td>0</td>\n",
       "      <td>1</td>\n",
       "      <td>0</td>\n",
       "      <td>0</td>\n",
       "      <td>1</td>\n",
       "    </tr>\n",
       "    <tr>\n",
       "      <th>889</th>\n",
       "      <td>890</td>\n",
       "      <td>1</td>\n",
       "      <td>26.0</td>\n",
       "      <td>0</td>\n",
       "      <td>0</td>\n",
       "      <td>30.0000</td>\n",
       "      <td>0</td>\n",
       "      <td>0</td>\n",
       "      <td>1</td>\n",
       "      <td>0</td>\n",
       "      <td>0</td>\n",
       "    </tr>\n",
       "    <tr>\n",
       "      <th>890</th>\n",
       "      <td>891</td>\n",
       "      <td>0</td>\n",
       "      <td>32.0</td>\n",
       "      <td>0</td>\n",
       "      <td>0</td>\n",
       "      <td>7.7500</td>\n",
       "      <td>0</td>\n",
       "      <td>1</td>\n",
       "      <td>1</td>\n",
       "      <td>1</td>\n",
       "      <td>0</td>\n",
       "    </tr>\n",
       "  </tbody>\n",
       "</table>\n",
       "<p>830 rows × 11 columns</p>\n",
       "</div>"
      ],
      "text/plain": [
       "     PassengerId  Survived   Age  SibSp  Parch     Fare  Pclass_2  Pclass_3  \\\n",
       "0              1         0  22.0      1      0   7.2500         0         1   \n",
       "1              2         1  38.0      1      0  71.2833         0         0   \n",
       "2              3         1  26.0      0      0   7.9250         0         1   \n",
       "3              4         1  35.0      1      0  53.1000         0         0   \n",
       "4              5         0  35.0      0      0   8.0500         0         1   \n",
       "..           ...       ...   ...    ...    ...      ...       ...       ...   \n",
       "886          887         0  27.0      0      0  13.0000         1         0   \n",
       "887          888         1  19.0      0      0  30.0000         0         0   \n",
       "888          889         0  28.0      1      2  23.4500         0         1   \n",
       "889          890         1  26.0      0      0  30.0000         0         0   \n",
       "890          891         0  32.0      0      0   7.7500         0         1   \n",
       "\n",
       "     Sex_male  Embarked_Q  Embarked_S  \n",
       "0           1           0           1  \n",
       "1           0           0           0  \n",
       "2           0           0           1  \n",
       "3           0           0           1  \n",
       "4           1           0           1  \n",
       "..        ...         ...         ...  \n",
       "886         1           0           1  \n",
       "887         0           0           1  \n",
       "888         0           0           1  \n",
       "889         1           0           0  \n",
       "890         1           1           0  \n",
       "\n",
       "[830 rows x 11 columns]"
      ]
     },
     "execution_count": 36,
     "metadata": {},
     "output_type": "execute_result"
    }
   ],
   "source": [
    "training_set"
   ]
  },
  {
   "cell_type": "code",
   "execution_count": 37,
   "id": "rocky-error",
   "metadata": {
    "execution": {
     "iopub.execute_input": "2021-05-16T18:35:32.425712Z",
     "iopub.status.busy": "2021-05-16T18:35:32.425007Z",
     "iopub.status.idle": "2021-05-16T18:35:32.428236Z",
     "shell.execute_reply": "2021-05-16T18:35:32.428746Z"
    },
    "papermill": {
     "duration": 0.075966,
     "end_time": "2021-05-16T18:35:32.428922",
     "exception": false,
     "start_time": "2021-05-16T18:35:32.352956",
     "status": "completed"
    },
    "tags": []
   },
   "outputs": [],
   "source": [
    "#from sklearn.preprocessing import LabelEncoder\n",
    "\n",
    "#training_set['FareBin'] = pd.qcut(training_set['Fare'], 5)\n",
    "\n",
    "#label = LabelEncoder()\n",
    "#training_set['FareBin_Code'] = label.fit_transform(training_set['FareBin'])\n",
    "\n",
    "#training_set.drop(['Fare'], 1, inplace=True)"
   ]
  },
  {
   "cell_type": "code",
   "execution_count": 38,
   "id": "fixed-correlation",
   "metadata": {
    "execution": {
     "iopub.execute_input": "2021-05-16T18:35:32.569724Z",
     "iopub.status.busy": "2021-05-16T18:35:32.568995Z",
     "iopub.status.idle": "2021-05-16T18:35:32.572166Z",
     "shell.execute_reply": "2021-05-16T18:35:32.572668Z"
    },
    "papermill": {
     "duration": 0.075609,
     "end_time": "2021-05-16T18:35:32.572854",
     "exception": false,
     "start_time": "2021-05-16T18:35:32.497245",
     "status": "completed"
    },
    "tags": []
   },
   "outputs": [],
   "source": [
    "#training_set['AgeBin'] = pd.qcut(training_set['Age'], 4)\n",
    "#test_set['AgeBin'] = pd.qcut(test_set['Age'], 4)\n",
    "\n",
    "#training_set['AgeBin_Code'] = label.fit_transform(training_set['AgeBin'])\n",
    "#test_set['AgeBin_Code'] = label.fit_transform(test_set['AgeBin'])\n",
    "\n",
    "#training_set.drop(['Age'], 1, inplace=True)\n",
    "#test_set.drop(['Age'], 1, inplace=True)"
   ]
  },
  {
   "cell_type": "code",
   "execution_count": 39,
   "id": "distinct-search",
   "metadata": {
    "execution": {
     "iopub.execute_input": "2021-05-16T18:35:32.714041Z",
     "iopub.status.busy": "2021-05-16T18:35:32.713400Z",
     "iopub.status.idle": "2021-05-16T18:35:32.716582Z",
     "shell.execute_reply": "2021-05-16T18:35:32.717146Z"
    },
    "papermill": {
     "duration": 0.074643,
     "end_time": "2021-05-16T18:35:32.717323",
     "exception": false,
     "start_time": "2021-05-16T18:35:32.642680",
     "status": "completed"
    },
    "tags": []
   },
   "outputs": [],
   "source": [
    "#training_set.drop(['Name', 'Title', 'SibSp', 'Parch', 'FareBin', 'Last_Name', 'FamilyTotalCount', 'FamilySurvivedCount'], axis = 1, inplace = True)"
   ]
  },
  {
   "cell_type": "markdown",
   "id": "proved-compiler",
   "metadata": {
    "papermill": {
     "duration": 0.067615,
     "end_time": "2021-05-16T18:35:32.853268",
     "exception": false,
     "start_time": "2021-05-16T18:35:32.785653",
     "status": "completed"
    },
    "tags": []
   },
   "source": [
    "# Creating the matrix of features and dependent variable vector\n",
    "****"
   ]
  },
  {
   "cell_type": "code",
   "execution_count": 40,
   "id": "expensive-leone",
   "metadata": {
    "execution": {
     "iopub.execute_input": "2021-05-16T18:35:32.994320Z",
     "iopub.status.busy": "2021-05-16T18:35:32.993634Z",
     "iopub.status.idle": "2021-05-16T18:35:33.000581Z",
     "shell.execute_reply": "2021-05-16T18:35:33.001205Z"
    },
    "papermill": {
     "duration": 0.078617,
     "end_time": "2021-05-16T18:35:33.001390",
     "exception": false,
     "start_time": "2021-05-16T18:35:32.922773",
     "status": "completed"
    },
    "tags": []
   },
   "outputs": [],
   "source": [
    "x_train = training_set.iloc[:,training_set.columns != 'Survived']\n",
    "y_train = training_set.iloc[:,training_set.columns == 'Survived'].values.reshape(-1,1)\n",
    "\n",
    "x_test = test_set"
   ]
  },
  {
   "cell_type": "code",
   "execution_count": 41,
   "id": "personalized-condition",
   "metadata": {
    "execution": {
     "iopub.execute_input": "2021-05-16T18:35:33.143906Z",
     "iopub.status.busy": "2021-05-16T18:35:33.143250Z",
     "iopub.status.idle": "2021-05-16T18:35:33.165125Z",
     "shell.execute_reply": "2021-05-16T18:35:33.165632Z"
    },
    "papermill": {
     "duration": 0.095779,
     "end_time": "2021-05-16T18:35:33.165805",
     "exception": false,
     "start_time": "2021-05-16T18:35:33.070026",
     "status": "completed"
    },
    "tags": []
   },
   "outputs": [
    {
     "data": {
      "text/html": [
       "<div>\n",
       "<style scoped>\n",
       "    .dataframe tbody tr th:only-of-type {\n",
       "        vertical-align: middle;\n",
       "    }\n",
       "\n",
       "    .dataframe tbody tr th {\n",
       "        vertical-align: top;\n",
       "    }\n",
       "\n",
       "    .dataframe thead th {\n",
       "        text-align: right;\n",
       "    }\n",
       "</style>\n",
       "<table border=\"1\" class=\"dataframe\">\n",
       "  <thead>\n",
       "    <tr style=\"text-align: right;\">\n",
       "      <th></th>\n",
       "      <th>PassengerId</th>\n",
       "      <th>Survived</th>\n",
       "      <th>Age</th>\n",
       "      <th>SibSp</th>\n",
       "      <th>Parch</th>\n",
       "      <th>Fare</th>\n",
       "      <th>Pclass_2</th>\n",
       "      <th>Pclass_3</th>\n",
       "      <th>Sex_male</th>\n",
       "      <th>Embarked_Q</th>\n",
       "      <th>Embarked_S</th>\n",
       "    </tr>\n",
       "  </thead>\n",
       "  <tbody>\n",
       "    <tr>\n",
       "      <th>0</th>\n",
       "      <td>1</td>\n",
       "      <td>0</td>\n",
       "      <td>22.0</td>\n",
       "      <td>1</td>\n",
       "      <td>0</td>\n",
       "      <td>7.2500</td>\n",
       "      <td>0</td>\n",
       "      <td>1</td>\n",
       "      <td>1</td>\n",
       "      <td>0</td>\n",
       "      <td>1</td>\n",
       "    </tr>\n",
       "    <tr>\n",
       "      <th>1</th>\n",
       "      <td>2</td>\n",
       "      <td>1</td>\n",
       "      <td>38.0</td>\n",
       "      <td>1</td>\n",
       "      <td>0</td>\n",
       "      <td>71.2833</td>\n",
       "      <td>0</td>\n",
       "      <td>0</td>\n",
       "      <td>0</td>\n",
       "      <td>0</td>\n",
       "      <td>0</td>\n",
       "    </tr>\n",
       "    <tr>\n",
       "      <th>2</th>\n",
       "      <td>3</td>\n",
       "      <td>1</td>\n",
       "      <td>26.0</td>\n",
       "      <td>0</td>\n",
       "      <td>0</td>\n",
       "      <td>7.9250</td>\n",
       "      <td>0</td>\n",
       "      <td>1</td>\n",
       "      <td>0</td>\n",
       "      <td>0</td>\n",
       "      <td>1</td>\n",
       "    </tr>\n",
       "    <tr>\n",
       "      <th>3</th>\n",
       "      <td>4</td>\n",
       "      <td>1</td>\n",
       "      <td>35.0</td>\n",
       "      <td>1</td>\n",
       "      <td>0</td>\n",
       "      <td>53.1000</td>\n",
       "      <td>0</td>\n",
       "      <td>0</td>\n",
       "      <td>0</td>\n",
       "      <td>0</td>\n",
       "      <td>1</td>\n",
       "    </tr>\n",
       "    <tr>\n",
       "      <th>4</th>\n",
       "      <td>5</td>\n",
       "      <td>0</td>\n",
       "      <td>35.0</td>\n",
       "      <td>0</td>\n",
       "      <td>0</td>\n",
       "      <td>8.0500</td>\n",
       "      <td>0</td>\n",
       "      <td>1</td>\n",
       "      <td>1</td>\n",
       "      <td>0</td>\n",
       "      <td>1</td>\n",
       "    </tr>\n",
       "    <tr>\n",
       "      <th>...</th>\n",
       "      <td>...</td>\n",
       "      <td>...</td>\n",
       "      <td>...</td>\n",
       "      <td>...</td>\n",
       "      <td>...</td>\n",
       "      <td>...</td>\n",
       "      <td>...</td>\n",
       "      <td>...</td>\n",
       "      <td>...</td>\n",
       "      <td>...</td>\n",
       "      <td>...</td>\n",
       "    </tr>\n",
       "    <tr>\n",
       "      <th>886</th>\n",
       "      <td>887</td>\n",
       "      <td>0</td>\n",
       "      <td>27.0</td>\n",
       "      <td>0</td>\n",
       "      <td>0</td>\n",
       "      <td>13.0000</td>\n",
       "      <td>1</td>\n",
       "      <td>0</td>\n",
       "      <td>1</td>\n",
       "      <td>0</td>\n",
       "      <td>1</td>\n",
       "    </tr>\n",
       "    <tr>\n",
       "      <th>887</th>\n",
       "      <td>888</td>\n",
       "      <td>1</td>\n",
       "      <td>19.0</td>\n",
       "      <td>0</td>\n",
       "      <td>0</td>\n",
       "      <td>30.0000</td>\n",
       "      <td>0</td>\n",
       "      <td>0</td>\n",
       "      <td>0</td>\n",
       "      <td>0</td>\n",
       "      <td>1</td>\n",
       "    </tr>\n",
       "    <tr>\n",
       "      <th>888</th>\n",
       "      <td>889</td>\n",
       "      <td>0</td>\n",
       "      <td>28.0</td>\n",
       "      <td>1</td>\n",
       "      <td>2</td>\n",
       "      <td>23.4500</td>\n",
       "      <td>0</td>\n",
       "      <td>1</td>\n",
       "      <td>0</td>\n",
       "      <td>0</td>\n",
       "      <td>1</td>\n",
       "    </tr>\n",
       "    <tr>\n",
       "      <th>889</th>\n",
       "      <td>890</td>\n",
       "      <td>1</td>\n",
       "      <td>26.0</td>\n",
       "      <td>0</td>\n",
       "      <td>0</td>\n",
       "      <td>30.0000</td>\n",
       "      <td>0</td>\n",
       "      <td>0</td>\n",
       "      <td>1</td>\n",
       "      <td>0</td>\n",
       "      <td>0</td>\n",
       "    </tr>\n",
       "    <tr>\n",
       "      <th>890</th>\n",
       "      <td>891</td>\n",
       "      <td>0</td>\n",
       "      <td>32.0</td>\n",
       "      <td>0</td>\n",
       "      <td>0</td>\n",
       "      <td>7.7500</td>\n",
       "      <td>0</td>\n",
       "      <td>1</td>\n",
       "      <td>1</td>\n",
       "      <td>1</td>\n",
       "      <td>0</td>\n",
       "    </tr>\n",
       "  </tbody>\n",
       "</table>\n",
       "<p>830 rows × 11 columns</p>\n",
       "</div>"
      ],
      "text/plain": [
       "     PassengerId  Survived   Age  SibSp  Parch     Fare  Pclass_2  Pclass_3  \\\n",
       "0              1         0  22.0      1      0   7.2500         0         1   \n",
       "1              2         1  38.0      1      0  71.2833         0         0   \n",
       "2              3         1  26.0      0      0   7.9250         0         1   \n",
       "3              4         1  35.0      1      0  53.1000         0         0   \n",
       "4              5         0  35.0      0      0   8.0500         0         1   \n",
       "..           ...       ...   ...    ...    ...      ...       ...       ...   \n",
       "886          887         0  27.0      0      0  13.0000         1         0   \n",
       "887          888         1  19.0      0      0  30.0000         0         0   \n",
       "888          889         0  28.0      1      2  23.4500         0         1   \n",
       "889          890         1  26.0      0      0  30.0000         0         0   \n",
       "890          891         0  32.0      0      0   7.7500         0         1   \n",
       "\n",
       "     Sex_male  Embarked_Q  Embarked_S  \n",
       "0           1           0           1  \n",
       "1           0           0           0  \n",
       "2           0           0           1  \n",
       "3           0           0           1  \n",
       "4           1           0           1  \n",
       "..        ...         ...         ...  \n",
       "886         1           0           1  \n",
       "887         0           0           1  \n",
       "888         0           0           1  \n",
       "889         1           0           0  \n",
       "890         1           1           0  \n",
       "\n",
       "[830 rows x 11 columns]"
      ]
     },
     "execution_count": 41,
     "metadata": {},
     "output_type": "execute_result"
    }
   ],
   "source": [
    "training_set"
   ]
  },
  {
   "cell_type": "code",
   "execution_count": 42,
   "id": "spare-trick",
   "metadata": {
    "execution": {
     "iopub.execute_input": "2021-05-16T18:35:33.310125Z",
     "iopub.status.busy": "2021-05-16T18:35:33.309177Z",
     "iopub.status.idle": "2021-05-16T18:35:33.330119Z",
     "shell.execute_reply": "2021-05-16T18:35:33.330607Z"
    },
    "papermill": {
     "duration": 0.094813,
     "end_time": "2021-05-16T18:35:33.330783",
     "exception": false,
     "start_time": "2021-05-16T18:35:33.235970",
     "status": "completed"
    },
    "tags": []
   },
   "outputs": [
    {
     "data": {
      "text/html": [
       "<div>\n",
       "<style scoped>\n",
       "    .dataframe tbody tr th:only-of-type {\n",
       "        vertical-align: middle;\n",
       "    }\n",
       "\n",
       "    .dataframe tbody tr th {\n",
       "        vertical-align: top;\n",
       "    }\n",
       "\n",
       "    .dataframe thead th {\n",
       "        text-align: right;\n",
       "    }\n",
       "</style>\n",
       "<table border=\"1\" class=\"dataframe\">\n",
       "  <thead>\n",
       "    <tr style=\"text-align: right;\">\n",
       "      <th></th>\n",
       "      <th>PassengerId</th>\n",
       "      <th>Age</th>\n",
       "      <th>SibSp</th>\n",
       "      <th>Parch</th>\n",
       "      <th>Fare</th>\n",
       "      <th>Pclass_2</th>\n",
       "      <th>Pclass_3</th>\n",
       "      <th>Sex_male</th>\n",
       "      <th>Embarked_Q</th>\n",
       "      <th>Embarked_S</th>\n",
       "    </tr>\n",
       "  </thead>\n",
       "  <tbody>\n",
       "    <tr>\n",
       "      <th>0</th>\n",
       "      <td>892</td>\n",
       "      <td>34.5</td>\n",
       "      <td>0</td>\n",
       "      <td>0</td>\n",
       "      <td>7.8292</td>\n",
       "      <td>0</td>\n",
       "      <td>1</td>\n",
       "      <td>1</td>\n",
       "      <td>1</td>\n",
       "      <td>0</td>\n",
       "    </tr>\n",
       "    <tr>\n",
       "      <th>1</th>\n",
       "      <td>893</td>\n",
       "      <td>47.0</td>\n",
       "      <td>1</td>\n",
       "      <td>0</td>\n",
       "      <td>7.0000</td>\n",
       "      <td>0</td>\n",
       "      <td>1</td>\n",
       "      <td>0</td>\n",
       "      <td>0</td>\n",
       "      <td>1</td>\n",
       "    </tr>\n",
       "    <tr>\n",
       "      <th>2</th>\n",
       "      <td>894</td>\n",
       "      <td>62.0</td>\n",
       "      <td>0</td>\n",
       "      <td>0</td>\n",
       "      <td>9.6875</td>\n",
       "      <td>1</td>\n",
       "      <td>0</td>\n",
       "      <td>1</td>\n",
       "      <td>1</td>\n",
       "      <td>0</td>\n",
       "    </tr>\n",
       "    <tr>\n",
       "      <th>3</th>\n",
       "      <td>895</td>\n",
       "      <td>27.0</td>\n",
       "      <td>0</td>\n",
       "      <td>0</td>\n",
       "      <td>8.6625</td>\n",
       "      <td>0</td>\n",
       "      <td>1</td>\n",
       "      <td>1</td>\n",
       "      <td>0</td>\n",
       "      <td>1</td>\n",
       "    </tr>\n",
       "    <tr>\n",
       "      <th>4</th>\n",
       "      <td>896</td>\n",
       "      <td>22.0</td>\n",
       "      <td>1</td>\n",
       "      <td>1</td>\n",
       "      <td>12.2875</td>\n",
       "      <td>0</td>\n",
       "      <td>1</td>\n",
       "      <td>0</td>\n",
       "      <td>0</td>\n",
       "      <td>1</td>\n",
       "    </tr>\n",
       "    <tr>\n",
       "      <th>...</th>\n",
       "      <td>...</td>\n",
       "      <td>...</td>\n",
       "      <td>...</td>\n",
       "      <td>...</td>\n",
       "      <td>...</td>\n",
       "      <td>...</td>\n",
       "      <td>...</td>\n",
       "      <td>...</td>\n",
       "      <td>...</td>\n",
       "      <td>...</td>\n",
       "    </tr>\n",
       "    <tr>\n",
       "      <th>413</th>\n",
       "      <td>1305</td>\n",
       "      <td>27.0</td>\n",
       "      <td>0</td>\n",
       "      <td>0</td>\n",
       "      <td>8.0500</td>\n",
       "      <td>0</td>\n",
       "      <td>1</td>\n",
       "      <td>1</td>\n",
       "      <td>0</td>\n",
       "      <td>1</td>\n",
       "    </tr>\n",
       "    <tr>\n",
       "      <th>414</th>\n",
       "      <td>1306</td>\n",
       "      <td>39.0</td>\n",
       "      <td>0</td>\n",
       "      <td>0</td>\n",
       "      <td>108.9000</td>\n",
       "      <td>0</td>\n",
       "      <td>0</td>\n",
       "      <td>0</td>\n",
       "      <td>0</td>\n",
       "      <td>0</td>\n",
       "    </tr>\n",
       "    <tr>\n",
       "      <th>415</th>\n",
       "      <td>1307</td>\n",
       "      <td>38.5</td>\n",
       "      <td>0</td>\n",
       "      <td>0</td>\n",
       "      <td>7.2500</td>\n",
       "      <td>0</td>\n",
       "      <td>1</td>\n",
       "      <td>1</td>\n",
       "      <td>0</td>\n",
       "      <td>1</td>\n",
       "    </tr>\n",
       "    <tr>\n",
       "      <th>416</th>\n",
       "      <td>1308</td>\n",
       "      <td>27.0</td>\n",
       "      <td>0</td>\n",
       "      <td>0</td>\n",
       "      <td>8.0500</td>\n",
       "      <td>0</td>\n",
       "      <td>1</td>\n",
       "      <td>1</td>\n",
       "      <td>0</td>\n",
       "      <td>1</td>\n",
       "    </tr>\n",
       "    <tr>\n",
       "      <th>417</th>\n",
       "      <td>1309</td>\n",
       "      <td>27.0</td>\n",
       "      <td>1</td>\n",
       "      <td>1</td>\n",
       "      <td>22.3583</td>\n",
       "      <td>0</td>\n",
       "      <td>1</td>\n",
       "      <td>1</td>\n",
       "      <td>0</td>\n",
       "      <td>0</td>\n",
       "    </tr>\n",
       "  </tbody>\n",
       "</table>\n",
       "<p>418 rows × 10 columns</p>\n",
       "</div>"
      ],
      "text/plain": [
       "     PassengerId   Age  SibSp  Parch      Fare  Pclass_2  Pclass_3  Sex_male  \\\n",
       "0            892  34.5      0      0    7.8292         0         1         1   \n",
       "1            893  47.0      1      0    7.0000         0         1         0   \n",
       "2            894  62.0      0      0    9.6875         1         0         1   \n",
       "3            895  27.0      0      0    8.6625         0         1         1   \n",
       "4            896  22.0      1      1   12.2875         0         1         0   \n",
       "..           ...   ...    ...    ...       ...       ...       ...       ...   \n",
       "413         1305  27.0      0      0    8.0500         0         1         1   \n",
       "414         1306  39.0      0      0  108.9000         0         0         0   \n",
       "415         1307  38.5      0      0    7.2500         0         1         1   \n",
       "416         1308  27.0      0      0    8.0500         0         1         1   \n",
       "417         1309  27.0      1      1   22.3583         0         1         1   \n",
       "\n",
       "     Embarked_Q  Embarked_S  \n",
       "0             1           0  \n",
       "1             0           1  \n",
       "2             1           0  \n",
       "3             0           1  \n",
       "4             0           1  \n",
       "..          ...         ...  \n",
       "413           0           1  \n",
       "414           0           0  \n",
       "415           0           1  \n",
       "416           0           1  \n",
       "417           0           0  \n",
       "\n",
       "[418 rows x 10 columns]"
      ]
     },
     "execution_count": 42,
     "metadata": {},
     "output_type": "execute_result"
    }
   ],
   "source": [
    "test_set"
   ]
  },
  {
   "cell_type": "code",
   "execution_count": 43,
   "id": "forbidden-lending",
   "metadata": {
    "execution": {
     "iopub.execute_input": "2021-05-16T18:35:33.474222Z",
     "iopub.status.busy": "2021-05-16T18:35:33.473257Z",
     "iopub.status.idle": "2021-05-16T18:35:33.515428Z",
     "shell.execute_reply": "2021-05-16T18:35:33.515897Z"
    },
    "papermill": {
     "duration": 0.115777,
     "end_time": "2021-05-16T18:35:33.516101",
     "exception": false,
     "start_time": "2021-05-16T18:35:33.400324",
     "status": "completed"
    },
    "tags": []
   },
   "outputs": [
    {
     "data": {
      "text/html": [
       "<div>\n",
       "<style scoped>\n",
       "    .dataframe tbody tr th:only-of-type {\n",
       "        vertical-align: middle;\n",
       "    }\n",
       "\n",
       "    .dataframe tbody tr th {\n",
       "        vertical-align: top;\n",
       "    }\n",
       "\n",
       "    .dataframe thead th {\n",
       "        text-align: right;\n",
       "    }\n",
       "</style>\n",
       "<table border=\"1\" class=\"dataframe\">\n",
       "  <thead>\n",
       "    <tr style=\"text-align: right;\">\n",
       "      <th></th>\n",
       "      <th>PassengerId</th>\n",
       "      <th>Age</th>\n",
       "      <th>SibSp</th>\n",
       "      <th>Parch</th>\n",
       "      <th>Fare</th>\n",
       "      <th>Pclass_2</th>\n",
       "      <th>Pclass_3</th>\n",
       "      <th>Sex_male</th>\n",
       "      <th>Embarked_Q</th>\n",
       "      <th>Embarked_S</th>\n",
       "    </tr>\n",
       "  </thead>\n",
       "  <tbody>\n",
       "    <tr>\n",
       "      <th>count</th>\n",
       "      <td>418.000000</td>\n",
       "      <td>418.000000</td>\n",
       "      <td>418.000000</td>\n",
       "      <td>418.000000</td>\n",
       "      <td>418.000000</td>\n",
       "      <td>418.000000</td>\n",
       "      <td>418.000000</td>\n",
       "      <td>418.000000</td>\n",
       "      <td>418.000000</td>\n",
       "      <td>418.000000</td>\n",
       "    </tr>\n",
       "    <tr>\n",
       "      <th>mean</th>\n",
       "      <td>1100.500000</td>\n",
       "      <td>29.599282</td>\n",
       "      <td>0.447368</td>\n",
       "      <td>0.392344</td>\n",
       "      <td>35.576535</td>\n",
       "      <td>0.222488</td>\n",
       "      <td>0.521531</td>\n",
       "      <td>0.636364</td>\n",
       "      <td>0.110048</td>\n",
       "      <td>0.645933</td>\n",
       "    </tr>\n",
       "    <tr>\n",
       "      <th>std</th>\n",
       "      <td>120.810458</td>\n",
       "      <td>12.703770</td>\n",
       "      <td>0.896760</td>\n",
       "      <td>0.981429</td>\n",
       "      <td>55.850103</td>\n",
       "      <td>0.416416</td>\n",
       "      <td>0.500135</td>\n",
       "      <td>0.481622</td>\n",
       "      <td>0.313324</td>\n",
       "      <td>0.478803</td>\n",
       "    </tr>\n",
       "    <tr>\n",
       "      <th>min</th>\n",
       "      <td>892.000000</td>\n",
       "      <td>0.170000</td>\n",
       "      <td>0.000000</td>\n",
       "      <td>0.000000</td>\n",
       "      <td>0.000000</td>\n",
       "      <td>0.000000</td>\n",
       "      <td>0.000000</td>\n",
       "      <td>0.000000</td>\n",
       "      <td>0.000000</td>\n",
       "      <td>0.000000</td>\n",
       "    </tr>\n",
       "    <tr>\n",
       "      <th>25%</th>\n",
       "      <td>996.250000</td>\n",
       "      <td>23.000000</td>\n",
       "      <td>0.000000</td>\n",
       "      <td>0.000000</td>\n",
       "      <td>7.895800</td>\n",
       "      <td>0.000000</td>\n",
       "      <td>0.000000</td>\n",
       "      <td>0.000000</td>\n",
       "      <td>0.000000</td>\n",
       "      <td>0.000000</td>\n",
       "    </tr>\n",
       "    <tr>\n",
       "      <th>50%</th>\n",
       "      <td>1100.500000</td>\n",
       "      <td>27.000000</td>\n",
       "      <td>0.000000</td>\n",
       "      <td>0.000000</td>\n",
       "      <td>14.454200</td>\n",
       "      <td>0.000000</td>\n",
       "      <td>1.000000</td>\n",
       "      <td>1.000000</td>\n",
       "      <td>0.000000</td>\n",
       "      <td>1.000000</td>\n",
       "    </tr>\n",
       "    <tr>\n",
       "      <th>75%</th>\n",
       "      <td>1204.750000</td>\n",
       "      <td>35.750000</td>\n",
       "      <td>1.000000</td>\n",
       "      <td>0.000000</td>\n",
       "      <td>31.471875</td>\n",
       "      <td>0.000000</td>\n",
       "      <td>1.000000</td>\n",
       "      <td>1.000000</td>\n",
       "      <td>0.000000</td>\n",
       "      <td>1.000000</td>\n",
       "    </tr>\n",
       "    <tr>\n",
       "      <th>max</th>\n",
       "      <td>1309.000000</td>\n",
       "      <td>76.000000</td>\n",
       "      <td>8.000000</td>\n",
       "      <td>9.000000</td>\n",
       "      <td>512.329200</td>\n",
       "      <td>1.000000</td>\n",
       "      <td>1.000000</td>\n",
       "      <td>1.000000</td>\n",
       "      <td>1.000000</td>\n",
       "      <td>1.000000</td>\n",
       "    </tr>\n",
       "  </tbody>\n",
       "</table>\n",
       "</div>"
      ],
      "text/plain": [
       "       PassengerId         Age       SibSp       Parch        Fare  \\\n",
       "count   418.000000  418.000000  418.000000  418.000000  418.000000   \n",
       "mean   1100.500000   29.599282    0.447368    0.392344   35.576535   \n",
       "std     120.810458   12.703770    0.896760    0.981429   55.850103   \n",
       "min     892.000000    0.170000    0.000000    0.000000    0.000000   \n",
       "25%     996.250000   23.000000    0.000000    0.000000    7.895800   \n",
       "50%    1100.500000   27.000000    0.000000    0.000000   14.454200   \n",
       "75%    1204.750000   35.750000    1.000000    0.000000   31.471875   \n",
       "max    1309.000000   76.000000    8.000000    9.000000  512.329200   \n",
       "\n",
       "         Pclass_2    Pclass_3    Sex_male  Embarked_Q  Embarked_S  \n",
       "count  418.000000  418.000000  418.000000  418.000000  418.000000  \n",
       "mean     0.222488    0.521531    0.636364    0.110048    0.645933  \n",
       "std      0.416416    0.500135    0.481622    0.313324    0.478803  \n",
       "min      0.000000    0.000000    0.000000    0.000000    0.000000  \n",
       "25%      0.000000    0.000000    0.000000    0.000000    0.000000  \n",
       "50%      0.000000    1.000000    1.000000    0.000000    1.000000  \n",
       "75%      0.000000    1.000000    1.000000    0.000000    1.000000  \n",
       "max      1.000000    1.000000    1.000000    1.000000    1.000000  "
      ]
     },
     "execution_count": 43,
     "metadata": {},
     "output_type": "execute_result"
    }
   ],
   "source": [
    "x_test.describe()"
   ]
  },
  {
   "cell_type": "code",
   "execution_count": 44,
   "id": "unsigned-condition",
   "metadata": {
    "execution": {
     "iopub.execute_input": "2021-05-16T18:35:33.662566Z",
     "iopub.status.busy": "2021-05-16T18:35:33.661555Z",
     "iopub.status.idle": "2021-05-16T18:35:33.669719Z",
     "shell.execute_reply": "2021-05-16T18:35:33.670204Z"
    },
    "papermill": {
     "duration": 0.082972,
     "end_time": "2021-05-16T18:35:33.670414",
     "exception": false,
     "start_time": "2021-05-16T18:35:33.587442",
     "status": "completed"
    },
    "tags": []
   },
   "outputs": [
    {
     "data": {
      "text/plain": [
       "PassengerId    0\n",
       "Age            0\n",
       "SibSp          0\n",
       "Parch          0\n",
       "Fare           0\n",
       "Pclass_2       0\n",
       "Pclass_3       0\n",
       "Sex_male       0\n",
       "Embarked_Q     0\n",
       "Embarked_S     0\n",
       "dtype: int64"
      ]
     },
     "execution_count": 44,
     "metadata": {},
     "output_type": "execute_result"
    }
   ],
   "source": [
    "x_test.isna().sum()"
   ]
  },
  {
   "cell_type": "markdown",
   "id": "synthetic-reproduction",
   "metadata": {
    "papermill": {
     "duration": 0.070832,
     "end_time": "2021-05-16T18:35:33.813119",
     "exception": false,
     "start_time": "2021-05-16T18:35:33.742287",
     "status": "completed"
    },
    "tags": []
   },
   "source": [
    "# Feature importance\n",
    "****"
   ]
  },
  {
   "cell_type": "code",
   "execution_count": 45,
   "id": "twelve-nature",
   "metadata": {
    "execution": {
     "iopub.execute_input": "2021-05-16T18:35:33.960594Z",
     "iopub.status.busy": "2021-05-16T18:35:33.959597Z",
     "iopub.status.idle": "2021-05-16T18:35:34.194164Z",
     "shell.execute_reply": "2021-05-16T18:35:34.193403Z"
    },
    "papermill": {
     "duration": 0.30952,
     "end_time": "2021-05-16T18:35:34.194310",
     "exception": false,
     "start_time": "2021-05-16T18:35:33.884790",
     "status": "completed"
    },
    "tags": []
   },
   "outputs": [],
   "source": [
    "from sklearn.tree import DecisionTreeClassifier\n",
    "\n",
    "classifier_dt = DecisionTreeClassifier()\n",
    "#classifier_dt.fit(x_train, y_train)\n",
    "\n",
    "#y_pred = classifier_dt.predict(x_test)\n",
    "\n",
    "#importances = pd.DataFrame(classifier_dt.feature_importances_, index = x_train.columns)\n",
    "#importances.sort_values(by = 0, inplace=True, ascending = False)\n",
    "\n",
    "#plt.figure(figsize = (8, 5)) \n",
    "#sn.barplot(x = 0, y = importances.index, data = importances)\n",
    "#sn.despine()"
   ]
  },
  {
   "cell_type": "code",
   "execution_count": 46,
   "id": "gross-telescope",
   "metadata": {
    "execution": {
     "iopub.execute_input": "2021-05-16T18:35:34.345759Z",
     "iopub.status.busy": "2021-05-16T18:35:34.344801Z",
     "iopub.status.idle": "2021-05-16T18:35:34.359161Z",
     "shell.execute_reply": "2021-05-16T18:35:34.359603Z"
    },
    "papermill": {
     "duration": 0.090657,
     "end_time": "2021-05-16T18:35:34.359847",
     "exception": false,
     "start_time": "2021-05-16T18:35:34.269190",
     "status": "completed"
    },
    "tags": []
   },
   "outputs": [
    {
     "data": {
      "text/html": [
       "<div>\n",
       "<style scoped>\n",
       "    .dataframe tbody tr th:only-of-type {\n",
       "        vertical-align: middle;\n",
       "    }\n",
       "\n",
       "    .dataframe tbody tr th {\n",
       "        vertical-align: top;\n",
       "    }\n",
       "\n",
       "    .dataframe thead th {\n",
       "        text-align: right;\n",
       "    }\n",
       "</style>\n",
       "<table border=\"1\" class=\"dataframe\">\n",
       "  <thead>\n",
       "    <tr style=\"text-align: right;\">\n",
       "      <th></th>\n",
       "      <th>PassengerId</th>\n",
       "      <th>Survived</th>\n",
       "      <th>Age</th>\n",
       "      <th>SibSp</th>\n",
       "      <th>Parch</th>\n",
       "      <th>Fare</th>\n",
       "      <th>Pclass_2</th>\n",
       "      <th>Pclass_3</th>\n",
       "      <th>Sex_male</th>\n",
       "      <th>Embarked_Q</th>\n",
       "      <th>Embarked_S</th>\n",
       "    </tr>\n",
       "  </thead>\n",
       "  <tbody>\n",
       "    <tr>\n",
       "      <th>0</th>\n",
       "      <td>1</td>\n",
       "      <td>0</td>\n",
       "      <td>22.0</td>\n",
       "      <td>1</td>\n",
       "      <td>0</td>\n",
       "      <td>7.2500</td>\n",
       "      <td>0</td>\n",
       "      <td>1</td>\n",
       "      <td>1</td>\n",
       "      <td>0</td>\n",
       "      <td>1</td>\n",
       "    </tr>\n",
       "    <tr>\n",
       "      <th>1</th>\n",
       "      <td>2</td>\n",
       "      <td>1</td>\n",
       "      <td>38.0</td>\n",
       "      <td>1</td>\n",
       "      <td>0</td>\n",
       "      <td>71.2833</td>\n",
       "      <td>0</td>\n",
       "      <td>0</td>\n",
       "      <td>0</td>\n",
       "      <td>0</td>\n",
       "      <td>0</td>\n",
       "    </tr>\n",
       "    <tr>\n",
       "      <th>2</th>\n",
       "      <td>3</td>\n",
       "      <td>1</td>\n",
       "      <td>26.0</td>\n",
       "      <td>0</td>\n",
       "      <td>0</td>\n",
       "      <td>7.9250</td>\n",
       "      <td>0</td>\n",
       "      <td>1</td>\n",
       "      <td>0</td>\n",
       "      <td>0</td>\n",
       "      <td>1</td>\n",
       "    </tr>\n",
       "    <tr>\n",
       "      <th>3</th>\n",
       "      <td>4</td>\n",
       "      <td>1</td>\n",
       "      <td>35.0</td>\n",
       "      <td>1</td>\n",
       "      <td>0</td>\n",
       "      <td>53.1000</td>\n",
       "      <td>0</td>\n",
       "      <td>0</td>\n",
       "      <td>0</td>\n",
       "      <td>0</td>\n",
       "      <td>1</td>\n",
       "    </tr>\n",
       "    <tr>\n",
       "      <th>4</th>\n",
       "      <td>5</td>\n",
       "      <td>0</td>\n",
       "      <td>35.0</td>\n",
       "      <td>0</td>\n",
       "      <td>0</td>\n",
       "      <td>8.0500</td>\n",
       "      <td>0</td>\n",
       "      <td>1</td>\n",
       "      <td>1</td>\n",
       "      <td>0</td>\n",
       "      <td>1</td>\n",
       "    </tr>\n",
       "  </tbody>\n",
       "</table>\n",
       "</div>"
      ],
      "text/plain": [
       "   PassengerId  Survived   Age  SibSp  Parch     Fare  Pclass_2  Pclass_3  \\\n",
       "0            1         0  22.0      1      0   7.2500         0         1   \n",
       "1            2         1  38.0      1      0  71.2833         0         0   \n",
       "2            3         1  26.0      0      0   7.9250         0         1   \n",
       "3            4         1  35.0      1      0  53.1000         0         0   \n",
       "4            5         0  35.0      0      0   8.0500         0         1   \n",
       "\n",
       "   Sex_male  Embarked_Q  Embarked_S  \n",
       "0         1           0           1  \n",
       "1         0           0           0  \n",
       "2         0           0           1  \n",
       "3         0           0           1  \n",
       "4         1           0           1  "
      ]
     },
     "execution_count": 46,
     "metadata": {},
     "output_type": "execute_result"
    }
   ],
   "source": [
    "training_set.head()"
   ]
  },
  {
   "cell_type": "code",
   "execution_count": 47,
   "id": "bigger-sewing",
   "metadata": {
    "execution": {
     "iopub.execute_input": "2021-05-16T18:35:34.507937Z",
     "iopub.status.busy": "2021-05-16T18:35:34.506979Z",
     "iopub.status.idle": "2021-05-16T18:35:34.520502Z",
     "shell.execute_reply": "2021-05-16T18:35:34.520953Z"
    },
    "papermill": {
     "duration": 0.08903,
     "end_time": "2021-05-16T18:35:34.521147",
     "exception": false,
     "start_time": "2021-05-16T18:35:34.432117",
     "status": "completed"
    },
    "tags": []
   },
   "outputs": [
    {
     "data": {
      "text/html": [
       "<div>\n",
       "<style scoped>\n",
       "    .dataframe tbody tr th:only-of-type {\n",
       "        vertical-align: middle;\n",
       "    }\n",
       "\n",
       "    .dataframe tbody tr th {\n",
       "        vertical-align: top;\n",
       "    }\n",
       "\n",
       "    .dataframe thead th {\n",
       "        text-align: right;\n",
       "    }\n",
       "</style>\n",
       "<table border=\"1\" class=\"dataframe\">\n",
       "  <thead>\n",
       "    <tr style=\"text-align: right;\">\n",
       "      <th></th>\n",
       "      <th>PassengerId</th>\n",
       "      <th>Age</th>\n",
       "      <th>SibSp</th>\n",
       "      <th>Parch</th>\n",
       "      <th>Fare</th>\n",
       "      <th>Pclass_2</th>\n",
       "      <th>Pclass_3</th>\n",
       "      <th>Sex_male</th>\n",
       "      <th>Embarked_Q</th>\n",
       "      <th>Embarked_S</th>\n",
       "    </tr>\n",
       "  </thead>\n",
       "  <tbody>\n",
       "    <tr>\n",
       "      <th>0</th>\n",
       "      <td>892</td>\n",
       "      <td>34.5</td>\n",
       "      <td>0</td>\n",
       "      <td>0</td>\n",
       "      <td>7.8292</td>\n",
       "      <td>0</td>\n",
       "      <td>1</td>\n",
       "      <td>1</td>\n",
       "      <td>1</td>\n",
       "      <td>0</td>\n",
       "    </tr>\n",
       "    <tr>\n",
       "      <th>1</th>\n",
       "      <td>893</td>\n",
       "      <td>47.0</td>\n",
       "      <td>1</td>\n",
       "      <td>0</td>\n",
       "      <td>7.0000</td>\n",
       "      <td>0</td>\n",
       "      <td>1</td>\n",
       "      <td>0</td>\n",
       "      <td>0</td>\n",
       "      <td>1</td>\n",
       "    </tr>\n",
       "    <tr>\n",
       "      <th>2</th>\n",
       "      <td>894</td>\n",
       "      <td>62.0</td>\n",
       "      <td>0</td>\n",
       "      <td>0</td>\n",
       "      <td>9.6875</td>\n",
       "      <td>1</td>\n",
       "      <td>0</td>\n",
       "      <td>1</td>\n",
       "      <td>1</td>\n",
       "      <td>0</td>\n",
       "    </tr>\n",
       "    <tr>\n",
       "      <th>3</th>\n",
       "      <td>895</td>\n",
       "      <td>27.0</td>\n",
       "      <td>0</td>\n",
       "      <td>0</td>\n",
       "      <td>8.6625</td>\n",
       "      <td>0</td>\n",
       "      <td>1</td>\n",
       "      <td>1</td>\n",
       "      <td>0</td>\n",
       "      <td>1</td>\n",
       "    </tr>\n",
       "    <tr>\n",
       "      <th>4</th>\n",
       "      <td>896</td>\n",
       "      <td>22.0</td>\n",
       "      <td>1</td>\n",
       "      <td>1</td>\n",
       "      <td>12.2875</td>\n",
       "      <td>0</td>\n",
       "      <td>1</td>\n",
       "      <td>0</td>\n",
       "      <td>0</td>\n",
       "      <td>1</td>\n",
       "    </tr>\n",
       "  </tbody>\n",
       "</table>\n",
       "</div>"
      ],
      "text/plain": [
       "   PassengerId   Age  SibSp  Parch     Fare  Pclass_2  Pclass_3  Sex_male  \\\n",
       "0          892  34.5      0      0   7.8292         0         1         1   \n",
       "1          893  47.0      1      0   7.0000         0         1         0   \n",
       "2          894  62.0      0      0   9.6875         1         0         1   \n",
       "3          895  27.0      0      0   8.6625         0         1         1   \n",
       "4          896  22.0      1      1  12.2875         0         1         0   \n",
       "\n",
       "   Embarked_Q  Embarked_S  \n",
       "0           1           0  \n",
       "1           0           1  \n",
       "2           1           0  \n",
       "3           0           1  \n",
       "4           0           1  "
      ]
     },
     "execution_count": 47,
     "metadata": {},
     "output_type": "execute_result"
    }
   ],
   "source": [
    "test_set.head()"
   ]
  },
  {
   "cell_type": "markdown",
   "id": "athletic-guide",
   "metadata": {
    "papermill": {
     "duration": 0.072377,
     "end_time": "2021-05-16T18:35:34.666096",
     "exception": false,
     "start_time": "2021-05-16T18:35:34.593719",
     "status": "completed"
    },
    "tags": []
   },
   "source": [
    "# Standard scaling\n",
    "****"
   ]
  },
  {
   "cell_type": "code",
   "execution_count": 48,
   "id": "particular-relation",
   "metadata": {
    "execution": {
     "iopub.execute_input": "2021-05-16T18:35:34.816020Z",
     "iopub.status.busy": "2021-05-16T18:35:34.814992Z",
     "iopub.status.idle": "2021-05-16T18:35:34.834826Z",
     "shell.execute_reply": "2021-05-16T18:35:34.835324Z"
    },
    "papermill": {
     "duration": 0.0969,
     "end_time": "2021-05-16T18:35:34.835514",
     "exception": false,
     "start_time": "2021-05-16T18:35:34.738614",
     "status": "completed"
    },
    "tags": []
   },
   "outputs": [],
   "source": [
    "from sklearn.preprocessing import StandardScaler\n",
    "scaler = StandardScaler()\n",
    "features_to_scale = ['Age','SibSp','Parch','Fare']\n",
    "\n",
    "x_train[features_to_scale] = scaler.fit_transform(x_train[features_to_scale])\n",
    "x_test[features_to_scale] = scaler.fit_transform(x_test[features_to_scale])"
   ]
  },
  {
   "cell_type": "markdown",
   "id": "moved-killer",
   "metadata": {
    "papermill": {
     "duration": 0.072564,
     "end_time": "2021-05-16T18:35:34.980989",
     "exception": false,
     "start_time": "2021-05-16T18:35:34.908425",
     "status": "completed"
    },
    "tags": []
   },
   "source": [
    "****"
   ]
  },
  {
   "cell_type": "markdown",
   "id": "preceding-boring",
   "metadata": {
    "papermill": {
     "duration": 0.073155,
     "end_time": "2021-05-16T18:35:35.127588",
     "exception": false,
     "start_time": "2021-05-16T18:35:35.054433",
     "status": "completed"
    },
    "tags": []
   },
   "source": [
    "# Fitting the model\n",
    "****"
   ]
  },
  {
   "cell_type": "markdown",
   "id": "junior-tackle",
   "metadata": {
    "papermill": {
     "duration": 0.072119,
     "end_time": "2021-05-16T18:35:35.272626",
     "exception": false,
     "start_time": "2021-05-16T18:35:35.200507",
     "status": "completed"
    },
    "tags": []
   },
   "source": [
    "**Support Vector Machine**\n",
    "\n",
    "**Random Forest**\n",
    "\n",
    "**Extreme Gradient Boosting**"
   ]
  },
  {
   "cell_type": "code",
   "execution_count": 49,
   "id": "continuing-chocolate",
   "metadata": {
    "execution": {
     "iopub.execute_input": "2021-05-16T18:35:35.423172Z",
     "iopub.status.busy": "2021-05-16T18:35:35.422199Z",
     "iopub.status.idle": "2021-05-16T18:35:35.435325Z",
     "shell.execute_reply": "2021-05-16T18:35:35.434802Z"
    },
    "papermill": {
     "duration": 0.08856,
     "end_time": "2021-05-16T18:35:35.435472",
     "exception": false,
     "start_time": "2021-05-16T18:35:35.346912",
     "status": "completed"
    },
    "tags": []
   },
   "outputs": [
    {
     "name": "stdout",
     "output_type": "stream",
     "text": [
      "     PassengerId       Age     SibSp     Parch      Fare  Pclass_2  Pclass_3  \\\n",
      "0              1 -0.554792  0.621076 -0.440288 -0.720891         0         1   \n",
      "1              2  0.675557  0.621076 -0.440288  2.411879         0         0   \n",
      "2              3 -0.247205 -0.509391 -0.440288 -0.687867         0         1   \n",
      "3              4  0.444867  0.621076 -0.440288  1.522278         0         0   \n",
      "4              5  0.444867 -0.509391 -0.440288 -0.681752         0         1   \n",
      "..           ...       ...       ...       ...       ...       ...       ...   \n",
      "886          887 -0.170308 -0.509391 -0.440288 -0.439577         1         0   \n",
      "887          888 -0.785482 -0.509391 -0.440288  0.392132         0         0   \n",
      "888          889 -0.093411  0.621076  2.236919  0.071679         0         1   \n",
      "889          890 -0.247205 -0.509391 -0.440288  0.392132         0         0   \n",
      "890          891  0.214176 -0.509391 -0.440288 -0.696429         0         1   \n",
      "\n",
      "     Sex_male  Embarked_Q  Embarked_S  \n",
      "0           1           0           1  \n",
      "1           0           0           0  \n",
      "2           0           0           1  \n",
      "3           0           0           1  \n",
      "4           1           0           1  \n",
      "..        ...         ...         ...  \n",
      "886         1           0           1  \n",
      "887         0           0           1  \n",
      "888         0           0           1  \n",
      "889         1           0           0  \n",
      "890         1           1           0  \n",
      "\n",
      "[830 rows x 10 columns]\n"
     ]
    }
   ],
   "source": [
    "from sklearn.svm import SVC\n",
    "classifier_svm = SVC(kernel = 'linear', random_state = 0)\n",
    "\n",
    "print(x_train)\n",
    "#classifier_svm.fit(x_train, y_train)"
   ]
  },
  {
   "cell_type": "code",
   "execution_count": 50,
   "id": "adjustable-antibody",
   "metadata": {
    "execution": {
     "iopub.execute_input": "2021-05-16T18:35:35.586885Z",
     "iopub.status.busy": "2021-05-16T18:35:35.586121Z",
     "iopub.status.idle": "2021-05-16T18:35:35.616701Z",
     "shell.execute_reply": "2021-05-16T18:35:35.615977Z"
    },
    "papermill": {
     "duration": 0.108208,
     "end_time": "2021-05-16T18:35:35.616858",
     "exception": false,
     "start_time": "2021-05-16T18:35:35.508650",
     "status": "completed"
    },
    "tags": []
   },
   "outputs": [],
   "source": [
    "from sklearn.ensemble import RandomForestClassifier\n",
    "classifier_rf = RandomForestClassifier(random_state = 0)\n",
    "#classifier_rf.fit(x_train, y_train)"
   ]
  },
  {
   "cell_type": "code",
   "execution_count": 51,
   "id": "continuing-philadelphia",
   "metadata": {
    "execution": {
     "iopub.execute_input": "2021-05-16T18:35:35.770810Z",
     "iopub.status.busy": "2021-05-16T18:35:35.769685Z",
     "iopub.status.idle": "2021-05-16T18:35:35.897891Z",
     "shell.execute_reply": "2021-05-16T18:35:35.898391Z"
    },
    "papermill": {
     "duration": 0.207692,
     "end_time": "2021-05-16T18:35:35.898583",
     "exception": false,
     "start_time": "2021-05-16T18:35:35.690891",
     "status": "completed"
    },
    "tags": []
   },
   "outputs": [
    {
     "name": "stdout",
     "output_type": "stream",
     "text": [
      "[18:35:35] WARNING: ../src/learner.cc:1095: Starting in XGBoost 1.3.0, the default evaluation metric used with the objective 'binary:logistic' was changed from 'error' to 'logloss'. Explicitly set eval_metric if you'd like to restore the old behavior.\n"
     ]
    },
    {
     "data": {
      "text/plain": [
       "XGBClassifier(base_score=0.5, booster='gbtree', colsample_bylevel=1,\n",
       "              colsample_bynode=1, colsample_bytree=1, gamma=0, gpu_id=-1,\n",
       "              importance_type='gain', interaction_constraints='',\n",
       "              learning_rate=0.300000012, max_delta_step=0, max_depth=6,\n",
       "              min_child_weight=1, missing=nan, monotone_constraints='()',\n",
       "              n_estimators=100, n_jobs=4, num_parallel_tree=1, random_state=0,\n",
       "              reg_alpha=0, reg_lambda=1, scale_pos_weight=1, subsample=1,\n",
       "              tree_method='exact', validate_parameters=1, verbosity=None)"
      ]
     },
     "execution_count": 51,
     "metadata": {},
     "output_type": "execute_result"
    }
   ],
   "source": [
    "from xgboost import XGBClassifier\n",
    "classifier_xgb = XGBClassifier()\n",
    "classifier_xgb.fit(x_train, y_train)"
   ]
  },
  {
   "cell_type": "code",
   "execution_count": 52,
   "id": "serial-school",
   "metadata": {
    "execution": {
     "iopub.execute_input": "2021-05-16T18:35:36.056670Z",
     "iopub.status.busy": "2021-05-16T18:35:36.055627Z",
     "iopub.status.idle": "2021-05-16T18:35:36.058284Z",
     "shell.execute_reply": "2021-05-16T18:35:36.058787Z"
    },
    "papermill": {
     "duration": 0.084983,
     "end_time": "2021-05-16T18:35:36.058965",
     "exception": false,
     "start_time": "2021-05-16T18:35:35.973982",
     "status": "completed"
    },
    "tags": []
   },
   "outputs": [],
   "source": [
    "from sklearn.linear_model import LogisticRegression\n",
    "classifier_lr = LogisticRegression()\n",
    "#classifier_lr.fit(x_train, y_train)"
   ]
  },
  {
   "cell_type": "markdown",
   "id": "greater-garbage",
   "metadata": {
    "papermill": {
     "duration": 0.077881,
     "end_time": "2021-05-16T18:35:36.215099",
     "exception": false,
     "start_time": "2021-05-16T18:35:36.137218",
     "status": "completed"
    },
    "tags": []
   },
   "source": [
    "# Predicting the test set results"
   ]
  },
  {
   "cell_type": "code",
   "execution_count": 53,
   "id": "sudden-shopping",
   "metadata": {
    "execution": {
     "iopub.execute_input": "2021-05-16T18:35:36.370269Z",
     "iopub.status.busy": "2021-05-16T18:35:36.369231Z",
     "iopub.status.idle": "2021-05-16T18:35:36.376269Z",
     "shell.execute_reply": "2021-05-16T18:35:36.376789Z"
    },
    "papermill": {
     "duration": 0.087556,
     "end_time": "2021-05-16T18:35:36.376993",
     "exception": false,
     "start_time": "2021-05-16T18:35:36.289437",
     "status": "completed"
    },
    "tags": []
   },
   "outputs": [],
   "source": [
    "#y_pred_svm = classifier_svm.predict(x_test)\n",
    "#y_pred_rf = classifier_rf.predict(x_test)\n",
    "y_pred_xgb = classifier_xgb.predict(x_test)\n",
    "#y_pred_lr = classifier_lr.predict(x_test)"
   ]
  },
  {
   "cell_type": "markdown",
   "id": "promotional-subscriber",
   "metadata": {
    "papermill": {
     "duration": 0.073865,
     "end_time": "2021-05-16T18:35:36.528634",
     "exception": false,
     "start_time": "2021-05-16T18:35:36.454769",
     "status": "completed"
    },
    "tags": []
   },
   "source": [
    "# Confusion matrix and accuracy"
   ]
  },
  {
   "cell_type": "code",
   "execution_count": 54,
   "id": "wound-holiday",
   "metadata": {
    "execution": {
     "iopub.execute_input": "2021-05-16T18:35:36.682866Z",
     "iopub.status.busy": "2021-05-16T18:35:36.681892Z",
     "iopub.status.idle": "2021-05-16T18:35:36.684886Z",
     "shell.execute_reply": "2021-05-16T18:35:36.684272Z"
    },
    "papermill": {
     "duration": 0.082058,
     "end_time": "2021-05-16T18:35:36.685023",
     "exception": false,
     "start_time": "2021-05-16T18:35:36.602965",
     "status": "completed"
    },
    "tags": []
   },
   "outputs": [],
   "source": [
    "#from sklearn.metrics import confusion_matrix, accuracy_score\n",
    "#cm = confusion_matrix(y_test, y_pred)\n",
    "#print(cm)\n",
    "#accuracy = accuracy_score(y_test, y_pred)\n",
    "#print(accuracy)"
   ]
  },
  {
   "cell_type": "markdown",
   "id": "radio-gibson",
   "metadata": {
    "papermill": {
     "duration": 0.074149,
     "end_time": "2021-05-16T18:35:36.834180",
     "exception": false,
     "start_time": "2021-05-16T18:35:36.760031",
     "status": "completed"
    },
    "tags": []
   },
   "source": [
    "# Output"
   ]
  },
  {
   "cell_type": "code",
   "execution_count": 55,
   "id": "worth-newspaper",
   "metadata": {
    "execution": {
     "iopub.execute_input": "2021-05-16T18:35:36.990891Z",
     "iopub.status.busy": "2021-05-16T18:35:36.990189Z",
     "iopub.status.idle": "2021-05-16T18:35:37.006533Z",
     "shell.execute_reply": "2021-05-16T18:35:37.005860Z"
    },
    "papermill": {
     "duration": 0.096723,
     "end_time": "2021-05-16T18:35:37.006695",
     "exception": false,
     "start_time": "2021-05-16T18:35:36.909972",
     "status": "completed"
    },
    "tags": []
   },
   "outputs": [
    {
     "name": "stdout",
     "output_type": "stream",
     "text": [
      "Your submission was successfully saved!\n"
     ]
    }
   ],
   "source": [
    "test_set = pd.read_csv('/kaggle/input/titanic/test.csv')\n",
    "\n",
    "#output = pd.DataFrame({'PassengerId': test_set.PassengerId, 'Survived': y_pred_svm.astype(int).ravel()})\n",
    "\n",
    "#output = pd.DataFrame({'PassengerId': test_set.PassengerId, 'Survived': y_pred_rf.astype(int).ravel()})\n",
    "\n",
    "output = pd.DataFrame({'PassengerId': test_set.PassengerId, 'Survived': y_pred_xgb.astype(int).ravel()})\n",
    "\n",
    "#output = pd.DataFrame({'PassengerId': test_set.PassengerId, 'Survived': y_pred_lr.astype(int).ravel()})\n",
    "output.to_csv('my_submission_xgb.csv', index=False)\n",
    "print(\"Your submission was successfully saved!\")"
   ]
  },
  {
   "cell_type": "markdown",
   "id": "administrative-finding",
   "metadata": {
    "papermill": {
     "duration": 0.076242,
     "end_time": "2021-05-16T18:35:37.158866",
     "exception": false,
     "start_time": "2021-05-16T18:35:37.082624",
     "status": "completed"
    },
    "tags": []
   },
   "source": [
    "Citations\n",
    "\n",
    "* https://arjan-hada.github.io/titanic-survival-exploration.html\n",
    "* https://www.kaggle.com/javiervallejos/titanic-top-3"
   ]
  }
 ],
 "metadata": {
  "kernelspec": {
   "display_name": "Python 3",
   "language": "python",
   "name": "python3"
  },
  "language_info": {
   "codemirror_mode": {
    "name": "ipython",
    "version": 3
   },
   "file_extension": ".py",
   "mimetype": "text/x-python",
   "name": "python",
   "nbconvert_exporter": "python",
   "pygments_lexer": "ipython3",
   "version": "3.7.10"
  },
  "papermill": {
   "default_parameters": {},
   "duration": 25.935784,
   "end_time": "2021-05-16T18:35:38.045422",
   "environment_variables": {},
   "exception": null,
   "input_path": "__notebook__.ipynb",
   "output_path": "__notebook__.ipynb",
   "parameters": {},
   "start_time": "2021-05-16T18:35:12.109638",
   "version": "2.3.3"
  }
 },
 "nbformat": 4,
 "nbformat_minor": 5
}
