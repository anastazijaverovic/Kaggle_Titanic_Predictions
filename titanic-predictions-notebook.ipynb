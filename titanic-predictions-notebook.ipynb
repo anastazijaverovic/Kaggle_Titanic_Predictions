{
 "cells": [
  {
   "cell_type": "markdown",
   "id": "convinced-mailman",
   "metadata": {
    "papermill": {
     "duration": 0.033911,
     "end_time": "2021-05-11T17:11:21.758131",
     "exception": false,
     "start_time": "2021-05-11T17:11:21.724220",
     "status": "completed"
    },
    "tags": []
   },
   "source": [
    "# **Titanic Kaggle Competition Predictions**"
   ]
  },
  {
   "cell_type": "markdown",
   "id": "conventional-legend",
   "metadata": {
    "papermill": {
     "duration": 0.031704,
     "end_time": "2021-05-11T17:11:21.823115",
     "exception": false,
     "start_time": "2021-05-11T17:11:21.791411",
     "status": "completed"
    },
    "tags": []
   },
   "source": [
    "# Importing the libraries"
   ]
  },
  {
   "cell_type": "code",
   "execution_count": 1,
   "id": "norman-dubai",
   "metadata": {
    "_cell_guid": "b1076dfc-b9ad-4769-8c92-a6c4dae69d19",
    "_uuid": "8f2839f25d086af736a60e9eeb907d3b93b6e0e5",
    "execution": {
     "iopub.execute_input": "2021-05-11T17:11:21.891656Z",
     "iopub.status.busy": "2021-05-11T17:11:21.890525Z",
     "iopub.status.idle": "2021-05-11T17:11:22.959504Z",
     "shell.execute_reply": "2021-05-11T17:11:22.960153Z"
    },
    "papermill": {
     "duration": 1.10496,
     "end_time": "2021-05-11T17:11:22.960440",
     "exception": false,
     "start_time": "2021-05-11T17:11:21.855480",
     "status": "completed"
    },
    "tags": []
   },
   "outputs": [
    {
     "name": "stdout",
     "output_type": "stream",
     "text": [
      "/kaggle/input/titanic/train.csv\n",
      "/kaggle/input/titanic/test.csv\n",
      "/kaggle/input/titanic/gender_submission.csv\n"
     ]
    }
   ],
   "source": [
    "# This Python 3 environment comes with many helpful analytics libraries installed\n",
    "# It is defined by the kaggle/python Docker image: https://github.com/kaggle/docker-python\n",
    "# For example, here's several helpful packages to load\n",
    "\n",
    "import numpy as np # linear algebra\n",
    "import pandas as pd # data processing, CSV file I/O (e.g. pd.read_csv)\n",
    "import math\n",
    "import xgboost\n",
    "import matplotlib.pyplot as plt\n",
    "import warnings\n",
    "import seaborn as sn\n",
    "warnings.filterwarnings('ignore')\n",
    "\n",
    "# Input data files are available in the read-only \"../input/\" directory\n",
    "# For example, running this (by clicking run or pressing Shift+Enter) will list all files under the input directory\n",
    "\n",
    "import os\n",
    "for dirname, _, filenames in os.walk('/kaggle/input'):\n",
    "    for filename in filenames:\n",
    "        print(os.path.join(dirname, filename))\n",
    "\n",
    "# You can write up to 20GB to the current directory (/kaggle/working/) that gets preserved as output when you create a version using \"Save & Run All\" \n",
    "# You can also write temporary files to /kaggle/temp/, but they won't be saved outside of the current session"
   ]
  },
  {
   "cell_type": "markdown",
   "id": "removed-extraction",
   "metadata": {
    "papermill": {
     "duration": 0.03184,
     "end_time": "2021-05-11T17:11:23.025412",
     "exception": false,
     "start_time": "2021-05-11T17:11:22.993572",
     "status": "completed"
    },
    "tags": []
   },
   "source": [
    "# Importing the data"
   ]
  },
  {
   "cell_type": "code",
   "execution_count": 2,
   "id": "attended-seeker",
   "metadata": {
    "execution": {
     "iopub.execute_input": "2021-05-11T17:11:23.094434Z",
     "iopub.status.busy": "2021-05-11T17:11:23.093746Z",
     "iopub.status.idle": "2021-05-11T17:11:23.121706Z",
     "shell.execute_reply": "2021-05-11T17:11:23.121185Z"
    },
    "papermill": {
     "duration": 0.063861,
     "end_time": "2021-05-11T17:11:23.121859",
     "exception": false,
     "start_time": "2021-05-11T17:11:23.057998",
     "status": "completed"
    },
    "tags": []
   },
   "outputs": [],
   "source": [
    "training_set = pd.read_csv('/kaggle/input/titanic/train.csv')\n",
    "test_set = pd.read_csv('/kaggle/input/titanic/test.csv')"
   ]
  },
  {
   "cell_type": "markdown",
   "id": "center-class",
   "metadata": {
    "papermill": {
     "duration": 0.03369,
     "end_time": "2021-05-11T17:11:23.189141",
     "exception": false,
     "start_time": "2021-05-11T17:11:23.155451",
     "status": "completed"
    },
    "tags": []
   },
   "source": [
    "# Data exploration"
   ]
  },
  {
   "cell_type": "code",
   "execution_count": 3,
   "id": "north-steam",
   "metadata": {
    "execution": {
     "iopub.execute_input": "2021-05-11T17:11:23.289918Z",
     "iopub.status.busy": "2021-05-11T17:11:23.289005Z",
     "iopub.status.idle": "2021-05-11T17:11:23.314679Z",
     "shell.execute_reply": "2021-05-11T17:11:23.314022Z"
    },
    "papermill": {
     "duration": 0.084978,
     "end_time": "2021-05-11T17:11:23.314814",
     "exception": false,
     "start_time": "2021-05-11T17:11:23.229836",
     "status": "completed"
    },
    "tags": []
   },
   "outputs": [
    {
     "data": {
      "text/html": [
       "<div>\n",
       "<style scoped>\n",
       "    .dataframe tbody tr th:only-of-type {\n",
       "        vertical-align: middle;\n",
       "    }\n",
       "\n",
       "    .dataframe tbody tr th {\n",
       "        vertical-align: top;\n",
       "    }\n",
       "\n",
       "    .dataframe thead th {\n",
       "        text-align: right;\n",
       "    }\n",
       "</style>\n",
       "<table border=\"1\" class=\"dataframe\">\n",
       "  <thead>\n",
       "    <tr style=\"text-align: right;\">\n",
       "      <th></th>\n",
       "      <th>PassengerId</th>\n",
       "      <th>Survived</th>\n",
       "      <th>Pclass</th>\n",
       "      <th>Name</th>\n",
       "      <th>Sex</th>\n",
       "      <th>Age</th>\n",
       "      <th>SibSp</th>\n",
       "      <th>Parch</th>\n",
       "      <th>Ticket</th>\n",
       "      <th>Fare</th>\n",
       "      <th>Cabin</th>\n",
       "      <th>Embarked</th>\n",
       "    </tr>\n",
       "  </thead>\n",
       "  <tbody>\n",
       "    <tr>\n",
       "      <th>0</th>\n",
       "      <td>1</td>\n",
       "      <td>0</td>\n",
       "      <td>3</td>\n",
       "      <td>Braund, Mr. Owen Harris</td>\n",
       "      <td>male</td>\n",
       "      <td>22.0</td>\n",
       "      <td>1</td>\n",
       "      <td>0</td>\n",
       "      <td>A/5 21171</td>\n",
       "      <td>7.2500</td>\n",
       "      <td>NaN</td>\n",
       "      <td>S</td>\n",
       "    </tr>\n",
       "    <tr>\n",
       "      <th>1</th>\n",
       "      <td>2</td>\n",
       "      <td>1</td>\n",
       "      <td>1</td>\n",
       "      <td>Cumings, Mrs. John Bradley (Florence Briggs Th...</td>\n",
       "      <td>female</td>\n",
       "      <td>38.0</td>\n",
       "      <td>1</td>\n",
       "      <td>0</td>\n",
       "      <td>PC 17599</td>\n",
       "      <td>71.2833</td>\n",
       "      <td>C85</td>\n",
       "      <td>C</td>\n",
       "    </tr>\n",
       "    <tr>\n",
       "      <th>2</th>\n",
       "      <td>3</td>\n",
       "      <td>1</td>\n",
       "      <td>3</td>\n",
       "      <td>Heikkinen, Miss. Laina</td>\n",
       "      <td>female</td>\n",
       "      <td>26.0</td>\n",
       "      <td>0</td>\n",
       "      <td>0</td>\n",
       "      <td>STON/O2. 3101282</td>\n",
       "      <td>7.9250</td>\n",
       "      <td>NaN</td>\n",
       "      <td>S</td>\n",
       "    </tr>\n",
       "    <tr>\n",
       "      <th>3</th>\n",
       "      <td>4</td>\n",
       "      <td>1</td>\n",
       "      <td>1</td>\n",
       "      <td>Futrelle, Mrs. Jacques Heath (Lily May Peel)</td>\n",
       "      <td>female</td>\n",
       "      <td>35.0</td>\n",
       "      <td>1</td>\n",
       "      <td>0</td>\n",
       "      <td>113803</td>\n",
       "      <td>53.1000</td>\n",
       "      <td>C123</td>\n",
       "      <td>S</td>\n",
       "    </tr>\n",
       "    <tr>\n",
       "      <th>4</th>\n",
       "      <td>5</td>\n",
       "      <td>0</td>\n",
       "      <td>3</td>\n",
       "      <td>Allen, Mr. William Henry</td>\n",
       "      <td>male</td>\n",
       "      <td>35.0</td>\n",
       "      <td>0</td>\n",
       "      <td>0</td>\n",
       "      <td>373450</td>\n",
       "      <td>8.0500</td>\n",
       "      <td>NaN</td>\n",
       "      <td>S</td>\n",
       "    </tr>\n",
       "  </tbody>\n",
       "</table>\n",
       "</div>"
      ],
      "text/plain": [
       "   PassengerId  Survived  Pclass  \\\n",
       "0            1         0       3   \n",
       "1            2         1       1   \n",
       "2            3         1       3   \n",
       "3            4         1       1   \n",
       "4            5         0       3   \n",
       "\n",
       "                                                Name     Sex   Age  SibSp  \\\n",
       "0                            Braund, Mr. Owen Harris    male  22.0      1   \n",
       "1  Cumings, Mrs. John Bradley (Florence Briggs Th...  female  38.0      1   \n",
       "2                             Heikkinen, Miss. Laina  female  26.0      0   \n",
       "3       Futrelle, Mrs. Jacques Heath (Lily May Peel)  female  35.0      1   \n",
       "4                           Allen, Mr. William Henry    male  35.0      0   \n",
       "\n",
       "   Parch            Ticket     Fare Cabin Embarked  \n",
       "0      0         A/5 21171   7.2500   NaN        S  \n",
       "1      0          PC 17599  71.2833   C85        C  \n",
       "2      0  STON/O2. 3101282   7.9250   NaN        S  \n",
       "3      0            113803  53.1000  C123        S  \n",
       "4      0            373450   8.0500   NaN        S  "
      ]
     },
     "execution_count": 3,
     "metadata": {},
     "output_type": "execute_result"
    }
   ],
   "source": [
    "training_set.head()"
   ]
  },
  {
   "cell_type": "code",
   "execution_count": 4,
   "id": "coordinate-enzyme",
   "metadata": {
    "execution": {
     "iopub.execute_input": "2021-05-11T17:11:23.399595Z",
     "iopub.status.busy": "2021-05-11T17:11:23.398888Z",
     "iopub.status.idle": "2021-05-11T17:11:23.402542Z",
     "shell.execute_reply": "2021-05-11T17:11:23.402987Z"
    },
    "papermill": {
     "duration": 0.054085,
     "end_time": "2021-05-11T17:11:23.403157",
     "exception": false,
     "start_time": "2021-05-11T17:11:23.349072",
     "status": "completed"
    },
    "tags": []
   },
   "outputs": [
    {
     "data": {
      "text/html": [
       "<div>\n",
       "<style scoped>\n",
       "    .dataframe tbody tr th:only-of-type {\n",
       "        vertical-align: middle;\n",
       "    }\n",
       "\n",
       "    .dataframe tbody tr th {\n",
       "        vertical-align: top;\n",
       "    }\n",
       "\n",
       "    .dataframe thead th {\n",
       "        text-align: right;\n",
       "    }\n",
       "</style>\n",
       "<table border=\"1\" class=\"dataframe\">\n",
       "  <thead>\n",
       "    <tr style=\"text-align: right;\">\n",
       "      <th></th>\n",
       "      <th>PassengerId</th>\n",
       "      <th>Pclass</th>\n",
       "      <th>Name</th>\n",
       "      <th>Sex</th>\n",
       "      <th>Age</th>\n",
       "      <th>SibSp</th>\n",
       "      <th>Parch</th>\n",
       "      <th>Ticket</th>\n",
       "      <th>Fare</th>\n",
       "      <th>Cabin</th>\n",
       "      <th>Embarked</th>\n",
       "    </tr>\n",
       "  </thead>\n",
       "  <tbody>\n",
       "    <tr>\n",
       "      <th>0</th>\n",
       "      <td>892</td>\n",
       "      <td>3</td>\n",
       "      <td>Kelly, Mr. James</td>\n",
       "      <td>male</td>\n",
       "      <td>34.5</td>\n",
       "      <td>0</td>\n",
       "      <td>0</td>\n",
       "      <td>330911</td>\n",
       "      <td>7.8292</td>\n",
       "      <td>NaN</td>\n",
       "      <td>Q</td>\n",
       "    </tr>\n",
       "    <tr>\n",
       "      <th>1</th>\n",
       "      <td>893</td>\n",
       "      <td>3</td>\n",
       "      <td>Wilkes, Mrs. James (Ellen Needs)</td>\n",
       "      <td>female</td>\n",
       "      <td>47.0</td>\n",
       "      <td>1</td>\n",
       "      <td>0</td>\n",
       "      <td>363272</td>\n",
       "      <td>7.0000</td>\n",
       "      <td>NaN</td>\n",
       "      <td>S</td>\n",
       "    </tr>\n",
       "    <tr>\n",
       "      <th>2</th>\n",
       "      <td>894</td>\n",
       "      <td>2</td>\n",
       "      <td>Myles, Mr. Thomas Francis</td>\n",
       "      <td>male</td>\n",
       "      <td>62.0</td>\n",
       "      <td>0</td>\n",
       "      <td>0</td>\n",
       "      <td>240276</td>\n",
       "      <td>9.6875</td>\n",
       "      <td>NaN</td>\n",
       "      <td>Q</td>\n",
       "    </tr>\n",
       "    <tr>\n",
       "      <th>3</th>\n",
       "      <td>895</td>\n",
       "      <td>3</td>\n",
       "      <td>Wirz, Mr. Albert</td>\n",
       "      <td>male</td>\n",
       "      <td>27.0</td>\n",
       "      <td>0</td>\n",
       "      <td>0</td>\n",
       "      <td>315154</td>\n",
       "      <td>8.6625</td>\n",
       "      <td>NaN</td>\n",
       "      <td>S</td>\n",
       "    </tr>\n",
       "    <tr>\n",
       "      <th>4</th>\n",
       "      <td>896</td>\n",
       "      <td>3</td>\n",
       "      <td>Hirvonen, Mrs. Alexander (Helga E Lindqvist)</td>\n",
       "      <td>female</td>\n",
       "      <td>22.0</td>\n",
       "      <td>1</td>\n",
       "      <td>1</td>\n",
       "      <td>3101298</td>\n",
       "      <td>12.2875</td>\n",
       "      <td>NaN</td>\n",
       "      <td>S</td>\n",
       "    </tr>\n",
       "  </tbody>\n",
       "</table>\n",
       "</div>"
      ],
      "text/plain": [
       "   PassengerId  Pclass                                          Name     Sex  \\\n",
       "0          892       3                              Kelly, Mr. James    male   \n",
       "1          893       3              Wilkes, Mrs. James (Ellen Needs)  female   \n",
       "2          894       2                     Myles, Mr. Thomas Francis    male   \n",
       "3          895       3                              Wirz, Mr. Albert    male   \n",
       "4          896       3  Hirvonen, Mrs. Alexander (Helga E Lindqvist)  female   \n",
       "\n",
       "    Age  SibSp  Parch   Ticket     Fare Cabin Embarked  \n",
       "0  34.5      0      0   330911   7.8292   NaN        Q  \n",
       "1  47.0      1      0   363272   7.0000   NaN        S  \n",
       "2  62.0      0      0   240276   9.6875   NaN        Q  \n",
       "3  27.0      0      0   315154   8.6625   NaN        S  \n",
       "4  22.0      1      1  3101298  12.2875   NaN        S  "
      ]
     },
     "execution_count": 4,
     "metadata": {},
     "output_type": "execute_result"
    }
   ],
   "source": [
    "test_set.head()"
   ]
  },
  {
   "cell_type": "markdown",
   "id": "anonymous-injection",
   "metadata": {
    "papermill": {
     "duration": 0.0349,
     "end_time": "2021-05-11T17:11:23.471804",
     "exception": false,
     "start_time": "2021-05-11T17:11:23.436904",
     "status": "completed"
    },
    "tags": []
   },
   "source": [
    "# Removing columns"
   ]
  },
  {
   "cell_type": "code",
   "execution_count": 5,
   "id": "enormous-dance",
   "metadata": {
    "execution": {
     "iopub.execute_input": "2021-05-11T17:11:23.550948Z",
     "iopub.status.busy": "2021-05-11T17:11:23.550362Z",
     "iopub.status.idle": "2021-05-11T17:11:23.552998Z",
     "shell.execute_reply": "2021-05-11T17:11:23.552550Z"
    },
    "papermill": {
     "duration": 0.046069,
     "end_time": "2021-05-11T17:11:23.553143",
     "exception": false,
     "start_time": "2021-05-11T17:11:23.507074",
     "status": "completed"
    },
    "tags": []
   },
   "outputs": [],
   "source": [
    "training_set.drop(columns=['Name', 'Ticket', 'Cabin'], axis=1, inplace=True)\n",
    "test_set.drop(columns=['Name', 'Ticket', 'Cabin'], axis=1, inplace=True)"
   ]
  },
  {
   "cell_type": "markdown",
   "id": "optimum-sister",
   "metadata": {
    "papermill": {
     "duration": 0.034026,
     "end_time": "2021-05-11T17:11:23.621433",
     "exception": false,
     "start_time": "2021-05-11T17:11:23.587407",
     "status": "completed"
    },
    "tags": []
   },
   "source": [
    "# Unknown data"
   ]
  },
  {
   "cell_type": "code",
   "execution_count": 6,
   "id": "opening-oklahoma",
   "metadata": {
    "execution": {
     "iopub.execute_input": "2021-05-11T17:11:23.701208Z",
     "iopub.status.busy": "2021-05-11T17:11:23.700504Z",
     "iopub.status.idle": "2021-05-11T17:11:23.711700Z",
     "shell.execute_reply": "2021-05-11T17:11:23.711028Z"
    },
    "papermill": {
     "duration": 0.056138,
     "end_time": "2021-05-11T17:11:23.711889",
     "exception": false,
     "start_time": "2021-05-11T17:11:23.655751",
     "status": "completed"
    },
    "tags": []
   },
   "outputs": [
    {
     "name": "stdout",
     "output_type": "stream",
     "text": [
      "PassengerId      0\n",
      "Survived         0\n",
      "Pclass           0\n",
      "Sex              0\n",
      "Age            177\n",
      "SibSp            0\n",
      "Parch            0\n",
      "Fare             0\n",
      "Embarked         2\n",
      "dtype: int64\n",
      "PassengerId     0\n",
      "Pclass          0\n",
      "Sex             0\n",
      "Age            86\n",
      "SibSp           0\n",
      "Parch           0\n",
      "Fare            1\n",
      "Embarked        0\n",
      "dtype: int64\n"
     ]
    }
   ],
   "source": [
    "# filling unknown data with mean/median\n",
    "\n",
    "print(training_set.isnull().sum())\n",
    "print(test_set.isnull().sum())\n",
    "\n",
    "training_set['Age'].fillna(training_set['Age'].median(), inplace=True)\n",
    "training_set['Embarked'].fillna(training_set['Embarked'].mode(), inplace=True)\n",
    "test_set['Age'].fillna(test_set['Age'].median(), inplace=True)\n",
    "test_set['Fare'].fillna(test_set['Fare'].median(), inplace=True)"
   ]
  },
  {
   "cell_type": "markdown",
   "id": "banner-america",
   "metadata": {
    "papermill": {
     "duration": 0.034724,
     "end_time": "2021-05-11T17:11:23.782338",
     "exception": false,
     "start_time": "2021-05-11T17:11:23.747614",
     "status": "completed"
    },
    "tags": []
   },
   "source": [
    "# Removing outliers"
   ]
  },
  {
   "cell_type": "code",
   "execution_count": 7,
   "id": "prescribed-jimmy",
   "metadata": {
    "execution": {
     "iopub.execute_input": "2021-05-11T17:11:23.857394Z",
     "iopub.status.busy": "2021-05-11T17:11:23.856726Z",
     "iopub.status.idle": "2021-05-11T17:11:23.859215Z",
     "shell.execute_reply": "2021-05-11T17:11:23.858575Z"
    },
    "papermill": {
     "duration": 0.042131,
     "end_time": "2021-05-11T17:11:23.859353",
     "exception": false,
     "start_time": "2021-05-11T17:11:23.817222",
     "status": "completed"
    },
    "tags": []
   },
   "outputs": [],
   "source": [
    "def box_plot(column):\n",
    "    training_set.boxplot(by = \"Survived\",column = [column],grid = True)\n",
    "    \n",
    "# Small circles or unfilled dots are drawn on the chart to indicate where suspected outliers lie.\n",
    "# Filled circles are used for known outliers."
   ]
  },
  {
   "cell_type": "code",
   "execution_count": 8,
   "id": "dying-keeping",
   "metadata": {
    "execution": {
     "iopub.execute_input": "2021-05-11T17:11:23.932721Z",
     "iopub.status.busy": "2021-05-11T17:11:23.932105Z",
     "iopub.status.idle": "2021-05-11T17:11:24.131779Z",
     "shell.execute_reply": "2021-05-11T17:11:24.132272Z"
    },
    "papermill": {
     "duration": 0.238354,
     "end_time": "2021-05-11T17:11:24.132429",
     "exception": false,
     "start_time": "2021-05-11T17:11:23.894075",
     "status": "completed"
    },
    "tags": []
   },
   "outputs": [
    {
     "data": {
      "image/png": "[encoded data removed]",
      "text/plain": [
       "<Figure size 432x288 with 1 Axes>"
      ]
     },
     "metadata": {
      "needs_background": "light"
     },
     "output_type": "display_data"
    }
   ],
   "source": [
    "box_plot(\"Pclass\")"
   ]
  },
  {
   "cell_type": "code",
   "execution_count": 9,
   "id": "defensive-establishment",
   "metadata": {
    "execution": {
     "iopub.execute_input": "2021-05-11T17:11:24.208223Z",
     "iopub.status.busy": "2021-05-11T17:11:24.207264Z",
     "iopub.status.idle": "2021-05-11T17:11:24.350043Z",
     "shell.execute_reply": "2021-05-11T17:11:24.350512Z"
    },
    "papermill": {
     "duration": 0.182109,
     "end_time": "2021-05-11T17:11:24.350671",
     "exception": false,
     "start_time": "2021-05-11T17:11:24.168562",
     "status": "completed"
    },
    "tags": []
   },
   "outputs": [
    {
     "data": {
      "image/png": "[encoded data removed]",
      "text/plain": [
       "<Figure size 432x288 with 1 Axes>"
      ]
     },
     "metadata": {
      "needs_background": "light"
     },
     "output_type": "display_data"
    }
   ],
   "source": [
    "box_plot(\"SibSp\")"
   ]
  },
  {
   "cell_type": "code",
   "execution_count": 10,
   "id": "graduate-skill",
   "metadata": {
    "execution": {
     "iopub.execute_input": "2021-05-11T17:11:24.426607Z",
     "iopub.status.busy": "2021-05-11T17:11:24.425644Z",
     "iopub.status.idle": "2021-05-11T17:11:24.446295Z",
     "shell.execute_reply": "2021-05-11T17:11:24.446829Z"
    },
    "papermill": {
     "duration": 0.060045,
     "end_time": "2021-05-11T17:11:24.446985",
     "exception": false,
     "start_time": "2021-05-11T17:11:24.386940",
     "status": "completed"
    },
    "tags": []
   },
   "outputs": [],
   "source": [
    "training_set[\"SibSp\"].value_counts()\n",
    "indexes = training_set.index[training_set.SibSp == 8]\n",
    "training_set.drop(indexes, inplace=True)"
   ]
  },
  {
   "cell_type": "code",
   "execution_count": 11,
   "id": "consolidated-mixture",
   "metadata": {
    "execution": {
     "iopub.execute_input": "2021-05-11T17:11:24.545362Z",
     "iopub.status.busy": "2021-05-11T17:11:24.544735Z",
     "iopub.status.idle": "2021-05-11T17:11:24.658682Z",
     "shell.execute_reply": "2021-05-11T17:11:24.659122Z"
    },
    "papermill": {
     "duration": 0.176061,
     "end_time": "2021-05-11T17:11:24.659292",
     "exception": false,
     "start_time": "2021-05-11T17:11:24.483231",
     "status": "completed"
    },
    "tags": []
   },
   "outputs": [
    {
     "data": {
      "image/png": "[encoded data removed]",
      "text/plain": [
       "<Figure size 432x288 with 1 Axes>"
      ]
     },
     "metadata": {
      "needs_background": "light"
     },
     "output_type": "display_data"
    }
   ],
   "source": [
    "box_plot(\"Parch\")"
   ]
  },
  {
   "cell_type": "code",
   "execution_count": 12,
   "id": "respiratory-agent",
   "metadata": {
    "execution": {
     "iopub.execute_input": "2021-05-11T17:11:24.737288Z",
     "iopub.status.busy": "2021-05-11T17:11:24.736677Z",
     "iopub.status.idle": "2021-05-11T17:11:24.743164Z",
     "shell.execute_reply": "2021-05-11T17:11:24.743624Z"
    },
    "papermill": {
     "duration": 0.046991,
     "end_time": "2021-05-11T17:11:24.743764",
     "exception": false,
     "start_time": "2021-05-11T17:11:24.696773",
     "status": "completed"
    },
    "tags": []
   },
   "outputs": [
    {
     "data": {
      "text/plain": [
       "0    678\n",
       "1    118\n",
       "2     73\n",
       "3      5\n",
       "5      5\n",
       "4      4\n",
       "6      1\n",
       "Name: Parch, dtype: int64"
      ]
     },
     "execution_count": 12,
     "metadata": {},
     "output_type": "execute_result"
    }
   ],
   "source": [
    "training_set[\"Parch\"].value_counts()"
   ]
  },
  {
   "cell_type": "code",
   "execution_count": 13,
   "id": "written-marsh",
   "metadata": {
    "execution": {
     "iopub.execute_input": "2021-05-11T17:11:24.825932Z",
     "iopub.status.busy": "2021-05-11T17:11:24.825043Z",
     "iopub.status.idle": "2021-05-11T17:11:24.827895Z",
     "shell.execute_reply": "2021-05-11T17:11:24.827416Z"
    },
    "papermill": {
     "duration": 0.047001,
     "end_time": "2021-05-11T17:11:24.828045",
     "exception": false,
     "start_time": "2021-05-11T17:11:24.781044",
     "status": "completed"
    },
    "tags": []
   },
   "outputs": [],
   "source": [
    "indexes = training_set.index[training_set.Parch == 6]\n",
    "training_set.loc[indexes]\n",
    "training_set.drop(indexes, inplace=True)"
   ]
  },
  {
   "cell_type": "code",
   "execution_count": 14,
   "id": "special-strain",
   "metadata": {
    "execution": {
     "iopub.execute_input": "2021-05-11T17:11:25.033796Z",
     "iopub.status.busy": "2021-05-11T17:11:25.032851Z",
     "iopub.status.idle": "2021-05-11T17:11:25.144918Z",
     "shell.execute_reply": "2021-05-11T17:11:25.144403Z"
    },
    "papermill": {
     "duration": 0.278517,
     "end_time": "2021-05-11T17:11:25.145061",
     "exception": false,
     "start_time": "2021-05-11T17:11:24.866544",
     "status": "completed"
    },
    "tags": []
   },
   "outputs": [
    {
     "data": {
      "image/png": "[encoded data removed]",
      "text/plain": [
       "<Figure size 432x288 with 1 Axes>"
      ]
     },
     "metadata": {
      "needs_background": "light"
     },
     "output_type": "display_data"
    }
   ],
   "source": [
    "box_plot(\"Fare\")"
   ]
  },
  {
   "cell_type": "code",
   "execution_count": 15,
   "id": "creative-baking",
   "metadata": {
    "execution": {
     "iopub.execute_input": "2021-05-11T17:11:25.231725Z",
     "iopub.status.busy": "2021-05-11T17:11:25.231138Z",
     "iopub.status.idle": "2021-05-11T17:11:25.234849Z",
     "shell.execute_reply": "2021-05-11T17:11:25.235375Z"
    },
    "papermill": {
     "duration": 0.051166,
     "end_time": "2021-05-11T17:11:25.235536",
     "exception": false,
     "start_time": "2021-05-11T17:11:25.184370",
     "status": "completed"
    },
    "tags": []
   },
   "outputs": [
    {
     "data": {
      "text/plain": [
       "8.0500     43\n",
       "13.0000    42\n",
       "7.8958     38\n",
       "7.7500     34\n",
       "26.0000    31\n",
       "           ..\n",
       "50.4958     1\n",
       "13.8583     1\n",
       "8.4583      1\n",
       "7.7250      1\n",
       "7.5208      1\n",
       "Name: Fare, Length: 247, dtype: int64"
      ]
     },
     "execution_count": 15,
     "metadata": {},
     "output_type": "execute_result"
    }
   ],
   "source": [
    "training_set[\"Fare\"].value_counts()"
   ]
  },
  {
   "cell_type": "code",
   "execution_count": 16,
   "id": "pursuant-taste",
   "metadata": {
    "execution": {
     "iopub.execute_input": "2021-05-11T17:11:25.321496Z",
     "iopub.status.busy": "2021-05-11T17:11:25.320872Z",
     "iopub.status.idle": "2021-05-11T17:11:25.324006Z",
     "shell.execute_reply": "2021-05-11T17:11:25.323513Z"
    },
    "papermill": {
     "duration": 0.049256,
     "end_time": "2021-05-11T17:11:25.324152",
     "exception": false,
     "start_time": "2021-05-11T17:11:25.274896",
     "status": "completed"
    },
    "tags": []
   },
   "outputs": [],
   "source": [
    "indexes = training_set.index[training_set.Fare > 100]\n",
    "training_set.loc[indexes]\n",
    "indexes\n",
    "training_set.drop(indexes, inplace=True)"
   ]
  },
  {
   "cell_type": "markdown",
   "id": "discrete-wednesday",
   "metadata": {
    "papermill": {
     "duration": 0.039878,
     "end_time": "2021-05-11T17:11:25.403719",
     "exception": false,
     "start_time": "2021-05-11T17:11:25.363841",
     "status": "completed"
    },
    "tags": []
   },
   "source": [
    "# Correlation matrix"
   ]
  },
  {
   "cell_type": "code",
   "execution_count": 17,
   "id": "compressed-thickness",
   "metadata": {
    "execution": {
     "iopub.execute_input": "2021-05-11T17:11:25.488689Z",
     "iopub.status.busy": "2021-05-11T17:11:25.487881Z",
     "iopub.status.idle": "2021-05-11T17:11:25.978716Z",
     "shell.execute_reply": "2021-05-11T17:11:25.978228Z"
    },
    "papermill": {
     "duration": 0.534599,
     "end_time": "2021-05-11T17:11:25.978846",
     "exception": false,
     "start_time": "2021-05-11T17:11:25.444247",
     "status": "completed"
    },
    "tags": []
   },
   "outputs": [
    {
     "data": {
      "text/plain": [
       "<AxesSubplot:>"
      ]
     },
     "execution_count": 17,
     "metadata": {},
     "output_type": "execute_result"
    },
    {
     "data": {
      "image/png": "[encoded data removed]",
      "text/plain": [
       "<Figure size 432x288 with 2 Axes>"
      ]
     },
     "metadata": {
      "needs_background": "light"
     },
     "output_type": "display_data"
    }
   ],
   "source": [
    "correlation_matrix = training_set.corr()\n",
    "sn.heatmap(correlation_matrix, annot = True)"
   ]
  },
  {
   "cell_type": "code",
   "execution_count": 18,
   "id": "endless-verification",
   "metadata": {
    "execution": {
     "iopub.execute_input": "2021-05-11T17:11:26.072819Z",
     "iopub.status.busy": "2021-05-11T17:11:26.071933Z",
     "iopub.status.idle": "2021-05-11T17:11:26.076324Z",
     "shell.execute_reply": "2021-05-11T17:11:26.075688Z"
    },
    "papermill": {
     "duration": 0.056666,
     "end_time": "2021-05-11T17:11:26.076457",
     "exception": false,
     "start_time": "2021-05-11T17:11:26.019791",
     "status": "completed"
    },
    "tags": []
   },
   "outputs": [
    {
     "data": {
      "text/html": [
       "<div>\n",
       "<style scoped>\n",
       "    .dataframe tbody tr th:only-of-type {\n",
       "        vertical-align: middle;\n",
       "    }\n",
       "\n",
       "    .dataframe tbody tr th {\n",
       "        vertical-align: top;\n",
       "    }\n",
       "\n",
       "    .dataframe thead th {\n",
       "        text-align: right;\n",
       "    }\n",
       "</style>\n",
       "<table border=\"1\" class=\"dataframe\">\n",
       "  <thead>\n",
       "    <tr style=\"text-align: right;\">\n",
       "      <th></th>\n",
       "      <th>PassengerId</th>\n",
       "      <th>Pclass</th>\n",
       "      <th>Sex</th>\n",
       "      <th>Age</th>\n",
       "      <th>SibSp</th>\n",
       "      <th>Parch</th>\n",
       "      <th>Fare</th>\n",
       "      <th>Embarked</th>\n",
       "    </tr>\n",
       "  </thead>\n",
       "  <tbody>\n",
       "    <tr>\n",
       "      <th>0</th>\n",
       "      <td>892</td>\n",
       "      <td>3</td>\n",
       "      <td>male</td>\n",
       "      <td>34.5</td>\n",
       "      <td>0</td>\n",
       "      <td>0</td>\n",
       "      <td>7.8292</td>\n",
       "      <td>Q</td>\n",
       "    </tr>\n",
       "    <tr>\n",
       "      <th>1</th>\n",
       "      <td>893</td>\n",
       "      <td>3</td>\n",
       "      <td>female</td>\n",
       "      <td>47.0</td>\n",
       "      <td>1</td>\n",
       "      <td>0</td>\n",
       "      <td>7.0000</td>\n",
       "      <td>S</td>\n",
       "    </tr>\n",
       "    <tr>\n",
       "      <th>2</th>\n",
       "      <td>894</td>\n",
       "      <td>2</td>\n",
       "      <td>male</td>\n",
       "      <td>62.0</td>\n",
       "      <td>0</td>\n",
       "      <td>0</td>\n",
       "      <td>9.6875</td>\n",
       "      <td>Q</td>\n",
       "    </tr>\n",
       "    <tr>\n",
       "      <th>3</th>\n",
       "      <td>895</td>\n",
       "      <td>3</td>\n",
       "      <td>male</td>\n",
       "      <td>27.0</td>\n",
       "      <td>0</td>\n",
       "      <td>0</td>\n",
       "      <td>8.6625</td>\n",
       "      <td>S</td>\n",
       "    </tr>\n",
       "    <tr>\n",
       "      <th>4</th>\n",
       "      <td>896</td>\n",
       "      <td>3</td>\n",
       "      <td>female</td>\n",
       "      <td>22.0</td>\n",
       "      <td>1</td>\n",
       "      <td>1</td>\n",
       "      <td>12.2875</td>\n",
       "      <td>S</td>\n",
       "    </tr>\n",
       "  </tbody>\n",
       "</table>\n",
       "</div>"
      ],
      "text/plain": [
       "   PassengerId  Pclass     Sex   Age  SibSp  Parch     Fare Embarked\n",
       "0          892       3    male  34.5      0      0   7.8292        Q\n",
       "1          893       3  female  47.0      1      0   7.0000        S\n",
       "2          894       2    male  62.0      0      0   9.6875        Q\n",
       "3          895       3    male  27.0      0      0   8.6625        S\n",
       "4          896       3  female  22.0      1      1  12.2875        S"
      ]
     },
     "execution_count": 18,
     "metadata": {},
     "output_type": "execute_result"
    }
   ],
   "source": [
    "test_set.head()"
   ]
  },
  {
   "cell_type": "markdown",
   "id": "bound-morgan",
   "metadata": {
    "papermill": {
     "duration": 0.041335,
     "end_time": "2021-05-11T17:11:26.159362",
     "exception": false,
     "start_time": "2021-05-11T17:11:26.118027",
     "status": "completed"
    },
    "tags": []
   },
   "source": [
    "1. Survival rate PClass"
   ]
  },
  {
   "cell_type": "code",
   "execution_count": 19,
   "id": "modern-valley",
   "metadata": {
    "execution": {
     "iopub.execute_input": "2021-05-11T17:11:26.255857Z",
     "iopub.status.busy": "2021-05-11T17:11:26.254915Z",
     "iopub.status.idle": "2021-05-11T17:11:26.258596Z",
     "shell.execute_reply": "2021-05-11T17:11:26.259129Z"
    },
    "papermill": {
     "duration": 0.058003,
     "end_time": "2021-05-11T17:11:26.259289",
     "exception": false,
     "start_time": "2021-05-11T17:11:26.201286",
     "status": "completed"
    },
    "tags": []
   },
   "outputs": [
    {
     "data": {
      "text/html": [
       "<div>\n",
       "<style scoped>\n",
       "    .dataframe tbody tr th:only-of-type {\n",
       "        vertical-align: middle;\n",
       "    }\n",
       "\n",
       "    .dataframe tbody tr th {\n",
       "        vertical-align: top;\n",
       "    }\n",
       "\n",
       "    .dataframe thead th {\n",
       "        text-align: right;\n",
       "    }\n",
       "</style>\n",
       "<table border=\"1\" class=\"dataframe\">\n",
       "  <thead>\n",
       "    <tr style=\"text-align: right;\">\n",
       "      <th></th>\n",
       "      <th>PassengerId</th>\n",
       "      <th>Survived</th>\n",
       "      <th>Pclass</th>\n",
       "      <th>Sex</th>\n",
       "      <th>Age</th>\n",
       "      <th>SibSp</th>\n",
       "      <th>Parch</th>\n",
       "      <th>Fare</th>\n",
       "      <th>Embarked</th>\n",
       "    </tr>\n",
       "  </thead>\n",
       "  <tbody>\n",
       "    <tr>\n",
       "      <th>0</th>\n",
       "      <td>1</td>\n",
       "      <td>0</td>\n",
       "      <td>3</td>\n",
       "      <td>male</td>\n",
       "      <td>22.0</td>\n",
       "      <td>1</td>\n",
       "      <td>0</td>\n",
       "      <td>7.2500</td>\n",
       "      <td>S</td>\n",
       "    </tr>\n",
       "    <tr>\n",
       "      <th>1</th>\n",
       "      <td>2</td>\n",
       "      <td>1</td>\n",
       "      <td>1</td>\n",
       "      <td>female</td>\n",
       "      <td>38.0</td>\n",
       "      <td>1</td>\n",
       "      <td>0</td>\n",
       "      <td>71.2833</td>\n",
       "      <td>C</td>\n",
       "    </tr>\n",
       "    <tr>\n",
       "      <th>2</th>\n",
       "      <td>3</td>\n",
       "      <td>1</td>\n",
       "      <td>3</td>\n",
       "      <td>female</td>\n",
       "      <td>26.0</td>\n",
       "      <td>0</td>\n",
       "      <td>0</td>\n",
       "      <td>7.9250</td>\n",
       "      <td>S</td>\n",
       "    </tr>\n",
       "    <tr>\n",
       "      <th>3</th>\n",
       "      <td>4</td>\n",
       "      <td>1</td>\n",
       "      <td>1</td>\n",
       "      <td>female</td>\n",
       "      <td>35.0</td>\n",
       "      <td>1</td>\n",
       "      <td>0</td>\n",
       "      <td>53.1000</td>\n",
       "      <td>S</td>\n",
       "    </tr>\n",
       "    <tr>\n",
       "      <th>4</th>\n",
       "      <td>5</td>\n",
       "      <td>0</td>\n",
       "      <td>3</td>\n",
       "      <td>male</td>\n",
       "      <td>35.0</td>\n",
       "      <td>0</td>\n",
       "      <td>0</td>\n",
       "      <td>8.0500</td>\n",
       "      <td>S</td>\n",
       "    </tr>\n",
       "  </tbody>\n",
       "</table>\n",
       "</div>"
      ],
      "text/plain": [
       "   PassengerId  Survived  Pclass     Sex   Age  SibSp  Parch     Fare Embarked\n",
       "0            1         0       3    male  22.0      1      0   7.2500        S\n",
       "1            2         1       1  female  38.0      1      0  71.2833        C\n",
       "2            3         1       3  female  26.0      0      0   7.9250        S\n",
       "3            4         1       1  female  35.0      1      0  53.1000        S\n",
       "4            5         0       3    male  35.0      0      0   8.0500        S"
      ]
     },
     "execution_count": 19,
     "metadata": {},
     "output_type": "execute_result"
    }
   ],
   "source": [
    "training_set.head()"
   ]
  },
  {
   "cell_type": "code",
   "execution_count": 20,
   "id": "better-jacket",
   "metadata": {
    "execution": {
     "iopub.execute_input": "2021-05-11T17:11:26.376833Z",
     "iopub.status.busy": "2021-05-11T17:11:26.375839Z",
     "iopub.status.idle": "2021-05-11T17:11:26.495730Z",
     "shell.execute_reply": "2021-05-11T17:11:26.494737Z"
    },
    "papermill": {
     "duration": 0.194914,
     "end_time": "2021-05-11T17:11:26.495870",
     "exception": false,
     "start_time": "2021-05-11T17:11:26.300956",
     "status": "completed"
    },
    "tags": []
   },
   "outputs": [
    {
     "name": "stdout",
     "output_type": "stream",
     "text": [
      "[1 2 3]\n",
      "Survival rate classes: \n",
      "[0.6, 0.47, 0.25]\n"
     ]
    },
    {
     "data": {
      "image/png": "[encoded data removed]",
      "text/plain": [
       "<Figure size 432x288 with 1 Axes>"
      ]
     },
     "metadata": {
      "needs_background": "light"
     },
     "output_type": "display_data"
    }
   ],
   "source": [
    "classes = training_set.Pclass.unique()\n",
    "classes.sort()\n",
    "survival_rate_classes = []\n",
    "# .loc - get rows by the name of a column\n",
    "\n",
    "for i in classes:\n",
    "    class_i = training_set.loc[training_set.Pclass == i][\"Survived\"]\n",
    "    survival_rate_classes.append(round(sum(class_i)/len(class_i),2))\n",
    "\n",
    "print(classes)\n",
    "print('Survival rate classes: ')\n",
    "print(survival_rate_classes)\n",
    "\n",
    "\n",
    "plt.bar(classes, survival_rate_classes)\n",
    "plt.title(\"Survival Rate - Passenger Class\")\n",
    "plt.xlabel(\"Class\")\n",
    "plt.ylabel(\"Survival Rate\")\n",
    "plt.show()"
   ]
  },
  {
   "cell_type": "markdown",
   "id": "portable-philippines",
   "metadata": {
    "papermill": {
     "duration": 0.042761,
     "end_time": "2021-05-11T17:11:26.581490",
     "exception": false,
     "start_time": "2021-05-11T17:11:26.538729",
     "status": "completed"
    },
    "tags": []
   },
   "source": [
    "2. Survival rate per Sex"
   ]
  },
  {
   "cell_type": "code",
   "execution_count": 21,
   "id": "rapid-nerve",
   "metadata": {
    "execution": {
     "iopub.execute_input": "2021-05-11T17:11:26.678319Z",
     "iopub.status.busy": "2021-05-11T17:11:26.677332Z",
     "iopub.status.idle": "2021-05-11T17:11:26.792918Z",
     "shell.execute_reply": "2021-05-11T17:11:26.792295Z"
    },
    "papermill": {
     "duration": 0.16734,
     "end_time": "2021-05-11T17:11:26.793044",
     "exception": false,
     "start_time": "2021-05-11T17:11:26.625704",
     "status": "completed"
    },
    "tags": []
   },
   "outputs": [
    {
     "name": "stdout",
     "output_type": "stream",
     "text": [
      "Survival rates: \n",
      "[0.18, 0.73]\n"
     ]
    },
    {
     "data": {
      "image/png": "[encoded data removed]",
      "text/plain": [
       "<Figure size 432x288 with 1 Axes>"
      ]
     },
     "metadata": {
      "needs_background": "light"
     },
     "output_type": "display_data"
    }
   ],
   "source": [
    "sex = training_set.Sex.unique()\n",
    "survival_rate_sex = []\n",
    "\n",
    "for i in sex:\n",
    "    sex_i = training_set.loc[training_set.Sex == i][\"Survived\"]\n",
    "    survival_rate_sex.append(round(sum(sex_i)/len(sex_i),2))\n",
    "    \n",
    "print('Survival rates: ')\n",
    "print(survival_rate_sex)\n",
    "\n",
    "plt.bar(sex, survival_rate_sex)\n",
    "plt.title(\"Survival Rate - Passenger Sexes\")\n",
    "plt.xlabel(\"Sex\")\n",
    "plt.ylabel(\"Survival Rate\")\n",
    "plt.show()"
   ]
  },
  {
   "cell_type": "markdown",
   "id": "nearby-print",
   "metadata": {
    "papermill": {
     "duration": 0.043986,
     "end_time": "2021-05-11T17:11:26.881179",
     "exception": false,
     "start_time": "2021-05-11T17:11:26.837193",
     "status": "completed"
    },
    "tags": []
   },
   "source": [
    "3. Survival rate per Age bucket"
   ]
  },
  {
   "cell_type": "code",
   "execution_count": 22,
   "id": "portable-celtic",
   "metadata": {
    "execution": {
     "iopub.execute_input": "2021-05-11T17:11:26.973982Z",
     "iopub.status.busy": "2021-05-11T17:11:26.973189Z",
     "iopub.status.idle": "2021-05-11T17:11:26.990373Z",
     "shell.execute_reply": "2021-05-11T17:11:26.989862Z"
    },
    "papermill": {
     "duration": 0.064565,
     "end_time": "2021-05-11T17:11:26.990501",
     "exception": false,
     "start_time": "2021-05-11T17:11:26.925936",
     "status": "completed"
    },
    "tags": []
   },
   "outputs": [
    {
     "name": "stdout",
     "output_type": "stream",
     "text": [
      "Age categories: \n",
      "1\n",
      "[0.54]\n",
      "2\n",
      "[0.54, 0.33]\n",
      "3\n",
      "[0.54, 0.33, 0.36]\n",
      "4\n",
      "[0.54, 0.33, 0.36, 0.43]\n",
      "5\n",
      "[0.54, 0.33, 0.36, 0.43, 0.09]\n"
     ]
    }
   ],
   "source": [
    "max_age = max(training_set.Age)\n",
    "AgeGroup = pd.cut(round(training_set.Age), bins = 5, labels=[\"1\", \"2\", \"3\", \"4\", \"5\"], ordered = True)\n",
    "print('Age categories: ')\n",
    "age_categories = AgeGroup.unique()\n",
    "\n",
    "survival_rate_age = []\n",
    "\n",
    "for i in range(1,6):\n",
    "    cat = training_set.loc[AgeGroup == str(i)][\"Survived\"]\n",
    "    survival_rate_age.append(round(sum(cat)/len(cat),2))\n",
    "    print(i)\n",
    "    print(survival_rate_age)"
   ]
  },
  {
   "cell_type": "markdown",
   "id": "pleasant-kinase",
   "metadata": {
    "papermill": {
     "duration": 0.044366,
     "end_time": "2021-05-11T17:11:27.079312",
     "exception": false,
     "start_time": "2021-05-11T17:11:27.034946",
     "status": "completed"
    },
    "tags": []
   },
   "source": [
    "4. Survival rate by # of siblings / spouses aboard the Titanic"
   ]
  },
  {
   "cell_type": "code",
   "execution_count": 23,
   "id": "sexual-roman",
   "metadata": {
    "execution": {
     "iopub.execute_input": "2021-05-11T17:11:27.177066Z",
     "iopub.status.busy": "2021-05-11T17:11:27.176383Z",
     "iopub.status.idle": "2021-05-11T17:11:27.323154Z",
     "shell.execute_reply": "2021-05-11T17:11:27.323631Z"
    },
    "papermill": {
     "duration": 0.199537,
     "end_time": "2021-05-11T17:11:27.323812",
     "exception": false,
     "start_time": "2021-05-11T17:11:27.124275",
     "status": "completed"
    },
    "tags": []
   },
   "outputs": [
    {
     "data": {
      "image/png": "[encoded data removed]",
      "text/plain": [
       "<Figure size 432x288 with 1 Axes>"
      ]
     },
     "metadata": {
      "needs_background": "light"
     },
     "output_type": "display_data"
    }
   ],
   "source": [
    "sibsp_categories = []\n",
    "sibsp_categories = training_set.Parch.unique()\n",
    "sibsp_categories.sort()\n",
    "\n",
    "survival_rate_sibsp = []\n",
    "\n",
    "for i in sibsp_categories:\n",
    "    cat = training_set.loc[training_set.Parch == i][\"Survived\"]\n",
    "    survival_rate_sibsp.append(round(sum(cat)/len(cat),2))\n",
    "\n",
    "plt.bar(sibsp_categories, survival_rate_sibsp)\n",
    "plt.title(\"Survival Rate - Number of Siblings/Spouses aboard\")\n",
    "plt.xlabel(\"Number of Siblings/Spouses\")\n",
    "plt.ylabel(\"Survival Rate\")\n",
    "plt.show()"
   ]
  },
  {
   "cell_type": "markdown",
   "id": "sunset-complex",
   "metadata": {
    "papermill": {
     "duration": 0.045645,
     "end_time": "2021-05-11T17:11:27.414791",
     "exception": false,
     "start_time": "2021-05-11T17:11:27.369146",
     "status": "completed"
    },
    "tags": []
   },
   "source": [
    "5. Survival rate by # of parents / children aboard the Titanic"
   ]
  },
  {
   "cell_type": "code",
   "execution_count": 24,
   "id": "lightweight-employer",
   "metadata": {
    "execution": {
     "iopub.execute_input": "2021-05-11T17:11:27.509419Z",
     "iopub.status.busy": "2021-05-11T17:11:27.508863Z",
     "iopub.status.idle": "2021-05-11T17:11:27.651464Z",
     "shell.execute_reply": "2021-05-11T17:11:27.651949Z"
    },
    "papermill": {
     "duration": 0.191263,
     "end_time": "2021-05-11T17:11:27.652129",
     "exception": false,
     "start_time": "2021-05-11T17:11:27.460866",
     "status": "completed"
    },
    "tags": []
   },
   "outputs": [
    {
     "data": {
      "image/png": "[encoded data removed]",
      "text/plain": [
       "<Figure size 432x288 with 1 Axes>"
      ]
     },
     "metadata": {
      "needs_background": "light"
     },
     "output_type": "display_data"
    }
   ],
   "source": [
    "parch_categories = []\n",
    "parch_categories = training_set.SibSp.unique()\n",
    "parch_categories.sort()\n",
    "\n",
    "survival_rate_parch = []\n",
    "\n",
    "for i in parch_categories:\n",
    "    cat = training_set.loc[training_set.SibSp == i][\"Survived\"]\n",
    "    survival_rate_parch.append(round(sum(cat)/len(cat),2))\n",
    "\n",
    "plt.bar(parch_categories, survival_rate_parch)\n",
    "plt.title(\"Survival Rate - Number of Parents/Children aboard\")\n",
    "plt.xlabel(\"Number of Parents/Children\")\n",
    "plt.ylabel(\"Survival Rate\")\n",
    "plt.show()"
   ]
  },
  {
   "cell_type": "markdown",
   "id": "married-damage",
   "metadata": {
    "papermill": {
     "duration": 0.046756,
     "end_time": "2021-05-11T17:11:27.746523",
     "exception": false,
     "start_time": "2021-05-11T17:11:27.699767",
     "status": "completed"
    },
    "tags": []
   },
   "source": [
    "6. Fare"
   ]
  },
  {
   "cell_type": "code",
   "execution_count": 25,
   "id": "equivalent-moment",
   "metadata": {
    "execution": {
     "iopub.execute_input": "2021-05-11T17:11:27.842580Z",
     "iopub.status.busy": "2021-05-11T17:11:27.841966Z",
     "iopub.status.idle": "2021-05-11T17:11:27.844856Z",
     "shell.execute_reply": "2021-05-11T17:11:27.845412Z"
    },
    "papermill": {
     "duration": 0.051644,
     "end_time": "2021-05-11T17:11:27.845556",
     "exception": false,
     "start_time": "2021-05-11T17:11:27.793912",
     "status": "completed"
    },
    "tags": []
   },
   "outputs": [],
   "source": [
    "# Fare - feature scaling"
   ]
  },
  {
   "cell_type": "markdown",
   "id": "electric-nitrogen",
   "metadata": {
    "papermill": {
     "duration": 0.045769,
     "end_time": "2021-05-11T17:11:27.936770",
     "exception": false,
     "start_time": "2021-05-11T17:11:27.891001",
     "status": "completed"
    },
    "tags": []
   },
   "source": [
    "7. Port of Embarkation"
   ]
  },
  {
   "cell_type": "markdown",
   "id": "sunrise-skating",
   "metadata": {
    "papermill": {
     "duration": 0.045438,
     "end_time": "2021-05-11T17:11:28.029434",
     "exception": false,
     "start_time": "2021-05-11T17:11:27.983996",
     "status": "completed"
    },
    "tags": []
   },
   "source": [
    "# Categorical data"
   ]
  },
  {
   "cell_type": "code",
   "execution_count": 26,
   "id": "persistent-hobby",
   "metadata": {
    "execution": {
     "iopub.execute_input": "2021-05-11T17:11:28.137390Z",
     "iopub.status.busy": "2021-05-11T17:11:28.131969Z",
     "iopub.status.idle": "2021-05-11T17:11:28.142691Z",
     "shell.execute_reply": "2021-05-11T17:11:28.142210Z"
    },
    "papermill": {
     "duration": 0.06667,
     "end_time": "2021-05-11T17:11:28.142843",
     "exception": false,
     "start_time": "2021-05-11T17:11:28.076173",
     "status": "completed"
    },
    "tags": []
   },
   "outputs": [],
   "source": [
    "training_set = pd.get_dummies(training_set, columns=['Pclass', 'Sex', 'Embarked' ], drop_first= True)\n",
    "test_set = pd.get_dummies(test_set, columns=['Pclass', 'Sex', 'Embarked' ], drop_first= True)"
   ]
  },
  {
   "cell_type": "markdown",
   "id": "floating-stream",
   "metadata": {
    "papermill": {
     "duration": 0.046117,
     "end_time": "2021-05-11T17:11:28.235655",
     "exception": false,
     "start_time": "2021-05-11T17:11:28.189538",
     "status": "completed"
    },
    "tags": []
   },
   "source": [
    "# Creating the matrix of features and dependent variable vector"
   ]
  },
  {
   "cell_type": "code",
   "execution_count": 27,
   "id": "headed-lucas",
   "metadata": {
    "execution": {
     "iopub.execute_input": "2021-05-11T17:11:28.336258Z",
     "iopub.status.busy": "2021-05-11T17:11:28.335313Z",
     "iopub.status.idle": "2021-05-11T17:11:28.338312Z",
     "shell.execute_reply": "2021-05-11T17:11:28.337742Z"
    },
    "papermill": {
     "duration": 0.05605,
     "end_time": "2021-05-11T17:11:28.338431",
     "exception": false,
     "start_time": "2021-05-11T17:11:28.282381",
     "status": "completed"
    },
    "tags": []
   },
   "outputs": [],
   "source": [
    "x_train = training_set.iloc[:,training_set.columns != 'Survived']\n",
    "y_train = training_set.iloc[:,training_set.columns == 'Survived'].values.reshape(-1,1)\n",
    "\n",
    "x_test = test_set"
   ]
  },
  {
   "cell_type": "markdown",
   "id": "artificial-congo",
   "metadata": {
    "papermill": {
     "duration": 0.046397,
     "end_time": "2021-05-11T17:11:28.431174",
     "exception": false,
     "start_time": "2021-05-11T17:11:28.384777",
     "status": "completed"
    },
    "tags": []
   },
   "source": [
    "# Standard scaling"
   ]
  },
  {
   "cell_type": "code",
   "execution_count": 28,
   "id": "nasty-curve",
   "metadata": {
    "execution": {
     "iopub.execute_input": "2021-05-11T17:11:28.533708Z",
     "iopub.status.busy": "2021-05-11T17:11:28.532714Z",
     "iopub.status.idle": "2021-05-11T17:11:28.547166Z",
     "shell.execute_reply": "2021-05-11T17:11:28.547636Z"
    },
    "papermill": {
     "duration": 0.069437,
     "end_time": "2021-05-11T17:11:28.547792",
     "exception": false,
     "start_time": "2021-05-11T17:11:28.478355",
     "status": "completed"
    },
    "tags": []
   },
   "outputs": [],
   "source": [
    "from sklearn.preprocessing import StandardScaler\n",
    "scaler = StandardScaler()\n",
    "features_to_scale = ['Age','SibSp','Parch','Fare']\n",
    "\n",
    "x_train[features_to_scale] = scaler.fit_transform(x_train[features_to_scale])\n",
    "x_test[features_to_scale] = scaler.fit_transform(x_test[features_to_scale])"
   ]
  },
  {
   "cell_type": "markdown",
   "id": "surprising-statistics",
   "metadata": {
    "papermill": {
     "duration": 0.047184,
     "end_time": "2021-05-11T17:11:28.642174",
     "exception": false,
     "start_time": "2021-05-11T17:11:28.594990",
     "status": "completed"
    },
    "tags": []
   },
   "source": [
    "****"
   ]
  },
  {
   "cell_type": "markdown",
   "id": "mediterranean-compiler",
   "metadata": {
    "papermill": {
     "duration": 0.046429,
     "end_time": "2021-05-11T17:11:28.735844",
     "exception": false,
     "start_time": "2021-05-11T17:11:28.689415",
     "status": "completed"
    },
    "tags": []
   },
   "source": [
    "# Fitting the model"
   ]
  },
  {
   "cell_type": "markdown",
   "id": "clear-partnership",
   "metadata": {
    "papermill": {
     "duration": 0.046447,
     "end_time": "2021-05-11T17:11:28.829912",
     "exception": false,
     "start_time": "2021-05-11T17:11:28.783465",
     "status": "completed"
    },
    "tags": []
   },
   "source": [
    "# Support Vector Machine\n",
    "Random Forest\n",
    "Extreme Gradient Boosting"
   ]
  },
  {
   "cell_type": "code",
   "execution_count": 29,
   "id": "explicit-indie",
   "metadata": {
    "execution": {
     "iopub.execute_input": "2021-05-11T17:11:28.929840Z",
     "iopub.status.busy": "2021-05-11T17:11:28.929175Z",
     "iopub.status.idle": "2021-05-11T17:11:53.566000Z",
     "shell.execute_reply": "2021-05-11T17:11:53.566536Z"
    },
    "papermill": {
     "duration": 24.68971,
     "end_time": "2021-05-11T17:11:53.566713",
     "exception": false,
     "start_time": "2021-05-11T17:11:28.877003",
     "status": "completed"
    },
    "tags": []
   },
   "outputs": [
    {
     "name": "stdout",
     "output_type": "stream",
     "text": [
      "     PassengerId       Age     SibSp     Parch      Fare  Pclass_2  Pclass_3  \\\n",
      "0              1 -0.554792  0.621076 -0.440288 -0.720891         0         1   \n",
      "1              2  0.675557  0.621076 -0.440288  2.411879         0         0   \n",
      "2              3 -0.247205 -0.509391 -0.440288 -0.687867         0         1   \n",
      "3              4  0.444867  0.621076 -0.440288  1.522278         0         0   \n",
      "4              5  0.444867 -0.509391 -0.440288 -0.681752         0         1   \n",
      "..           ...       ...       ...       ...       ...       ...       ...   \n",
      "886          887 -0.170308 -0.509391 -0.440288 -0.439577         1         0   \n",
      "887          888 -0.785482 -0.509391 -0.440288  0.392132         0         0   \n",
      "888          889 -0.093411  0.621076  2.236919  0.071679         0         1   \n",
      "889          890 -0.247205 -0.509391 -0.440288  0.392132         0         0   \n",
      "890          891  0.214176 -0.509391 -0.440288 -0.696429         0         1   \n",
      "\n",
      "     Sex_male  Embarked_Q  Embarked_S  \n",
      "0           1           0           1  \n",
      "1           0           0           0  \n",
      "2           0           0           1  \n",
      "3           0           0           1  \n",
      "4           1           0           1  \n",
      "..        ...         ...         ...  \n",
      "886         1           0           1  \n",
      "887         0           0           1  \n",
      "888         0           0           1  \n",
      "889         1           0           0  \n",
      "890         1           1           0  \n",
      "\n",
      "[830 rows x 10 columns]\n"
     ]
    },
    {
     "data": {
      "text/plain": [
       "SVC(kernel='linear', random_state=0)"
      ]
     },
     "execution_count": 29,
     "metadata": {},
     "output_type": "execute_result"
    }
   ],
   "source": [
    "from sklearn.svm import SVC\n",
    "classifier_svm = SVC(kernel = 'linear', random_state = 0)\n",
    "\n",
    "print(x_train)\n",
    "classifier_svm.fit(x_train, y_train)"
   ]
  },
  {
   "cell_type": "code",
   "execution_count": 30,
   "id": "beneficial-symbol",
   "metadata": {
    "execution": {
     "iopub.execute_input": "2021-05-11T17:11:53.669217Z",
     "iopub.status.busy": "2021-05-11T17:11:53.668502Z",
     "iopub.status.idle": "2021-05-11T17:11:54.017748Z",
     "shell.execute_reply": "2021-05-11T17:11:54.018255Z"
    },
    "papermill": {
     "duration": 0.402518,
     "end_time": "2021-05-11T17:11:54.018432",
     "exception": false,
     "start_time": "2021-05-11T17:11:53.615914",
     "status": "completed"
    },
    "tags": []
   },
   "outputs": [
    {
     "data": {
      "text/plain": [
       "RandomForestClassifier(random_state=0)"
      ]
     },
     "execution_count": 30,
     "metadata": {},
     "output_type": "execute_result"
    }
   ],
   "source": [
    "from sklearn.ensemble import RandomForestClassifier\n",
    "classifier_rf = RandomForestClassifier(random_state = 0)\n",
    "classifier_rf.fit(x_train, y_train)"
   ]
  },
  {
   "cell_type": "code",
   "execution_count": 31,
   "id": "informational-finland",
   "metadata": {
    "execution": {
     "iopub.execute_input": "2021-05-11T17:11:54.121834Z",
     "iopub.status.busy": "2021-05-11T17:11:54.120965Z",
     "iopub.status.idle": "2021-05-11T17:11:54.297254Z",
     "shell.execute_reply": "2021-05-11T17:11:54.296726Z"
    },
    "papermill": {
     "duration": 0.228785,
     "end_time": "2021-05-11T17:11:54.297398",
     "exception": false,
     "start_time": "2021-05-11T17:11:54.068613",
     "status": "completed"
    },
    "tags": []
   },
   "outputs": [
    {
     "name": "stdout",
     "output_type": "stream",
     "text": [
      "[17:11:54] WARNING: ../src/learner.cc:1095: Starting in XGBoost 1.3.0, the default evaluation metric used with the objective 'binary:logistic' was changed from 'error' to 'logloss'. Explicitly set eval_metric if you'd like to restore the old behavior.\n"
     ]
    },
    {
     "data": {
      "text/plain": [
       "XGBClassifier(base_score=0.5, booster='gbtree', colsample_bylevel=1,\n",
       "              colsample_bynode=1, colsample_bytree=1, gamma=0, gpu_id=-1,\n",
       "              importance_type='gain', interaction_constraints='',\n",
       "              learning_rate=0.300000012, max_delta_step=0, max_depth=6,\n",
       "              min_child_weight=1, missing=nan, monotone_constraints='()',\n",
       "              n_estimators=100, n_jobs=4, num_parallel_tree=1, random_state=0,\n",
       "              reg_alpha=0, reg_lambda=1, scale_pos_weight=1, subsample=1,\n",
       "              tree_method='exact', validate_parameters=1, verbosity=None)"
      ]
     },
     "execution_count": 31,
     "metadata": {},
     "output_type": "execute_result"
    }
   ],
   "source": [
    "from xgboost import XGBClassifier\n",
    "classifier_xgb = XGBClassifier()\n",
    "classifier_xgb.fit(x_train, y_train)"
   ]
  },
  {
   "cell_type": "code",
   "execution_count": 32,
   "id": "adequate-summer",
   "metadata": {
    "execution": {
     "iopub.execute_input": "2021-05-11T17:11:54.403945Z",
     "iopub.status.busy": "2021-05-11T17:11:54.403256Z",
     "iopub.status.idle": "2021-05-11T17:11:54.448371Z",
     "shell.execute_reply": "2021-05-11T17:11:54.448856Z"
    },
    "papermill": {
     "duration": 0.101324,
     "end_time": "2021-05-11T17:11:54.449037",
     "exception": false,
     "start_time": "2021-05-11T17:11:54.347713",
     "status": "completed"
    },
    "tags": []
   },
   "outputs": [
    {
     "data": {
      "text/plain": [
       "LogisticRegression()"
      ]
     },
     "execution_count": 32,
     "metadata": {},
     "output_type": "execute_result"
    }
   ],
   "source": [
    "from sklearn.linear_model import LogisticRegression\n",
    "classifier_lr = LogisticRegression()\n",
    "classifier_lr.fit(x_train, y_train)"
   ]
  },
  {
   "cell_type": "markdown",
   "id": "opening-giant",
   "metadata": {
    "papermill": {
     "duration": 0.050367,
     "end_time": "2021-05-11T17:11:54.549203",
     "exception": false,
     "start_time": "2021-05-11T17:11:54.498836",
     "status": "completed"
    },
    "tags": []
   },
   "source": [
    "# Predicting the test set results"
   ]
  },
  {
   "cell_type": "code",
   "execution_count": 33,
   "id": "married-merchandise",
   "metadata": {
    "execution": {
     "iopub.execute_input": "2021-05-11T17:11:54.657408Z",
     "iopub.status.busy": "2021-05-11T17:11:54.656826Z",
     "iopub.status.idle": "2021-05-11T17:11:54.694612Z",
     "shell.execute_reply": "2021-05-11T17:11:54.695234Z"
    },
    "papermill": {
     "duration": 0.09552,
     "end_time": "2021-05-11T17:11:54.695425",
     "exception": false,
     "start_time": "2021-05-11T17:11:54.599905",
     "status": "completed"
    },
    "tags": []
   },
   "outputs": [],
   "source": [
    "y_pred_svm = classifier_svm.predict(x_test)\n",
    "y_pred_rf = classifier_rf.predict(x_test)\n",
    "y_pred_xgb = classifier_xgb.predict(x_test)\n",
    "y_pred_lr = classifier_lr.predict(x_test)"
   ]
  },
  {
   "cell_type": "markdown",
   "id": "modular-prairie",
   "metadata": {
    "papermill": {
     "duration": 0.04918,
     "end_time": "2021-05-11T17:11:54.795623",
     "exception": false,
     "start_time": "2021-05-11T17:11:54.746443",
     "status": "completed"
    },
    "tags": []
   },
   "source": [
    "# Confusion matrix and accuracy"
   ]
  },
  {
   "cell_type": "code",
   "execution_count": 34,
   "id": "following-investing",
   "metadata": {
    "execution": {
     "iopub.execute_input": "2021-05-11T17:11:54.900103Z",
     "iopub.status.busy": "2021-05-11T17:11:54.899099Z",
     "iopub.status.idle": "2021-05-11T17:11:54.901874Z",
     "shell.execute_reply": "2021-05-11T17:11:54.901317Z"
    },
    "papermill": {
     "duration": 0.055904,
     "end_time": "2021-05-11T17:11:54.901995",
     "exception": false,
     "start_time": "2021-05-11T17:11:54.846091",
     "status": "completed"
    },
    "tags": []
   },
   "outputs": [],
   "source": [
    "#from sklearn.metrics import confusion_matrix, accuracy_score\n",
    "#cm = confusion_matrix(y_test, y_pred)\n",
    "#print(cm)\n",
    "#accuracy = accuracy_score(y_test, y_pred)\n",
    "#print(accuracy)"
   ]
  },
  {
   "cell_type": "markdown",
   "id": "exterior-credits",
   "metadata": {
    "papermill": {
     "duration": 0.052197,
     "end_time": "2021-05-11T17:11:55.003999",
     "exception": false,
     "start_time": "2021-05-11T17:11:54.951802",
     "status": "completed"
    },
    "tags": []
   },
   "source": [
    "# Output"
   ]
  },
  {
   "cell_type": "code",
   "execution_count": 35,
   "id": "further-julian",
   "metadata": {
    "execution": {
     "iopub.execute_input": "2021-05-11T17:11:55.108997Z",
     "iopub.status.busy": "2021-05-11T17:11:55.108093Z",
     "iopub.status.idle": "2021-05-11T17:11:55.119962Z",
     "shell.execute_reply": "2021-05-11T17:11:55.119436Z"
    },
    "papermill": {
     "duration": 0.065764,
     "end_time": "2021-05-11T17:11:55.120123",
     "exception": false,
     "start_time": "2021-05-11T17:11:55.054359",
     "status": "completed"
    },
    "tags": []
   },
   "outputs": [
    {
     "name": "stdout",
     "output_type": "stream",
     "text": [
      "Your submission was successfully saved!\n"
     ]
    }
   ],
   "source": [
    "#output = pd.DataFrame({'PassengerId': test_set.PassengerId, 'Survived': y_pred_svm})\n",
    "\n",
    "#output = pd.DataFrame({'PassengerId': test_set.PassengerId, 'Survived': y_pred_rf})\n",
    "\n",
    "output = pd.DataFrame({'PassengerId': test_set.PassengerId, 'Survived': y_pred_xgb})\n",
    "\n",
    "#output = pd.DataFrame({'PassengerId': test_set.PassengerId, 'Survived': y_pred_lr})\n",
    "output.to_csv('my_submission_xgb.csv', index=False)\n",
    "print(\"Your submission was successfully saved!\")"
   ]
  }
 ],
 "metadata": {
  "kernelspec": {
   "display_name": "Python 3",
   "language": "python",
   "name": "python3"
  },
  "language_info": {
   "codemirror_mode": {
    "name": "ipython",
    "version": 3
   },
   "file_extension": ".py",
   "mimetype": "text/x-python",
   "name": "python",
   "nbconvert_exporter": "python",
   "pygments_lexer": "ipython3",
   "version": "3.7.10"
  },
  "papermill": {
   "default_parameters": {},
   "duration": 41.734279,
   "end_time": "2021-05-11T17:11:55.881931",
   "environment_variables": {},
   "exception": null,
   "input_path": "__notebook__.ipynb",
   "output_path": "__notebook__.ipynb",
   "parameters": {},
   "start_time": "2021-05-11T17:11:14.147652",
   "version": "2.3.3"
  }
 },
 "nbformat": 4,
 "nbformat_minor": 5
}
